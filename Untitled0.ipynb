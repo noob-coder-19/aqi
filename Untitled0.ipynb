{
  "nbformat": 4,
  "nbformat_minor": 0,
  "metadata": {
    "colab": {
      "provenance": [],
      "include_colab_link": true
    },
    "kernelspec": {
      "name": "python3",
      "display_name": "Python 3"
    },
    "language_info": {
      "name": "python"
    },
    "widgets": {
      "application/vnd.jupyter.widget-state+json": {
        "d73c0ef2c6d2486c91ed951cfc28f009": {
          "model_module": "@jupyter-widgets/controls",
          "model_name": "HBoxModel",
          "model_module_version": "1.5.0",
          "state": {
            "_dom_classes": [],
            "_model_module": "@jupyter-widgets/controls",
            "_model_module_version": "1.5.0",
            "_model_name": "HBoxModel",
            "_view_count": null,
            "_view_module": "@jupyter-widgets/controls",
            "_view_module_version": "1.5.0",
            "_view_name": "HBoxView",
            "box_style": "",
            "children": [
              "IPY_MODEL_39a99aa00b324f64bcf6f6d03fb6eb4a",
              "IPY_MODEL_6adc5810c7f44acdaa2d666b1ab0d1e3",
              "IPY_MODEL_f61eabba32af4105b55e5d7a1f208e1e"
            ],
            "layout": "IPY_MODEL_2e461f5b0d5c40acbc037879fd83ea2f"
          }
        },
        "39a99aa00b324f64bcf6f6d03fb6eb4a": {
          "model_module": "@jupyter-widgets/controls",
          "model_name": "HTMLModel",
          "model_module_version": "1.5.0",
          "state": {
            "_dom_classes": [],
            "_model_module": "@jupyter-widgets/controls",
            "_model_module_version": "1.5.0",
            "_model_name": "HTMLModel",
            "_view_count": null,
            "_view_module": "@jupyter-widgets/controls",
            "_view_module_version": "1.5.0",
            "_view_name": "HTMLView",
            "description": "",
            "description_tooltip": null,
            "layout": "IPY_MODEL_6270b1260a6349f2a4865b57a37bdaeb",
            "placeholder": "​",
            "style": "IPY_MODEL_f1dde82f114749f28567015890f8797d",
            "value": "Summarize dataset: 100%"
          }
        },
        "6adc5810c7f44acdaa2d666b1ab0d1e3": {
          "model_module": "@jupyter-widgets/controls",
          "model_name": "FloatProgressModel",
          "model_module_version": "1.5.0",
          "state": {
            "_dom_classes": [],
            "_model_module": "@jupyter-widgets/controls",
            "_model_module_version": "1.5.0",
            "_model_name": "FloatProgressModel",
            "_view_count": null,
            "_view_module": "@jupyter-widgets/controls",
            "_view_module_version": "1.5.0",
            "_view_name": "ProgressView",
            "bar_style": "success",
            "description": "",
            "description_tooltip": null,
            "layout": "IPY_MODEL_4afee752e4b94dae90e0a03b37058e55",
            "max": 5,
            "min": 0,
            "orientation": "horizontal",
            "style": "IPY_MODEL_ff60000e6ecf44faa4f20e7c6562d3af",
            "value": 5
          }
        },
        "f61eabba32af4105b55e5d7a1f208e1e": {
          "model_module": "@jupyter-widgets/controls",
          "model_name": "HTMLModel",
          "model_module_version": "1.5.0",
          "state": {
            "_dom_classes": [],
            "_model_module": "@jupyter-widgets/controls",
            "_model_module_version": "1.5.0",
            "_model_name": "HTMLModel",
            "_view_count": null,
            "_view_module": "@jupyter-widgets/controls",
            "_view_module_version": "1.5.0",
            "_view_name": "HTMLView",
            "description": "",
            "description_tooltip": null,
            "layout": "IPY_MODEL_96f5615d2bd24655a2758c49022647ea",
            "placeholder": "​",
            "style": "IPY_MODEL_866784609ff7416089215b9f59c9395d",
            "value": " 29/29 [06:25&lt;00:00, 11.63s/it, Completed]"
          }
        },
        "2e461f5b0d5c40acbc037879fd83ea2f": {
          "model_module": "@jupyter-widgets/base",
          "model_name": "LayoutModel",
          "model_module_version": "1.2.0",
          "state": {
            "_model_module": "@jupyter-widgets/base",
            "_model_module_version": "1.2.0",
            "_model_name": "LayoutModel",
            "_view_count": null,
            "_view_module": "@jupyter-widgets/base",
            "_view_module_version": "1.2.0",
            "_view_name": "LayoutView",
            "align_content": null,
            "align_items": null,
            "align_self": null,
            "border": null,
            "bottom": null,
            "display": null,
            "flex": null,
            "flex_flow": null,
            "grid_area": null,
            "grid_auto_columns": null,
            "grid_auto_flow": null,
            "grid_auto_rows": null,
            "grid_column": null,
            "grid_gap": null,
            "grid_row": null,
            "grid_template_areas": null,
            "grid_template_columns": null,
            "grid_template_rows": null,
            "height": null,
            "justify_content": null,
            "justify_items": null,
            "left": null,
            "margin": null,
            "max_height": null,
            "max_width": null,
            "min_height": null,
            "min_width": null,
            "object_fit": null,
            "object_position": null,
            "order": null,
            "overflow": null,
            "overflow_x": null,
            "overflow_y": null,
            "padding": null,
            "right": null,
            "top": null,
            "visibility": null,
            "width": null
          }
        },
        "6270b1260a6349f2a4865b57a37bdaeb": {
          "model_module": "@jupyter-widgets/base",
          "model_name": "LayoutModel",
          "model_module_version": "1.2.0",
          "state": {
            "_model_module": "@jupyter-widgets/base",
            "_model_module_version": "1.2.0",
            "_model_name": "LayoutModel",
            "_view_count": null,
            "_view_module": "@jupyter-widgets/base",
            "_view_module_version": "1.2.0",
            "_view_name": "LayoutView",
            "align_content": null,
            "align_items": null,
            "align_self": null,
            "border": null,
            "bottom": null,
            "display": null,
            "flex": null,
            "flex_flow": null,
            "grid_area": null,
            "grid_auto_columns": null,
            "grid_auto_flow": null,
            "grid_auto_rows": null,
            "grid_column": null,
            "grid_gap": null,
            "grid_row": null,
            "grid_template_areas": null,
            "grid_template_columns": null,
            "grid_template_rows": null,
            "height": null,
            "justify_content": null,
            "justify_items": null,
            "left": null,
            "margin": null,
            "max_height": null,
            "max_width": null,
            "min_height": null,
            "min_width": null,
            "object_fit": null,
            "object_position": null,
            "order": null,
            "overflow": null,
            "overflow_x": null,
            "overflow_y": null,
            "padding": null,
            "right": null,
            "top": null,
            "visibility": null,
            "width": null
          }
        },
        "f1dde82f114749f28567015890f8797d": {
          "model_module": "@jupyter-widgets/controls",
          "model_name": "DescriptionStyleModel",
          "model_module_version": "1.5.0",
          "state": {
            "_model_module": "@jupyter-widgets/controls",
            "_model_module_version": "1.5.0",
            "_model_name": "DescriptionStyleModel",
            "_view_count": null,
            "_view_module": "@jupyter-widgets/base",
            "_view_module_version": "1.2.0",
            "_view_name": "StyleView",
            "description_width": ""
          }
        },
        "4afee752e4b94dae90e0a03b37058e55": {
          "model_module": "@jupyter-widgets/base",
          "model_name": "LayoutModel",
          "model_module_version": "1.2.0",
          "state": {
            "_model_module": "@jupyter-widgets/base",
            "_model_module_version": "1.2.0",
            "_model_name": "LayoutModel",
            "_view_count": null,
            "_view_module": "@jupyter-widgets/base",
            "_view_module_version": "1.2.0",
            "_view_name": "LayoutView",
            "align_content": null,
            "align_items": null,
            "align_self": null,
            "border": null,
            "bottom": null,
            "display": null,
            "flex": null,
            "flex_flow": null,
            "grid_area": null,
            "grid_auto_columns": null,
            "grid_auto_flow": null,
            "grid_auto_rows": null,
            "grid_column": null,
            "grid_gap": null,
            "grid_row": null,
            "grid_template_areas": null,
            "grid_template_columns": null,
            "grid_template_rows": null,
            "height": null,
            "justify_content": null,
            "justify_items": null,
            "left": null,
            "margin": null,
            "max_height": null,
            "max_width": null,
            "min_height": null,
            "min_width": null,
            "object_fit": null,
            "object_position": null,
            "order": null,
            "overflow": null,
            "overflow_x": null,
            "overflow_y": null,
            "padding": null,
            "right": null,
            "top": null,
            "visibility": null,
            "width": null
          }
        },
        "ff60000e6ecf44faa4f20e7c6562d3af": {
          "model_module": "@jupyter-widgets/controls",
          "model_name": "ProgressStyleModel",
          "model_module_version": "1.5.0",
          "state": {
            "_model_module": "@jupyter-widgets/controls",
            "_model_module_version": "1.5.0",
            "_model_name": "ProgressStyleModel",
            "_view_count": null,
            "_view_module": "@jupyter-widgets/base",
            "_view_module_version": "1.2.0",
            "_view_name": "StyleView",
            "bar_color": null,
            "description_width": ""
          }
        },
        "96f5615d2bd24655a2758c49022647ea": {
          "model_module": "@jupyter-widgets/base",
          "model_name": "LayoutModel",
          "model_module_version": "1.2.0",
          "state": {
            "_model_module": "@jupyter-widgets/base",
            "_model_module_version": "1.2.0",
            "_model_name": "LayoutModel",
            "_view_count": null,
            "_view_module": "@jupyter-widgets/base",
            "_view_module_version": "1.2.0",
            "_view_name": "LayoutView",
            "align_content": null,
            "align_items": null,
            "align_self": null,
            "border": null,
            "bottom": null,
            "display": null,
            "flex": null,
            "flex_flow": null,
            "grid_area": null,
            "grid_auto_columns": null,
            "grid_auto_flow": null,
            "grid_auto_rows": null,
            "grid_column": null,
            "grid_gap": null,
            "grid_row": null,
            "grid_template_areas": null,
            "grid_template_columns": null,
            "grid_template_rows": null,
            "height": null,
            "justify_content": null,
            "justify_items": null,
            "left": null,
            "margin": null,
            "max_height": null,
            "max_width": null,
            "min_height": null,
            "min_width": null,
            "object_fit": null,
            "object_position": null,
            "order": null,
            "overflow": null,
            "overflow_x": null,
            "overflow_y": null,
            "padding": null,
            "right": null,
            "top": null,
            "visibility": null,
            "width": null
          }
        },
        "866784609ff7416089215b9f59c9395d": {
          "model_module": "@jupyter-widgets/controls",
          "model_name": "DescriptionStyleModel",
          "model_module_version": "1.5.0",
          "state": {
            "_model_module": "@jupyter-widgets/controls",
            "_model_module_version": "1.5.0",
            "_model_name": "DescriptionStyleModel",
            "_view_count": null,
            "_view_module": "@jupyter-widgets/base",
            "_view_module_version": "1.2.0",
            "_view_name": "StyleView",
            "description_width": ""
          }
        },
        "60e812cda5024023a9771fcb5f262c00": {
          "model_module": "@jupyter-widgets/controls",
          "model_name": "HBoxModel",
          "model_module_version": "1.5.0",
          "state": {
            "_dom_classes": [],
            "_model_module": "@jupyter-widgets/controls",
            "_model_module_version": "1.5.0",
            "_model_name": "HBoxModel",
            "_view_count": null,
            "_view_module": "@jupyter-widgets/controls",
            "_view_module_version": "1.5.0",
            "_view_name": "HBoxView",
            "box_style": "",
            "children": [
              "IPY_MODEL_9b7c565ab6f14b6cb4308ca20e2cb7ae",
              "IPY_MODEL_b89843ce594d46a385ed74431d415f65",
              "IPY_MODEL_dba891b6012149f9b6a00a148e14662d"
            ],
            "layout": "IPY_MODEL_ac9dfc27aabd4d339be9e28a7f8ad8a4"
          }
        },
        "9b7c565ab6f14b6cb4308ca20e2cb7ae": {
          "model_module": "@jupyter-widgets/controls",
          "model_name": "HTMLModel",
          "model_module_version": "1.5.0",
          "state": {
            "_dom_classes": [],
            "_model_module": "@jupyter-widgets/controls",
            "_model_module_version": "1.5.0",
            "_model_name": "HTMLModel",
            "_view_count": null,
            "_view_module": "@jupyter-widgets/controls",
            "_view_module_version": "1.5.0",
            "_view_name": "HTMLView",
            "description": "",
            "description_tooltip": null,
            "layout": "IPY_MODEL_1eb0daeb92e1471d9c4f66ff4ec14e10",
            "placeholder": "​",
            "style": "IPY_MODEL_2b811c74532e45eb9356fafa781d759d",
            "value": "Generate report structure: 100%"
          }
        },
        "b89843ce594d46a385ed74431d415f65": {
          "model_module": "@jupyter-widgets/controls",
          "model_name": "FloatProgressModel",
          "model_module_version": "1.5.0",
          "state": {
            "_dom_classes": [],
            "_model_module": "@jupyter-widgets/controls",
            "_model_module_version": "1.5.0",
            "_model_name": "FloatProgressModel",
            "_view_count": null,
            "_view_module": "@jupyter-widgets/controls",
            "_view_module_version": "1.5.0",
            "_view_name": "ProgressView",
            "bar_style": "success",
            "description": "",
            "description_tooltip": null,
            "layout": "IPY_MODEL_4fc0f4ca55ac4ebebe98fa2f9267bd6d",
            "max": 1,
            "min": 0,
            "orientation": "horizontal",
            "style": "IPY_MODEL_7e0c48d12a39420b9f5ac939776c9f8c",
            "value": 1
          }
        },
        "dba891b6012149f9b6a00a148e14662d": {
          "model_module": "@jupyter-widgets/controls",
          "model_name": "HTMLModel",
          "model_module_version": "1.5.0",
          "state": {
            "_dom_classes": [],
            "_model_module": "@jupyter-widgets/controls",
            "_model_module_version": "1.5.0",
            "_model_name": "HTMLModel",
            "_view_count": null,
            "_view_module": "@jupyter-widgets/controls",
            "_view_module_version": "1.5.0",
            "_view_name": "HTMLView",
            "description": "",
            "description_tooltip": null,
            "layout": "IPY_MODEL_a6c2dbfa7a6d46eeb43f1a1cb2e05da5",
            "placeholder": "​",
            "style": "IPY_MODEL_8c7a2bf98f044d8e925fd179d28fb390",
            "value": " 1/1 [00:06&lt;00:00,  6.34s/it]"
          }
        },
        "ac9dfc27aabd4d339be9e28a7f8ad8a4": {
          "model_module": "@jupyter-widgets/base",
          "model_name": "LayoutModel",
          "model_module_version": "1.2.0",
          "state": {
            "_model_module": "@jupyter-widgets/base",
            "_model_module_version": "1.2.0",
            "_model_name": "LayoutModel",
            "_view_count": null,
            "_view_module": "@jupyter-widgets/base",
            "_view_module_version": "1.2.0",
            "_view_name": "LayoutView",
            "align_content": null,
            "align_items": null,
            "align_self": null,
            "border": null,
            "bottom": null,
            "display": null,
            "flex": null,
            "flex_flow": null,
            "grid_area": null,
            "grid_auto_columns": null,
            "grid_auto_flow": null,
            "grid_auto_rows": null,
            "grid_column": null,
            "grid_gap": null,
            "grid_row": null,
            "grid_template_areas": null,
            "grid_template_columns": null,
            "grid_template_rows": null,
            "height": null,
            "justify_content": null,
            "justify_items": null,
            "left": null,
            "margin": null,
            "max_height": null,
            "max_width": null,
            "min_height": null,
            "min_width": null,
            "object_fit": null,
            "object_position": null,
            "order": null,
            "overflow": null,
            "overflow_x": null,
            "overflow_y": null,
            "padding": null,
            "right": null,
            "top": null,
            "visibility": null,
            "width": null
          }
        },
        "1eb0daeb92e1471d9c4f66ff4ec14e10": {
          "model_module": "@jupyter-widgets/base",
          "model_name": "LayoutModel",
          "model_module_version": "1.2.0",
          "state": {
            "_model_module": "@jupyter-widgets/base",
            "_model_module_version": "1.2.0",
            "_model_name": "LayoutModel",
            "_view_count": null,
            "_view_module": "@jupyter-widgets/base",
            "_view_module_version": "1.2.0",
            "_view_name": "LayoutView",
            "align_content": null,
            "align_items": null,
            "align_self": null,
            "border": null,
            "bottom": null,
            "display": null,
            "flex": null,
            "flex_flow": null,
            "grid_area": null,
            "grid_auto_columns": null,
            "grid_auto_flow": null,
            "grid_auto_rows": null,
            "grid_column": null,
            "grid_gap": null,
            "grid_row": null,
            "grid_template_areas": null,
            "grid_template_columns": null,
            "grid_template_rows": null,
            "height": null,
            "justify_content": null,
            "justify_items": null,
            "left": null,
            "margin": null,
            "max_height": null,
            "max_width": null,
            "min_height": null,
            "min_width": null,
            "object_fit": null,
            "object_position": null,
            "order": null,
            "overflow": null,
            "overflow_x": null,
            "overflow_y": null,
            "padding": null,
            "right": null,
            "top": null,
            "visibility": null,
            "width": null
          }
        },
        "2b811c74532e45eb9356fafa781d759d": {
          "model_module": "@jupyter-widgets/controls",
          "model_name": "DescriptionStyleModel",
          "model_module_version": "1.5.0",
          "state": {
            "_model_module": "@jupyter-widgets/controls",
            "_model_module_version": "1.5.0",
            "_model_name": "DescriptionStyleModel",
            "_view_count": null,
            "_view_module": "@jupyter-widgets/base",
            "_view_module_version": "1.2.0",
            "_view_name": "StyleView",
            "description_width": ""
          }
        },
        "4fc0f4ca55ac4ebebe98fa2f9267bd6d": {
          "model_module": "@jupyter-widgets/base",
          "model_name": "LayoutModel",
          "model_module_version": "1.2.0",
          "state": {
            "_model_module": "@jupyter-widgets/base",
            "_model_module_version": "1.2.0",
            "_model_name": "LayoutModel",
            "_view_count": null,
            "_view_module": "@jupyter-widgets/base",
            "_view_module_version": "1.2.0",
            "_view_name": "LayoutView",
            "align_content": null,
            "align_items": null,
            "align_self": null,
            "border": null,
            "bottom": null,
            "display": null,
            "flex": null,
            "flex_flow": null,
            "grid_area": null,
            "grid_auto_columns": null,
            "grid_auto_flow": null,
            "grid_auto_rows": null,
            "grid_column": null,
            "grid_gap": null,
            "grid_row": null,
            "grid_template_areas": null,
            "grid_template_columns": null,
            "grid_template_rows": null,
            "height": null,
            "justify_content": null,
            "justify_items": null,
            "left": null,
            "margin": null,
            "max_height": null,
            "max_width": null,
            "min_height": null,
            "min_width": null,
            "object_fit": null,
            "object_position": null,
            "order": null,
            "overflow": null,
            "overflow_x": null,
            "overflow_y": null,
            "padding": null,
            "right": null,
            "top": null,
            "visibility": null,
            "width": null
          }
        },
        "7e0c48d12a39420b9f5ac939776c9f8c": {
          "model_module": "@jupyter-widgets/controls",
          "model_name": "ProgressStyleModel",
          "model_module_version": "1.5.0",
          "state": {
            "_model_module": "@jupyter-widgets/controls",
            "_model_module_version": "1.5.0",
            "_model_name": "ProgressStyleModel",
            "_view_count": null,
            "_view_module": "@jupyter-widgets/base",
            "_view_module_version": "1.2.0",
            "_view_name": "StyleView",
            "bar_color": null,
            "description_width": ""
          }
        },
        "a6c2dbfa7a6d46eeb43f1a1cb2e05da5": {
          "model_module": "@jupyter-widgets/base",
          "model_name": "LayoutModel",
          "model_module_version": "1.2.0",
          "state": {
            "_model_module": "@jupyter-widgets/base",
            "_model_module_version": "1.2.0",
            "_model_name": "LayoutModel",
            "_view_count": null,
            "_view_module": "@jupyter-widgets/base",
            "_view_module_version": "1.2.0",
            "_view_name": "LayoutView",
            "align_content": null,
            "align_items": null,
            "align_self": null,
            "border": null,
            "bottom": null,
            "display": null,
            "flex": null,
            "flex_flow": null,
            "grid_area": null,
            "grid_auto_columns": null,
            "grid_auto_flow": null,
            "grid_auto_rows": null,
            "grid_column": null,
            "grid_gap": null,
            "grid_row": null,
            "grid_template_areas": null,
            "grid_template_columns": null,
            "grid_template_rows": null,
            "height": null,
            "justify_content": null,
            "justify_items": null,
            "left": null,
            "margin": null,
            "max_height": null,
            "max_width": null,
            "min_height": null,
            "min_width": null,
            "object_fit": null,
            "object_position": null,
            "order": null,
            "overflow": null,
            "overflow_x": null,
            "overflow_y": null,
            "padding": null,
            "right": null,
            "top": null,
            "visibility": null,
            "width": null
          }
        },
        "8c7a2bf98f044d8e925fd179d28fb390": {
          "model_module": "@jupyter-widgets/controls",
          "model_name": "DescriptionStyleModel",
          "model_module_version": "1.5.0",
          "state": {
            "_model_module": "@jupyter-widgets/controls",
            "_model_module_version": "1.5.0",
            "_model_name": "DescriptionStyleModel",
            "_view_count": null,
            "_view_module": "@jupyter-widgets/base",
            "_view_module_version": "1.2.0",
            "_view_name": "StyleView",
            "description_width": ""
          }
        },
        "c291a341376f4bec9a5f8967f1795b85": {
          "model_module": "@jupyter-widgets/controls",
          "model_name": "HBoxModel",
          "model_module_version": "1.5.0",
          "state": {
            "_dom_classes": [],
            "_model_module": "@jupyter-widgets/controls",
            "_model_module_version": "1.5.0",
            "_model_name": "HBoxModel",
            "_view_count": null,
            "_view_module": "@jupyter-widgets/controls",
            "_view_module_version": "1.5.0",
            "_view_name": "HBoxView",
            "box_style": "",
            "children": [
              "IPY_MODEL_5ee9773bf8564dcd9aa99ee07df710b2",
              "IPY_MODEL_c9f88f34365a4601b7a758e06c075aa1",
              "IPY_MODEL_c247a416c3e449a8af348240daaa3986"
            ],
            "layout": "IPY_MODEL_04a338502ee042e5a3e8186378ac98ce"
          }
        },
        "5ee9773bf8564dcd9aa99ee07df710b2": {
          "model_module": "@jupyter-widgets/controls",
          "model_name": "HTMLModel",
          "model_module_version": "1.5.0",
          "state": {
            "_dom_classes": [],
            "_model_module": "@jupyter-widgets/controls",
            "_model_module_version": "1.5.0",
            "_model_name": "HTMLModel",
            "_view_count": null,
            "_view_module": "@jupyter-widgets/controls",
            "_view_module_version": "1.5.0",
            "_view_name": "HTMLView",
            "description": "",
            "description_tooltip": null,
            "layout": "IPY_MODEL_e098be057bdc48eda420c6218d62a422",
            "placeholder": "​",
            "style": "IPY_MODEL_7b42edc3c4af4adab794a11e0a012edf",
            "value": "Render HTML: 100%"
          }
        },
        "c9f88f34365a4601b7a758e06c075aa1": {
          "model_module": "@jupyter-widgets/controls",
          "model_name": "FloatProgressModel",
          "model_module_version": "1.5.0",
          "state": {
            "_dom_classes": [],
            "_model_module": "@jupyter-widgets/controls",
            "_model_module_version": "1.5.0",
            "_model_name": "FloatProgressModel",
            "_view_count": null,
            "_view_module": "@jupyter-widgets/controls",
            "_view_module_version": "1.5.0",
            "_view_name": "ProgressView",
            "bar_style": "success",
            "description": "",
            "description_tooltip": null,
            "layout": "IPY_MODEL_615b48e40bf8431fa4ffa41fd4ffe326",
            "max": 1,
            "min": 0,
            "orientation": "horizontal",
            "style": "IPY_MODEL_14c54aafd7c043009702cb788b8d740d",
            "value": 1
          }
        },
        "c247a416c3e449a8af348240daaa3986": {
          "model_module": "@jupyter-widgets/controls",
          "model_name": "HTMLModel",
          "model_module_version": "1.5.0",
          "state": {
            "_dom_classes": [],
            "_model_module": "@jupyter-widgets/controls",
            "_model_module_version": "1.5.0",
            "_model_name": "HTMLModel",
            "_view_count": null,
            "_view_module": "@jupyter-widgets/controls",
            "_view_module_version": "1.5.0",
            "_view_name": "HTMLView",
            "description": "",
            "description_tooltip": null,
            "layout": "IPY_MODEL_a9f1682c2df04dbb9bdec0e8ea56b1de",
            "placeholder": "​",
            "style": "IPY_MODEL_257300ac921f42cc837b494b4220d7c0",
            "value": " 1/1 [00:01&lt;00:00,  1.18s/it]"
          }
        },
        "04a338502ee042e5a3e8186378ac98ce": {
          "model_module": "@jupyter-widgets/base",
          "model_name": "LayoutModel",
          "model_module_version": "1.2.0",
          "state": {
            "_model_module": "@jupyter-widgets/base",
            "_model_module_version": "1.2.0",
            "_model_name": "LayoutModel",
            "_view_count": null,
            "_view_module": "@jupyter-widgets/base",
            "_view_module_version": "1.2.0",
            "_view_name": "LayoutView",
            "align_content": null,
            "align_items": null,
            "align_self": null,
            "border": null,
            "bottom": null,
            "display": null,
            "flex": null,
            "flex_flow": null,
            "grid_area": null,
            "grid_auto_columns": null,
            "grid_auto_flow": null,
            "grid_auto_rows": null,
            "grid_column": null,
            "grid_gap": null,
            "grid_row": null,
            "grid_template_areas": null,
            "grid_template_columns": null,
            "grid_template_rows": null,
            "height": null,
            "justify_content": null,
            "justify_items": null,
            "left": null,
            "margin": null,
            "max_height": null,
            "max_width": null,
            "min_height": null,
            "min_width": null,
            "object_fit": null,
            "object_position": null,
            "order": null,
            "overflow": null,
            "overflow_x": null,
            "overflow_y": null,
            "padding": null,
            "right": null,
            "top": null,
            "visibility": null,
            "width": null
          }
        },
        "e098be057bdc48eda420c6218d62a422": {
          "model_module": "@jupyter-widgets/base",
          "model_name": "LayoutModel",
          "model_module_version": "1.2.0",
          "state": {
            "_model_module": "@jupyter-widgets/base",
            "_model_module_version": "1.2.0",
            "_model_name": "LayoutModel",
            "_view_count": null,
            "_view_module": "@jupyter-widgets/base",
            "_view_module_version": "1.2.0",
            "_view_name": "LayoutView",
            "align_content": null,
            "align_items": null,
            "align_self": null,
            "border": null,
            "bottom": null,
            "display": null,
            "flex": null,
            "flex_flow": null,
            "grid_area": null,
            "grid_auto_columns": null,
            "grid_auto_flow": null,
            "grid_auto_rows": null,
            "grid_column": null,
            "grid_gap": null,
            "grid_row": null,
            "grid_template_areas": null,
            "grid_template_columns": null,
            "grid_template_rows": null,
            "height": null,
            "justify_content": null,
            "justify_items": null,
            "left": null,
            "margin": null,
            "max_height": null,
            "max_width": null,
            "min_height": null,
            "min_width": null,
            "object_fit": null,
            "object_position": null,
            "order": null,
            "overflow": null,
            "overflow_x": null,
            "overflow_y": null,
            "padding": null,
            "right": null,
            "top": null,
            "visibility": null,
            "width": null
          }
        },
        "7b42edc3c4af4adab794a11e0a012edf": {
          "model_module": "@jupyter-widgets/controls",
          "model_name": "DescriptionStyleModel",
          "model_module_version": "1.5.0",
          "state": {
            "_model_module": "@jupyter-widgets/controls",
            "_model_module_version": "1.5.0",
            "_model_name": "DescriptionStyleModel",
            "_view_count": null,
            "_view_module": "@jupyter-widgets/base",
            "_view_module_version": "1.2.0",
            "_view_name": "StyleView",
            "description_width": ""
          }
        },
        "615b48e40bf8431fa4ffa41fd4ffe326": {
          "model_module": "@jupyter-widgets/base",
          "model_name": "LayoutModel",
          "model_module_version": "1.2.0",
          "state": {
            "_model_module": "@jupyter-widgets/base",
            "_model_module_version": "1.2.0",
            "_model_name": "LayoutModel",
            "_view_count": null,
            "_view_module": "@jupyter-widgets/base",
            "_view_module_version": "1.2.0",
            "_view_name": "LayoutView",
            "align_content": null,
            "align_items": null,
            "align_self": null,
            "border": null,
            "bottom": null,
            "display": null,
            "flex": null,
            "flex_flow": null,
            "grid_area": null,
            "grid_auto_columns": null,
            "grid_auto_flow": null,
            "grid_auto_rows": null,
            "grid_column": null,
            "grid_gap": null,
            "grid_row": null,
            "grid_template_areas": null,
            "grid_template_columns": null,
            "grid_template_rows": null,
            "height": null,
            "justify_content": null,
            "justify_items": null,
            "left": null,
            "margin": null,
            "max_height": null,
            "max_width": null,
            "min_height": null,
            "min_width": null,
            "object_fit": null,
            "object_position": null,
            "order": null,
            "overflow": null,
            "overflow_x": null,
            "overflow_y": null,
            "padding": null,
            "right": null,
            "top": null,
            "visibility": null,
            "width": null
          }
        },
        "14c54aafd7c043009702cb788b8d740d": {
          "model_module": "@jupyter-widgets/controls",
          "model_name": "ProgressStyleModel",
          "model_module_version": "1.5.0",
          "state": {
            "_model_module": "@jupyter-widgets/controls",
            "_model_module_version": "1.5.0",
            "_model_name": "ProgressStyleModel",
            "_view_count": null,
            "_view_module": "@jupyter-widgets/base",
            "_view_module_version": "1.2.0",
            "_view_name": "StyleView",
            "bar_color": null,
            "description_width": ""
          }
        },
        "a9f1682c2df04dbb9bdec0e8ea56b1de": {
          "model_module": "@jupyter-widgets/base",
          "model_name": "LayoutModel",
          "model_module_version": "1.2.0",
          "state": {
            "_model_module": "@jupyter-widgets/base",
            "_model_module_version": "1.2.0",
            "_model_name": "LayoutModel",
            "_view_count": null,
            "_view_module": "@jupyter-widgets/base",
            "_view_module_version": "1.2.0",
            "_view_name": "LayoutView",
            "align_content": null,
            "align_items": null,
            "align_self": null,
            "border": null,
            "bottom": null,
            "display": null,
            "flex": null,
            "flex_flow": null,
            "grid_area": null,
            "grid_auto_columns": null,
            "grid_auto_flow": null,
            "grid_auto_rows": null,
            "grid_column": null,
            "grid_gap": null,
            "grid_row": null,
            "grid_template_areas": null,
            "grid_template_columns": null,
            "grid_template_rows": null,
            "height": null,
            "justify_content": null,
            "justify_items": null,
            "left": null,
            "margin": null,
            "max_height": null,
            "max_width": null,
            "min_height": null,
            "min_width": null,
            "object_fit": null,
            "object_position": null,
            "order": null,
            "overflow": null,
            "overflow_x": null,
            "overflow_y": null,
            "padding": null,
            "right": null,
            "top": null,
            "visibility": null,
            "width": null
          }
        },
        "257300ac921f42cc837b494b4220d7c0": {
          "model_module": "@jupyter-widgets/controls",
          "model_name": "DescriptionStyleModel",
          "model_module_version": "1.5.0",
          "state": {
            "_model_module": "@jupyter-widgets/controls",
            "_model_module_version": "1.5.0",
            "_model_name": "DescriptionStyleModel",
            "_view_count": null,
            "_view_module": "@jupyter-widgets/base",
            "_view_module_version": "1.2.0",
            "_view_name": "StyleView",
            "description_width": ""
          }
        },
        "ef32a3e5e31c4e2fa0dc0a4834a2f5dc": {
          "model_module": "@jupyter-widgets/controls",
          "model_name": "HBoxModel",
          "model_module_version": "1.5.0",
          "state": {
            "_dom_classes": [],
            "_model_module": "@jupyter-widgets/controls",
            "_model_module_version": "1.5.0",
            "_model_name": "HBoxModel",
            "_view_count": null,
            "_view_module": "@jupyter-widgets/controls",
            "_view_module_version": "1.5.0",
            "_view_name": "HBoxView",
            "box_style": "",
            "children": [
              "IPY_MODEL_e7524fa62a534c47ba5e9d24b3a845ee",
              "IPY_MODEL_1c8099a6ae58462b8171a6e2885ba784",
              "IPY_MODEL_7cc9f39592604ead92d1cb53c4af24f1"
            ],
            "layout": "IPY_MODEL_8e39c1cac6194ab2b01441ad0308457c"
          }
        },
        "e7524fa62a534c47ba5e9d24b3a845ee": {
          "model_module": "@jupyter-widgets/controls",
          "model_name": "HTMLModel",
          "model_module_version": "1.5.0",
          "state": {
            "_dom_classes": [],
            "_model_module": "@jupyter-widgets/controls",
            "_model_module_version": "1.5.0",
            "_model_name": "HTMLModel",
            "_view_count": null,
            "_view_module": "@jupyter-widgets/controls",
            "_view_module_version": "1.5.0",
            "_view_name": "HTMLView",
            "description": "",
            "description_tooltip": null,
            "layout": "IPY_MODEL_0dbe1a6909d14e5f9ab860477a302dae",
            "placeholder": "​",
            "style": "IPY_MODEL_b3fa1c546c7046388bc0d3a0a6a8610c",
            "value": "Export report to file: 100%"
          }
        },
        "1c8099a6ae58462b8171a6e2885ba784": {
          "model_module": "@jupyter-widgets/controls",
          "model_name": "FloatProgressModel",
          "model_module_version": "1.5.0",
          "state": {
            "_dom_classes": [],
            "_model_module": "@jupyter-widgets/controls",
            "_model_module_version": "1.5.0",
            "_model_name": "FloatProgressModel",
            "_view_count": null,
            "_view_module": "@jupyter-widgets/controls",
            "_view_module_version": "1.5.0",
            "_view_name": "ProgressView",
            "bar_style": "success",
            "description": "",
            "description_tooltip": null,
            "layout": "IPY_MODEL_016c383c4fb5470eb01e516d46c84d37",
            "max": 1,
            "min": 0,
            "orientation": "horizontal",
            "style": "IPY_MODEL_f9f8a3326f374547a4ff711aeb622976",
            "value": 1
          }
        },
        "7cc9f39592604ead92d1cb53c4af24f1": {
          "model_module": "@jupyter-widgets/controls",
          "model_name": "HTMLModel",
          "model_module_version": "1.5.0",
          "state": {
            "_dom_classes": [],
            "_model_module": "@jupyter-widgets/controls",
            "_model_module_version": "1.5.0",
            "_model_name": "HTMLModel",
            "_view_count": null,
            "_view_module": "@jupyter-widgets/controls",
            "_view_module_version": "1.5.0",
            "_view_name": "HTMLView",
            "description": "",
            "description_tooltip": null,
            "layout": "IPY_MODEL_90262f59ada34856b13b4e2f5fbc01c6",
            "placeholder": "​",
            "style": "IPY_MODEL_31e6d4fecf9247b99b1895f8f76f2435",
            "value": " 1/1 [00:00&lt;00:00, 20.40it/s]"
          }
        },
        "8e39c1cac6194ab2b01441ad0308457c": {
          "model_module": "@jupyter-widgets/base",
          "model_name": "LayoutModel",
          "model_module_version": "1.2.0",
          "state": {
            "_model_module": "@jupyter-widgets/base",
            "_model_module_version": "1.2.0",
            "_model_name": "LayoutModel",
            "_view_count": null,
            "_view_module": "@jupyter-widgets/base",
            "_view_module_version": "1.2.0",
            "_view_name": "LayoutView",
            "align_content": null,
            "align_items": null,
            "align_self": null,
            "border": null,
            "bottom": null,
            "display": null,
            "flex": null,
            "flex_flow": null,
            "grid_area": null,
            "grid_auto_columns": null,
            "grid_auto_flow": null,
            "grid_auto_rows": null,
            "grid_column": null,
            "grid_gap": null,
            "grid_row": null,
            "grid_template_areas": null,
            "grid_template_columns": null,
            "grid_template_rows": null,
            "height": null,
            "justify_content": null,
            "justify_items": null,
            "left": null,
            "margin": null,
            "max_height": null,
            "max_width": null,
            "min_height": null,
            "min_width": null,
            "object_fit": null,
            "object_position": null,
            "order": null,
            "overflow": null,
            "overflow_x": null,
            "overflow_y": null,
            "padding": null,
            "right": null,
            "top": null,
            "visibility": null,
            "width": null
          }
        },
        "0dbe1a6909d14e5f9ab860477a302dae": {
          "model_module": "@jupyter-widgets/base",
          "model_name": "LayoutModel",
          "model_module_version": "1.2.0",
          "state": {
            "_model_module": "@jupyter-widgets/base",
            "_model_module_version": "1.2.0",
            "_model_name": "LayoutModel",
            "_view_count": null,
            "_view_module": "@jupyter-widgets/base",
            "_view_module_version": "1.2.0",
            "_view_name": "LayoutView",
            "align_content": null,
            "align_items": null,
            "align_self": null,
            "border": null,
            "bottom": null,
            "display": null,
            "flex": null,
            "flex_flow": null,
            "grid_area": null,
            "grid_auto_columns": null,
            "grid_auto_flow": null,
            "grid_auto_rows": null,
            "grid_column": null,
            "grid_gap": null,
            "grid_row": null,
            "grid_template_areas": null,
            "grid_template_columns": null,
            "grid_template_rows": null,
            "height": null,
            "justify_content": null,
            "justify_items": null,
            "left": null,
            "margin": null,
            "max_height": null,
            "max_width": null,
            "min_height": null,
            "min_width": null,
            "object_fit": null,
            "object_position": null,
            "order": null,
            "overflow": null,
            "overflow_x": null,
            "overflow_y": null,
            "padding": null,
            "right": null,
            "top": null,
            "visibility": null,
            "width": null
          }
        },
        "b3fa1c546c7046388bc0d3a0a6a8610c": {
          "model_module": "@jupyter-widgets/controls",
          "model_name": "DescriptionStyleModel",
          "model_module_version": "1.5.0",
          "state": {
            "_model_module": "@jupyter-widgets/controls",
            "_model_module_version": "1.5.0",
            "_model_name": "DescriptionStyleModel",
            "_view_count": null,
            "_view_module": "@jupyter-widgets/base",
            "_view_module_version": "1.2.0",
            "_view_name": "StyleView",
            "description_width": ""
          }
        },
        "016c383c4fb5470eb01e516d46c84d37": {
          "model_module": "@jupyter-widgets/base",
          "model_name": "LayoutModel",
          "model_module_version": "1.2.0",
          "state": {
            "_model_module": "@jupyter-widgets/base",
            "_model_module_version": "1.2.0",
            "_model_name": "LayoutModel",
            "_view_count": null,
            "_view_module": "@jupyter-widgets/base",
            "_view_module_version": "1.2.0",
            "_view_name": "LayoutView",
            "align_content": null,
            "align_items": null,
            "align_self": null,
            "border": null,
            "bottom": null,
            "display": null,
            "flex": null,
            "flex_flow": null,
            "grid_area": null,
            "grid_auto_columns": null,
            "grid_auto_flow": null,
            "grid_auto_rows": null,
            "grid_column": null,
            "grid_gap": null,
            "grid_row": null,
            "grid_template_areas": null,
            "grid_template_columns": null,
            "grid_template_rows": null,
            "height": null,
            "justify_content": null,
            "justify_items": null,
            "left": null,
            "margin": null,
            "max_height": null,
            "max_width": null,
            "min_height": null,
            "min_width": null,
            "object_fit": null,
            "object_position": null,
            "order": null,
            "overflow": null,
            "overflow_x": null,
            "overflow_y": null,
            "padding": null,
            "right": null,
            "top": null,
            "visibility": null,
            "width": null
          }
        },
        "f9f8a3326f374547a4ff711aeb622976": {
          "model_module": "@jupyter-widgets/controls",
          "model_name": "ProgressStyleModel",
          "model_module_version": "1.5.0",
          "state": {
            "_model_module": "@jupyter-widgets/controls",
            "_model_module_version": "1.5.0",
            "_model_name": "ProgressStyleModel",
            "_view_count": null,
            "_view_module": "@jupyter-widgets/base",
            "_view_module_version": "1.2.0",
            "_view_name": "StyleView",
            "bar_color": null,
            "description_width": ""
          }
        },
        "90262f59ada34856b13b4e2f5fbc01c6": {
          "model_module": "@jupyter-widgets/base",
          "model_name": "LayoutModel",
          "model_module_version": "1.2.0",
          "state": {
            "_model_module": "@jupyter-widgets/base",
            "_model_module_version": "1.2.0",
            "_model_name": "LayoutModel",
            "_view_count": null,
            "_view_module": "@jupyter-widgets/base",
            "_view_module_version": "1.2.0",
            "_view_name": "LayoutView",
            "align_content": null,
            "align_items": null,
            "align_self": null,
            "border": null,
            "bottom": null,
            "display": null,
            "flex": null,
            "flex_flow": null,
            "grid_area": null,
            "grid_auto_columns": null,
            "grid_auto_flow": null,
            "grid_auto_rows": null,
            "grid_column": null,
            "grid_gap": null,
            "grid_row": null,
            "grid_template_areas": null,
            "grid_template_columns": null,
            "grid_template_rows": null,
            "height": null,
            "justify_content": null,
            "justify_items": null,
            "left": null,
            "margin": null,
            "max_height": null,
            "max_width": null,
            "min_height": null,
            "min_width": null,
            "object_fit": null,
            "object_position": null,
            "order": null,
            "overflow": null,
            "overflow_x": null,
            "overflow_y": null,
            "padding": null,
            "right": null,
            "top": null,
            "visibility": null,
            "width": null
          }
        },
        "31e6d4fecf9247b99b1895f8f76f2435": {
          "model_module": "@jupyter-widgets/controls",
          "model_name": "DescriptionStyleModel",
          "model_module_version": "1.5.0",
          "state": {
            "_model_module": "@jupyter-widgets/controls",
            "_model_module_version": "1.5.0",
            "_model_name": "DescriptionStyleModel",
            "_view_count": null,
            "_view_module": "@jupyter-widgets/base",
            "_view_module_version": "1.2.0",
            "_view_name": "StyleView",
            "description_width": ""
          }
        },
        "1299a18d39b846489f7d074277fbe65d": {
          "model_module": "@jupyter-widgets/controls",
          "model_name": "HBoxModel",
          "model_module_version": "1.5.0",
          "state": {
            "_dom_classes": [],
            "_model_module": "@jupyter-widgets/controls",
            "_model_module_version": "1.5.0",
            "_model_name": "HBoxModel",
            "_view_count": null,
            "_view_module": "@jupyter-widgets/controls",
            "_view_module_version": "1.5.0",
            "_view_name": "HBoxView",
            "box_style": "",
            "children": [
              "IPY_MODEL_edaf3169ea024d0ba94a6c4bb5a2604a",
              "IPY_MODEL_bca11158324f43a8b209d30943ea88c5",
              "IPY_MODEL_96ec59535a314f06a292699e7506725d"
            ],
            "layout": "IPY_MODEL_7e963cd17db4482f97acf99e37e6bddc"
          }
        },
        "edaf3169ea024d0ba94a6c4bb5a2604a": {
          "model_module": "@jupyter-widgets/controls",
          "model_name": "HTMLModel",
          "model_module_version": "1.5.0",
          "state": {
            "_dom_classes": [],
            "_model_module": "@jupyter-widgets/controls",
            "_model_module_version": "1.5.0",
            "_model_name": "HTMLModel",
            "_view_count": null,
            "_view_module": "@jupyter-widgets/controls",
            "_view_module_version": "1.5.0",
            "_view_name": "HTMLView",
            "description": "",
            "description_tooltip": null,
            "layout": "IPY_MODEL_7ffe2d99b539478ba15cd010d329b860",
            "placeholder": "​",
            "style": "IPY_MODEL_a47216c3687143a59ec736de2b5f8d7f",
            "value": "Summarize dataset: 100%"
          }
        },
        "bca11158324f43a8b209d30943ea88c5": {
          "model_module": "@jupyter-widgets/controls",
          "model_name": "FloatProgressModel",
          "model_module_version": "1.5.0",
          "state": {
            "_dom_classes": [],
            "_model_module": "@jupyter-widgets/controls",
            "_model_module_version": "1.5.0",
            "_model_name": "FloatProgressModel",
            "_view_count": null,
            "_view_module": "@jupyter-widgets/controls",
            "_view_module_version": "1.5.0",
            "_view_name": "ProgressView",
            "bar_style": "success",
            "description": "",
            "description_tooltip": null,
            "layout": "IPY_MODEL_8b726ccb59f8449db3894b92f11ca1d3",
            "max": 5,
            "min": 0,
            "orientation": "horizontal",
            "style": "IPY_MODEL_6d9c4609df0f4ebdac718a9b1ecfe622",
            "value": 5
          }
        },
        "96ec59535a314f06a292699e7506725d": {
          "model_module": "@jupyter-widgets/controls",
          "model_name": "HTMLModel",
          "model_module_version": "1.5.0",
          "state": {
            "_dom_classes": [],
            "_model_module": "@jupyter-widgets/controls",
            "_model_module_version": "1.5.0",
            "_model_name": "HTMLModel",
            "_view_count": null,
            "_view_module": "@jupyter-widgets/controls",
            "_view_module_version": "1.5.0",
            "_view_name": "HTMLView",
            "description": "",
            "description_tooltip": null,
            "layout": "IPY_MODEL_fc57c04c66a14ee89aaacb3b510c35bd",
            "placeholder": "​",
            "style": "IPY_MODEL_5a8445abb4274855be2e053374c5d702",
            "value": " 56/56 [00:30&lt;00:00,  1.62it/s, Completed]"
          }
        },
        "7e963cd17db4482f97acf99e37e6bddc": {
          "model_module": "@jupyter-widgets/base",
          "model_name": "LayoutModel",
          "model_module_version": "1.2.0",
          "state": {
            "_model_module": "@jupyter-widgets/base",
            "_model_module_version": "1.2.0",
            "_model_name": "LayoutModel",
            "_view_count": null,
            "_view_module": "@jupyter-widgets/base",
            "_view_module_version": "1.2.0",
            "_view_name": "LayoutView",
            "align_content": null,
            "align_items": null,
            "align_self": null,
            "border": null,
            "bottom": null,
            "display": null,
            "flex": null,
            "flex_flow": null,
            "grid_area": null,
            "grid_auto_columns": null,
            "grid_auto_flow": null,
            "grid_auto_rows": null,
            "grid_column": null,
            "grid_gap": null,
            "grid_row": null,
            "grid_template_areas": null,
            "grid_template_columns": null,
            "grid_template_rows": null,
            "height": null,
            "justify_content": null,
            "justify_items": null,
            "left": null,
            "margin": null,
            "max_height": null,
            "max_width": null,
            "min_height": null,
            "min_width": null,
            "object_fit": null,
            "object_position": null,
            "order": null,
            "overflow": null,
            "overflow_x": null,
            "overflow_y": null,
            "padding": null,
            "right": null,
            "top": null,
            "visibility": null,
            "width": null
          }
        },
        "7ffe2d99b539478ba15cd010d329b860": {
          "model_module": "@jupyter-widgets/base",
          "model_name": "LayoutModel",
          "model_module_version": "1.2.0",
          "state": {
            "_model_module": "@jupyter-widgets/base",
            "_model_module_version": "1.2.0",
            "_model_name": "LayoutModel",
            "_view_count": null,
            "_view_module": "@jupyter-widgets/base",
            "_view_module_version": "1.2.0",
            "_view_name": "LayoutView",
            "align_content": null,
            "align_items": null,
            "align_self": null,
            "border": null,
            "bottom": null,
            "display": null,
            "flex": null,
            "flex_flow": null,
            "grid_area": null,
            "grid_auto_columns": null,
            "grid_auto_flow": null,
            "grid_auto_rows": null,
            "grid_column": null,
            "grid_gap": null,
            "grid_row": null,
            "grid_template_areas": null,
            "grid_template_columns": null,
            "grid_template_rows": null,
            "height": null,
            "justify_content": null,
            "justify_items": null,
            "left": null,
            "margin": null,
            "max_height": null,
            "max_width": null,
            "min_height": null,
            "min_width": null,
            "object_fit": null,
            "object_position": null,
            "order": null,
            "overflow": null,
            "overflow_x": null,
            "overflow_y": null,
            "padding": null,
            "right": null,
            "top": null,
            "visibility": null,
            "width": null
          }
        },
        "a47216c3687143a59ec736de2b5f8d7f": {
          "model_module": "@jupyter-widgets/controls",
          "model_name": "DescriptionStyleModel",
          "model_module_version": "1.5.0",
          "state": {
            "_model_module": "@jupyter-widgets/controls",
            "_model_module_version": "1.5.0",
            "_model_name": "DescriptionStyleModel",
            "_view_count": null,
            "_view_module": "@jupyter-widgets/base",
            "_view_module_version": "1.2.0",
            "_view_name": "StyleView",
            "description_width": ""
          }
        },
        "8b726ccb59f8449db3894b92f11ca1d3": {
          "model_module": "@jupyter-widgets/base",
          "model_name": "LayoutModel",
          "model_module_version": "1.2.0",
          "state": {
            "_model_module": "@jupyter-widgets/base",
            "_model_module_version": "1.2.0",
            "_model_name": "LayoutModel",
            "_view_count": null,
            "_view_module": "@jupyter-widgets/base",
            "_view_module_version": "1.2.0",
            "_view_name": "LayoutView",
            "align_content": null,
            "align_items": null,
            "align_self": null,
            "border": null,
            "bottom": null,
            "display": null,
            "flex": null,
            "flex_flow": null,
            "grid_area": null,
            "grid_auto_columns": null,
            "grid_auto_flow": null,
            "grid_auto_rows": null,
            "grid_column": null,
            "grid_gap": null,
            "grid_row": null,
            "grid_template_areas": null,
            "grid_template_columns": null,
            "grid_template_rows": null,
            "height": null,
            "justify_content": null,
            "justify_items": null,
            "left": null,
            "margin": null,
            "max_height": null,
            "max_width": null,
            "min_height": null,
            "min_width": null,
            "object_fit": null,
            "object_position": null,
            "order": null,
            "overflow": null,
            "overflow_x": null,
            "overflow_y": null,
            "padding": null,
            "right": null,
            "top": null,
            "visibility": null,
            "width": null
          }
        },
        "6d9c4609df0f4ebdac718a9b1ecfe622": {
          "model_module": "@jupyter-widgets/controls",
          "model_name": "ProgressStyleModel",
          "model_module_version": "1.5.0",
          "state": {
            "_model_module": "@jupyter-widgets/controls",
            "_model_module_version": "1.5.0",
            "_model_name": "ProgressStyleModel",
            "_view_count": null,
            "_view_module": "@jupyter-widgets/base",
            "_view_module_version": "1.2.0",
            "_view_name": "StyleView",
            "bar_color": null,
            "description_width": ""
          }
        },
        "fc57c04c66a14ee89aaacb3b510c35bd": {
          "model_module": "@jupyter-widgets/base",
          "model_name": "LayoutModel",
          "model_module_version": "1.2.0",
          "state": {
            "_model_module": "@jupyter-widgets/base",
            "_model_module_version": "1.2.0",
            "_model_name": "LayoutModel",
            "_view_count": null,
            "_view_module": "@jupyter-widgets/base",
            "_view_module_version": "1.2.0",
            "_view_name": "LayoutView",
            "align_content": null,
            "align_items": null,
            "align_self": null,
            "border": null,
            "bottom": null,
            "display": null,
            "flex": null,
            "flex_flow": null,
            "grid_area": null,
            "grid_auto_columns": null,
            "grid_auto_flow": null,
            "grid_auto_rows": null,
            "grid_column": null,
            "grid_gap": null,
            "grid_row": null,
            "grid_template_areas": null,
            "grid_template_columns": null,
            "grid_template_rows": null,
            "height": null,
            "justify_content": null,
            "justify_items": null,
            "left": null,
            "margin": null,
            "max_height": null,
            "max_width": null,
            "min_height": null,
            "min_width": null,
            "object_fit": null,
            "object_position": null,
            "order": null,
            "overflow": null,
            "overflow_x": null,
            "overflow_y": null,
            "padding": null,
            "right": null,
            "top": null,
            "visibility": null,
            "width": null
          }
        },
        "5a8445abb4274855be2e053374c5d702": {
          "model_module": "@jupyter-widgets/controls",
          "model_name": "DescriptionStyleModel",
          "model_module_version": "1.5.0",
          "state": {
            "_model_module": "@jupyter-widgets/controls",
            "_model_module_version": "1.5.0",
            "_model_name": "DescriptionStyleModel",
            "_view_count": null,
            "_view_module": "@jupyter-widgets/base",
            "_view_module_version": "1.2.0",
            "_view_name": "StyleView",
            "description_width": ""
          }
        },
        "5c4195449074494a9a13772e0e339330": {
          "model_module": "@jupyter-widgets/controls",
          "model_name": "HBoxModel",
          "model_module_version": "1.5.0",
          "state": {
            "_dom_classes": [],
            "_model_module": "@jupyter-widgets/controls",
            "_model_module_version": "1.5.0",
            "_model_name": "HBoxModel",
            "_view_count": null,
            "_view_module": "@jupyter-widgets/controls",
            "_view_module_version": "1.5.0",
            "_view_name": "HBoxView",
            "box_style": "",
            "children": [
              "IPY_MODEL_764da637a6de4e81bbadcebc386bd331",
              "IPY_MODEL_af5807d9fb964d7fa7a0904eb5c111d8",
              "IPY_MODEL_b6edf987bbe14997906cf56510da5cb9"
            ],
            "layout": "IPY_MODEL_32e4c775ce78403391ab31879701672a"
          }
        },
        "764da637a6de4e81bbadcebc386bd331": {
          "model_module": "@jupyter-widgets/controls",
          "model_name": "HTMLModel",
          "model_module_version": "1.5.0",
          "state": {
            "_dom_classes": [],
            "_model_module": "@jupyter-widgets/controls",
            "_model_module_version": "1.5.0",
            "_model_name": "HTMLModel",
            "_view_count": null,
            "_view_module": "@jupyter-widgets/controls",
            "_view_module_version": "1.5.0",
            "_view_name": "HTMLView",
            "description": "",
            "description_tooltip": null,
            "layout": "IPY_MODEL_3522e5706d7a45cdb7b8b4dec66887b1",
            "placeholder": "​",
            "style": "IPY_MODEL_df55747af0ac4a7596eacaf2ed2bab45",
            "value": "Generate report structure: 100%"
          }
        },
        "af5807d9fb964d7fa7a0904eb5c111d8": {
          "model_module": "@jupyter-widgets/controls",
          "model_name": "FloatProgressModel",
          "model_module_version": "1.5.0",
          "state": {
            "_dom_classes": [],
            "_model_module": "@jupyter-widgets/controls",
            "_model_module_version": "1.5.0",
            "_model_name": "FloatProgressModel",
            "_view_count": null,
            "_view_module": "@jupyter-widgets/controls",
            "_view_module_version": "1.5.0",
            "_view_name": "ProgressView",
            "bar_style": "success",
            "description": "",
            "description_tooltip": null,
            "layout": "IPY_MODEL_3a7ece58b9f143ffb6a5539efbbaf74f",
            "max": 1,
            "min": 0,
            "orientation": "horizontal",
            "style": "IPY_MODEL_bfa06025b17e43dcb26550d8bface2e7",
            "value": 1
          }
        },
        "b6edf987bbe14997906cf56510da5cb9": {
          "model_module": "@jupyter-widgets/controls",
          "model_name": "HTMLModel",
          "model_module_version": "1.5.0",
          "state": {
            "_dom_classes": [],
            "_model_module": "@jupyter-widgets/controls",
            "_model_module_version": "1.5.0",
            "_model_name": "HTMLModel",
            "_view_count": null,
            "_view_module": "@jupyter-widgets/controls",
            "_view_module_version": "1.5.0",
            "_view_name": "HTMLView",
            "description": "",
            "description_tooltip": null,
            "layout": "IPY_MODEL_132e219316e34e6cacbd26e03b8401ee",
            "placeholder": "​",
            "style": "IPY_MODEL_265da599aa174899b044d450f136c155",
            "value": " 1/1 [00:03&lt;00:00,  3.79s/it]"
          }
        },
        "32e4c775ce78403391ab31879701672a": {
          "model_module": "@jupyter-widgets/base",
          "model_name": "LayoutModel",
          "model_module_version": "1.2.0",
          "state": {
            "_model_module": "@jupyter-widgets/base",
            "_model_module_version": "1.2.0",
            "_model_name": "LayoutModel",
            "_view_count": null,
            "_view_module": "@jupyter-widgets/base",
            "_view_module_version": "1.2.0",
            "_view_name": "LayoutView",
            "align_content": null,
            "align_items": null,
            "align_self": null,
            "border": null,
            "bottom": null,
            "display": null,
            "flex": null,
            "flex_flow": null,
            "grid_area": null,
            "grid_auto_columns": null,
            "grid_auto_flow": null,
            "grid_auto_rows": null,
            "grid_column": null,
            "grid_gap": null,
            "grid_row": null,
            "grid_template_areas": null,
            "grid_template_columns": null,
            "grid_template_rows": null,
            "height": null,
            "justify_content": null,
            "justify_items": null,
            "left": null,
            "margin": null,
            "max_height": null,
            "max_width": null,
            "min_height": null,
            "min_width": null,
            "object_fit": null,
            "object_position": null,
            "order": null,
            "overflow": null,
            "overflow_x": null,
            "overflow_y": null,
            "padding": null,
            "right": null,
            "top": null,
            "visibility": null,
            "width": null
          }
        },
        "3522e5706d7a45cdb7b8b4dec66887b1": {
          "model_module": "@jupyter-widgets/base",
          "model_name": "LayoutModel",
          "model_module_version": "1.2.0",
          "state": {
            "_model_module": "@jupyter-widgets/base",
            "_model_module_version": "1.2.0",
            "_model_name": "LayoutModel",
            "_view_count": null,
            "_view_module": "@jupyter-widgets/base",
            "_view_module_version": "1.2.0",
            "_view_name": "LayoutView",
            "align_content": null,
            "align_items": null,
            "align_self": null,
            "border": null,
            "bottom": null,
            "display": null,
            "flex": null,
            "flex_flow": null,
            "grid_area": null,
            "grid_auto_columns": null,
            "grid_auto_flow": null,
            "grid_auto_rows": null,
            "grid_column": null,
            "grid_gap": null,
            "grid_row": null,
            "grid_template_areas": null,
            "grid_template_columns": null,
            "grid_template_rows": null,
            "height": null,
            "justify_content": null,
            "justify_items": null,
            "left": null,
            "margin": null,
            "max_height": null,
            "max_width": null,
            "min_height": null,
            "min_width": null,
            "object_fit": null,
            "object_position": null,
            "order": null,
            "overflow": null,
            "overflow_x": null,
            "overflow_y": null,
            "padding": null,
            "right": null,
            "top": null,
            "visibility": null,
            "width": null
          }
        },
        "df55747af0ac4a7596eacaf2ed2bab45": {
          "model_module": "@jupyter-widgets/controls",
          "model_name": "DescriptionStyleModel",
          "model_module_version": "1.5.0",
          "state": {
            "_model_module": "@jupyter-widgets/controls",
            "_model_module_version": "1.5.0",
            "_model_name": "DescriptionStyleModel",
            "_view_count": null,
            "_view_module": "@jupyter-widgets/base",
            "_view_module_version": "1.2.0",
            "_view_name": "StyleView",
            "description_width": ""
          }
        },
        "3a7ece58b9f143ffb6a5539efbbaf74f": {
          "model_module": "@jupyter-widgets/base",
          "model_name": "LayoutModel",
          "model_module_version": "1.2.0",
          "state": {
            "_model_module": "@jupyter-widgets/base",
            "_model_module_version": "1.2.0",
            "_model_name": "LayoutModel",
            "_view_count": null,
            "_view_module": "@jupyter-widgets/base",
            "_view_module_version": "1.2.0",
            "_view_name": "LayoutView",
            "align_content": null,
            "align_items": null,
            "align_self": null,
            "border": null,
            "bottom": null,
            "display": null,
            "flex": null,
            "flex_flow": null,
            "grid_area": null,
            "grid_auto_columns": null,
            "grid_auto_flow": null,
            "grid_auto_rows": null,
            "grid_column": null,
            "grid_gap": null,
            "grid_row": null,
            "grid_template_areas": null,
            "grid_template_columns": null,
            "grid_template_rows": null,
            "height": null,
            "justify_content": null,
            "justify_items": null,
            "left": null,
            "margin": null,
            "max_height": null,
            "max_width": null,
            "min_height": null,
            "min_width": null,
            "object_fit": null,
            "object_position": null,
            "order": null,
            "overflow": null,
            "overflow_x": null,
            "overflow_y": null,
            "padding": null,
            "right": null,
            "top": null,
            "visibility": null,
            "width": null
          }
        },
        "bfa06025b17e43dcb26550d8bface2e7": {
          "model_module": "@jupyter-widgets/controls",
          "model_name": "ProgressStyleModel",
          "model_module_version": "1.5.0",
          "state": {
            "_model_module": "@jupyter-widgets/controls",
            "_model_module_version": "1.5.0",
            "_model_name": "ProgressStyleModel",
            "_view_count": null,
            "_view_module": "@jupyter-widgets/base",
            "_view_module_version": "1.2.0",
            "_view_name": "StyleView",
            "bar_color": null,
            "description_width": ""
          }
        },
        "132e219316e34e6cacbd26e03b8401ee": {
          "model_module": "@jupyter-widgets/base",
          "model_name": "LayoutModel",
          "model_module_version": "1.2.0",
          "state": {
            "_model_module": "@jupyter-widgets/base",
            "_model_module_version": "1.2.0",
            "_model_name": "LayoutModel",
            "_view_count": null,
            "_view_module": "@jupyter-widgets/base",
            "_view_module_version": "1.2.0",
            "_view_name": "LayoutView",
            "align_content": null,
            "align_items": null,
            "align_self": null,
            "border": null,
            "bottom": null,
            "display": null,
            "flex": null,
            "flex_flow": null,
            "grid_area": null,
            "grid_auto_columns": null,
            "grid_auto_flow": null,
            "grid_auto_rows": null,
            "grid_column": null,
            "grid_gap": null,
            "grid_row": null,
            "grid_template_areas": null,
            "grid_template_columns": null,
            "grid_template_rows": null,
            "height": null,
            "justify_content": null,
            "justify_items": null,
            "left": null,
            "margin": null,
            "max_height": null,
            "max_width": null,
            "min_height": null,
            "min_width": null,
            "object_fit": null,
            "object_position": null,
            "order": null,
            "overflow": null,
            "overflow_x": null,
            "overflow_y": null,
            "padding": null,
            "right": null,
            "top": null,
            "visibility": null,
            "width": null
          }
        },
        "265da599aa174899b044d450f136c155": {
          "model_module": "@jupyter-widgets/controls",
          "model_name": "DescriptionStyleModel",
          "model_module_version": "1.5.0",
          "state": {
            "_model_module": "@jupyter-widgets/controls",
            "_model_module_version": "1.5.0",
            "_model_name": "DescriptionStyleModel",
            "_view_count": null,
            "_view_module": "@jupyter-widgets/base",
            "_view_module_version": "1.2.0",
            "_view_name": "StyleView",
            "description_width": ""
          }
        },
        "feaddc1891864bb6b1fb3b4383cc85b4": {
          "model_module": "@jupyter-widgets/controls",
          "model_name": "HBoxModel",
          "model_module_version": "1.5.0",
          "state": {
            "_dom_classes": [],
            "_model_module": "@jupyter-widgets/controls",
            "_model_module_version": "1.5.0",
            "_model_name": "HBoxModel",
            "_view_count": null,
            "_view_module": "@jupyter-widgets/controls",
            "_view_module_version": "1.5.0",
            "_view_name": "HBoxView",
            "box_style": "",
            "children": [
              "IPY_MODEL_d2f63736fba74b84afa80fc33a86efe5",
              "IPY_MODEL_9f91b925170840cc8dd972c9c4999a70",
              "IPY_MODEL_88d5ffea17dc45669d1221d285ae2f33"
            ],
            "layout": "IPY_MODEL_fb2f50c73a8f41de8f90928cf4937ebd"
          }
        },
        "d2f63736fba74b84afa80fc33a86efe5": {
          "model_module": "@jupyter-widgets/controls",
          "model_name": "HTMLModel",
          "model_module_version": "1.5.0",
          "state": {
            "_dom_classes": [],
            "_model_module": "@jupyter-widgets/controls",
            "_model_module_version": "1.5.0",
            "_model_name": "HTMLModel",
            "_view_count": null,
            "_view_module": "@jupyter-widgets/controls",
            "_view_module_version": "1.5.0",
            "_view_name": "HTMLView",
            "description": "",
            "description_tooltip": null,
            "layout": "IPY_MODEL_cee644f1ad1d48418000e36250fa3b3f",
            "placeholder": "​",
            "style": "IPY_MODEL_d2bde8c25fd6499c8c96b8e0fb181102",
            "value": "Render HTML: 100%"
          }
        },
        "9f91b925170840cc8dd972c9c4999a70": {
          "model_module": "@jupyter-widgets/controls",
          "model_name": "FloatProgressModel",
          "model_module_version": "1.5.0",
          "state": {
            "_dom_classes": [],
            "_model_module": "@jupyter-widgets/controls",
            "_model_module_version": "1.5.0",
            "_model_name": "FloatProgressModel",
            "_view_count": null,
            "_view_module": "@jupyter-widgets/controls",
            "_view_module_version": "1.5.0",
            "_view_name": "ProgressView",
            "bar_style": "success",
            "description": "",
            "description_tooltip": null,
            "layout": "IPY_MODEL_40df651389934824b8746dc3d69ce94e",
            "max": 1,
            "min": 0,
            "orientation": "horizontal",
            "style": "IPY_MODEL_404a14d9d977419f8b43dd8e716cb51c",
            "value": 1
          }
        },
        "88d5ffea17dc45669d1221d285ae2f33": {
          "model_module": "@jupyter-widgets/controls",
          "model_name": "HTMLModel",
          "model_module_version": "1.5.0",
          "state": {
            "_dom_classes": [],
            "_model_module": "@jupyter-widgets/controls",
            "_model_module_version": "1.5.0",
            "_model_name": "HTMLModel",
            "_view_count": null,
            "_view_module": "@jupyter-widgets/controls",
            "_view_module_version": "1.5.0",
            "_view_name": "HTMLView",
            "description": "",
            "description_tooltip": null,
            "layout": "IPY_MODEL_4e5fb6617a0c4b3e90f5c7a42044cb79",
            "placeholder": "​",
            "style": "IPY_MODEL_5f37a185e1414be4904fc0a96df7a14f",
            "value": " 1/1 [00:01&lt;00:00,  1.82s/it]"
          }
        },
        "fb2f50c73a8f41de8f90928cf4937ebd": {
          "model_module": "@jupyter-widgets/base",
          "model_name": "LayoutModel",
          "model_module_version": "1.2.0",
          "state": {
            "_model_module": "@jupyter-widgets/base",
            "_model_module_version": "1.2.0",
            "_model_name": "LayoutModel",
            "_view_count": null,
            "_view_module": "@jupyter-widgets/base",
            "_view_module_version": "1.2.0",
            "_view_name": "LayoutView",
            "align_content": null,
            "align_items": null,
            "align_self": null,
            "border": null,
            "bottom": null,
            "display": null,
            "flex": null,
            "flex_flow": null,
            "grid_area": null,
            "grid_auto_columns": null,
            "grid_auto_flow": null,
            "grid_auto_rows": null,
            "grid_column": null,
            "grid_gap": null,
            "grid_row": null,
            "grid_template_areas": null,
            "grid_template_columns": null,
            "grid_template_rows": null,
            "height": null,
            "justify_content": null,
            "justify_items": null,
            "left": null,
            "margin": null,
            "max_height": null,
            "max_width": null,
            "min_height": null,
            "min_width": null,
            "object_fit": null,
            "object_position": null,
            "order": null,
            "overflow": null,
            "overflow_x": null,
            "overflow_y": null,
            "padding": null,
            "right": null,
            "top": null,
            "visibility": null,
            "width": null
          }
        },
        "cee644f1ad1d48418000e36250fa3b3f": {
          "model_module": "@jupyter-widgets/base",
          "model_name": "LayoutModel",
          "model_module_version": "1.2.0",
          "state": {
            "_model_module": "@jupyter-widgets/base",
            "_model_module_version": "1.2.0",
            "_model_name": "LayoutModel",
            "_view_count": null,
            "_view_module": "@jupyter-widgets/base",
            "_view_module_version": "1.2.0",
            "_view_name": "LayoutView",
            "align_content": null,
            "align_items": null,
            "align_self": null,
            "border": null,
            "bottom": null,
            "display": null,
            "flex": null,
            "flex_flow": null,
            "grid_area": null,
            "grid_auto_columns": null,
            "grid_auto_flow": null,
            "grid_auto_rows": null,
            "grid_column": null,
            "grid_gap": null,
            "grid_row": null,
            "grid_template_areas": null,
            "grid_template_columns": null,
            "grid_template_rows": null,
            "height": null,
            "justify_content": null,
            "justify_items": null,
            "left": null,
            "margin": null,
            "max_height": null,
            "max_width": null,
            "min_height": null,
            "min_width": null,
            "object_fit": null,
            "object_position": null,
            "order": null,
            "overflow": null,
            "overflow_x": null,
            "overflow_y": null,
            "padding": null,
            "right": null,
            "top": null,
            "visibility": null,
            "width": null
          }
        },
        "d2bde8c25fd6499c8c96b8e0fb181102": {
          "model_module": "@jupyter-widgets/controls",
          "model_name": "DescriptionStyleModel",
          "model_module_version": "1.5.0",
          "state": {
            "_model_module": "@jupyter-widgets/controls",
            "_model_module_version": "1.5.0",
            "_model_name": "DescriptionStyleModel",
            "_view_count": null,
            "_view_module": "@jupyter-widgets/base",
            "_view_module_version": "1.2.0",
            "_view_name": "StyleView",
            "description_width": ""
          }
        },
        "40df651389934824b8746dc3d69ce94e": {
          "model_module": "@jupyter-widgets/base",
          "model_name": "LayoutModel",
          "model_module_version": "1.2.0",
          "state": {
            "_model_module": "@jupyter-widgets/base",
            "_model_module_version": "1.2.0",
            "_model_name": "LayoutModel",
            "_view_count": null,
            "_view_module": "@jupyter-widgets/base",
            "_view_module_version": "1.2.0",
            "_view_name": "LayoutView",
            "align_content": null,
            "align_items": null,
            "align_self": null,
            "border": null,
            "bottom": null,
            "display": null,
            "flex": null,
            "flex_flow": null,
            "grid_area": null,
            "grid_auto_columns": null,
            "grid_auto_flow": null,
            "grid_auto_rows": null,
            "grid_column": null,
            "grid_gap": null,
            "grid_row": null,
            "grid_template_areas": null,
            "grid_template_columns": null,
            "grid_template_rows": null,
            "height": null,
            "justify_content": null,
            "justify_items": null,
            "left": null,
            "margin": null,
            "max_height": null,
            "max_width": null,
            "min_height": null,
            "min_width": null,
            "object_fit": null,
            "object_position": null,
            "order": null,
            "overflow": null,
            "overflow_x": null,
            "overflow_y": null,
            "padding": null,
            "right": null,
            "top": null,
            "visibility": null,
            "width": null
          }
        },
        "404a14d9d977419f8b43dd8e716cb51c": {
          "model_module": "@jupyter-widgets/controls",
          "model_name": "ProgressStyleModel",
          "model_module_version": "1.5.0",
          "state": {
            "_model_module": "@jupyter-widgets/controls",
            "_model_module_version": "1.5.0",
            "_model_name": "ProgressStyleModel",
            "_view_count": null,
            "_view_module": "@jupyter-widgets/base",
            "_view_module_version": "1.2.0",
            "_view_name": "StyleView",
            "bar_color": null,
            "description_width": ""
          }
        },
        "4e5fb6617a0c4b3e90f5c7a42044cb79": {
          "model_module": "@jupyter-widgets/base",
          "model_name": "LayoutModel",
          "model_module_version": "1.2.0",
          "state": {
            "_model_module": "@jupyter-widgets/base",
            "_model_module_version": "1.2.0",
            "_model_name": "LayoutModel",
            "_view_count": null,
            "_view_module": "@jupyter-widgets/base",
            "_view_module_version": "1.2.0",
            "_view_name": "LayoutView",
            "align_content": null,
            "align_items": null,
            "align_self": null,
            "border": null,
            "bottom": null,
            "display": null,
            "flex": null,
            "flex_flow": null,
            "grid_area": null,
            "grid_auto_columns": null,
            "grid_auto_flow": null,
            "grid_auto_rows": null,
            "grid_column": null,
            "grid_gap": null,
            "grid_row": null,
            "grid_template_areas": null,
            "grid_template_columns": null,
            "grid_template_rows": null,
            "height": null,
            "justify_content": null,
            "justify_items": null,
            "left": null,
            "margin": null,
            "max_height": null,
            "max_width": null,
            "min_height": null,
            "min_width": null,
            "object_fit": null,
            "object_position": null,
            "order": null,
            "overflow": null,
            "overflow_x": null,
            "overflow_y": null,
            "padding": null,
            "right": null,
            "top": null,
            "visibility": null,
            "width": null
          }
        },
        "5f37a185e1414be4904fc0a96df7a14f": {
          "model_module": "@jupyter-widgets/controls",
          "model_name": "DescriptionStyleModel",
          "model_module_version": "1.5.0",
          "state": {
            "_model_module": "@jupyter-widgets/controls",
            "_model_module_version": "1.5.0",
            "_model_name": "DescriptionStyleModel",
            "_view_count": null,
            "_view_module": "@jupyter-widgets/base",
            "_view_module_version": "1.2.0",
            "_view_name": "StyleView",
            "description_width": ""
          }
        },
        "275471bceb594ab2bcd5a087d211e882": {
          "model_module": "@jupyter-widgets/controls",
          "model_name": "HBoxModel",
          "model_module_version": "1.5.0",
          "state": {
            "_dom_classes": [],
            "_model_module": "@jupyter-widgets/controls",
            "_model_module_version": "1.5.0",
            "_model_name": "HBoxModel",
            "_view_count": null,
            "_view_module": "@jupyter-widgets/controls",
            "_view_module_version": "1.5.0",
            "_view_name": "HBoxView",
            "box_style": "",
            "children": [
              "IPY_MODEL_c3d572b2fa4c4badb0a5c38ffb99882f",
              "IPY_MODEL_1c40c4ff52634f61b0440eb4bcf391c9",
              "IPY_MODEL_b0b8d3f248a74a8eba8d4a75c95f3e46"
            ],
            "layout": "IPY_MODEL_aac5257cbe1545f5aff2284a38ec5ba1"
          }
        },
        "c3d572b2fa4c4badb0a5c38ffb99882f": {
          "model_module": "@jupyter-widgets/controls",
          "model_name": "HTMLModel",
          "model_module_version": "1.5.0",
          "state": {
            "_dom_classes": [],
            "_model_module": "@jupyter-widgets/controls",
            "_model_module_version": "1.5.0",
            "_model_name": "HTMLModel",
            "_view_count": null,
            "_view_module": "@jupyter-widgets/controls",
            "_view_module_version": "1.5.0",
            "_view_name": "HTMLView",
            "description": "",
            "description_tooltip": null,
            "layout": "IPY_MODEL_9066a124d6674fa99856197d67e23b6c",
            "placeholder": "​",
            "style": "IPY_MODEL_c4f8e4079b684095ae7a889fa7167620",
            "value": "Export report to file: 100%"
          }
        },
        "1c40c4ff52634f61b0440eb4bcf391c9": {
          "model_module": "@jupyter-widgets/controls",
          "model_name": "FloatProgressModel",
          "model_module_version": "1.5.0",
          "state": {
            "_dom_classes": [],
            "_model_module": "@jupyter-widgets/controls",
            "_model_module_version": "1.5.0",
            "_model_name": "FloatProgressModel",
            "_view_count": null,
            "_view_module": "@jupyter-widgets/controls",
            "_view_module_version": "1.5.0",
            "_view_name": "ProgressView",
            "bar_style": "success",
            "description": "",
            "description_tooltip": null,
            "layout": "IPY_MODEL_a3f1ae24562a4b83868283dd89217787",
            "max": 1,
            "min": 0,
            "orientation": "horizontal",
            "style": "IPY_MODEL_1275025f5f2c4088bdd31dcad54798f0",
            "value": 1
          }
        },
        "b0b8d3f248a74a8eba8d4a75c95f3e46": {
          "model_module": "@jupyter-widgets/controls",
          "model_name": "HTMLModel",
          "model_module_version": "1.5.0",
          "state": {
            "_dom_classes": [],
            "_model_module": "@jupyter-widgets/controls",
            "_model_module_version": "1.5.0",
            "_model_name": "HTMLModel",
            "_view_count": null,
            "_view_module": "@jupyter-widgets/controls",
            "_view_module_version": "1.5.0",
            "_view_name": "HTMLView",
            "description": "",
            "description_tooltip": null,
            "layout": "IPY_MODEL_6daf3e17569540fcb177ed5f7f0a9e84",
            "placeholder": "​",
            "style": "IPY_MODEL_4b97744270014b809952e21163f0e144",
            "value": " 1/1 [00:00&lt;00:00, 33.28it/s]"
          }
        },
        "aac5257cbe1545f5aff2284a38ec5ba1": {
          "model_module": "@jupyter-widgets/base",
          "model_name": "LayoutModel",
          "model_module_version": "1.2.0",
          "state": {
            "_model_module": "@jupyter-widgets/base",
            "_model_module_version": "1.2.0",
            "_model_name": "LayoutModel",
            "_view_count": null,
            "_view_module": "@jupyter-widgets/base",
            "_view_module_version": "1.2.0",
            "_view_name": "LayoutView",
            "align_content": null,
            "align_items": null,
            "align_self": null,
            "border": null,
            "bottom": null,
            "display": null,
            "flex": null,
            "flex_flow": null,
            "grid_area": null,
            "grid_auto_columns": null,
            "grid_auto_flow": null,
            "grid_auto_rows": null,
            "grid_column": null,
            "grid_gap": null,
            "grid_row": null,
            "grid_template_areas": null,
            "grid_template_columns": null,
            "grid_template_rows": null,
            "height": null,
            "justify_content": null,
            "justify_items": null,
            "left": null,
            "margin": null,
            "max_height": null,
            "max_width": null,
            "min_height": null,
            "min_width": null,
            "object_fit": null,
            "object_position": null,
            "order": null,
            "overflow": null,
            "overflow_x": null,
            "overflow_y": null,
            "padding": null,
            "right": null,
            "top": null,
            "visibility": null,
            "width": null
          }
        },
        "9066a124d6674fa99856197d67e23b6c": {
          "model_module": "@jupyter-widgets/base",
          "model_name": "LayoutModel",
          "model_module_version": "1.2.0",
          "state": {
            "_model_module": "@jupyter-widgets/base",
            "_model_module_version": "1.2.0",
            "_model_name": "LayoutModel",
            "_view_count": null,
            "_view_module": "@jupyter-widgets/base",
            "_view_module_version": "1.2.0",
            "_view_name": "LayoutView",
            "align_content": null,
            "align_items": null,
            "align_self": null,
            "border": null,
            "bottom": null,
            "display": null,
            "flex": null,
            "flex_flow": null,
            "grid_area": null,
            "grid_auto_columns": null,
            "grid_auto_flow": null,
            "grid_auto_rows": null,
            "grid_column": null,
            "grid_gap": null,
            "grid_row": null,
            "grid_template_areas": null,
            "grid_template_columns": null,
            "grid_template_rows": null,
            "height": null,
            "justify_content": null,
            "justify_items": null,
            "left": null,
            "margin": null,
            "max_height": null,
            "max_width": null,
            "min_height": null,
            "min_width": null,
            "object_fit": null,
            "object_position": null,
            "order": null,
            "overflow": null,
            "overflow_x": null,
            "overflow_y": null,
            "padding": null,
            "right": null,
            "top": null,
            "visibility": null,
            "width": null
          }
        },
        "c4f8e4079b684095ae7a889fa7167620": {
          "model_module": "@jupyter-widgets/controls",
          "model_name": "DescriptionStyleModel",
          "model_module_version": "1.5.0",
          "state": {
            "_model_module": "@jupyter-widgets/controls",
            "_model_module_version": "1.5.0",
            "_model_name": "DescriptionStyleModel",
            "_view_count": null,
            "_view_module": "@jupyter-widgets/base",
            "_view_module_version": "1.2.0",
            "_view_name": "StyleView",
            "description_width": ""
          }
        },
        "a3f1ae24562a4b83868283dd89217787": {
          "model_module": "@jupyter-widgets/base",
          "model_name": "LayoutModel",
          "model_module_version": "1.2.0",
          "state": {
            "_model_module": "@jupyter-widgets/base",
            "_model_module_version": "1.2.0",
            "_model_name": "LayoutModel",
            "_view_count": null,
            "_view_module": "@jupyter-widgets/base",
            "_view_module_version": "1.2.0",
            "_view_name": "LayoutView",
            "align_content": null,
            "align_items": null,
            "align_self": null,
            "border": null,
            "bottom": null,
            "display": null,
            "flex": null,
            "flex_flow": null,
            "grid_area": null,
            "grid_auto_columns": null,
            "grid_auto_flow": null,
            "grid_auto_rows": null,
            "grid_column": null,
            "grid_gap": null,
            "grid_row": null,
            "grid_template_areas": null,
            "grid_template_columns": null,
            "grid_template_rows": null,
            "height": null,
            "justify_content": null,
            "justify_items": null,
            "left": null,
            "margin": null,
            "max_height": null,
            "max_width": null,
            "min_height": null,
            "min_width": null,
            "object_fit": null,
            "object_position": null,
            "order": null,
            "overflow": null,
            "overflow_x": null,
            "overflow_y": null,
            "padding": null,
            "right": null,
            "top": null,
            "visibility": null,
            "width": null
          }
        },
        "1275025f5f2c4088bdd31dcad54798f0": {
          "model_module": "@jupyter-widgets/controls",
          "model_name": "ProgressStyleModel",
          "model_module_version": "1.5.0",
          "state": {
            "_model_module": "@jupyter-widgets/controls",
            "_model_module_version": "1.5.0",
            "_model_name": "ProgressStyleModel",
            "_view_count": null,
            "_view_module": "@jupyter-widgets/base",
            "_view_module_version": "1.2.0",
            "_view_name": "StyleView",
            "bar_color": null,
            "description_width": ""
          }
        },
        "6daf3e17569540fcb177ed5f7f0a9e84": {
          "model_module": "@jupyter-widgets/base",
          "model_name": "LayoutModel",
          "model_module_version": "1.2.0",
          "state": {
            "_model_module": "@jupyter-widgets/base",
            "_model_module_version": "1.2.0",
            "_model_name": "LayoutModel",
            "_view_count": null,
            "_view_module": "@jupyter-widgets/base",
            "_view_module_version": "1.2.0",
            "_view_name": "LayoutView",
            "align_content": null,
            "align_items": null,
            "align_self": null,
            "border": null,
            "bottom": null,
            "display": null,
            "flex": null,
            "flex_flow": null,
            "grid_area": null,
            "grid_auto_columns": null,
            "grid_auto_flow": null,
            "grid_auto_rows": null,
            "grid_column": null,
            "grid_gap": null,
            "grid_row": null,
            "grid_template_areas": null,
            "grid_template_columns": null,
            "grid_template_rows": null,
            "height": null,
            "justify_content": null,
            "justify_items": null,
            "left": null,
            "margin": null,
            "max_height": null,
            "max_width": null,
            "min_height": null,
            "min_width": null,
            "object_fit": null,
            "object_position": null,
            "order": null,
            "overflow": null,
            "overflow_x": null,
            "overflow_y": null,
            "padding": null,
            "right": null,
            "top": null,
            "visibility": null,
            "width": null
          }
        },
        "4b97744270014b809952e21163f0e144": {
          "model_module": "@jupyter-widgets/controls",
          "model_name": "DescriptionStyleModel",
          "model_module_version": "1.5.0",
          "state": {
            "_model_module": "@jupyter-widgets/controls",
            "_model_module_version": "1.5.0",
            "_model_name": "DescriptionStyleModel",
            "_view_count": null,
            "_view_module": "@jupyter-widgets/base",
            "_view_module_version": "1.2.0",
            "_view_name": "StyleView",
            "description_width": ""
          }
        },
        "008fd440cf4242639e8c212b4de39ce7": {
          "model_module": "@jupyter-widgets/controls",
          "model_name": "HBoxModel",
          "model_module_version": "1.5.0",
          "state": {
            "_dom_classes": [],
            "_model_module": "@jupyter-widgets/controls",
            "_model_module_version": "1.5.0",
            "_model_name": "HBoxModel",
            "_view_count": null,
            "_view_module": "@jupyter-widgets/controls",
            "_view_module_version": "1.5.0",
            "_view_name": "HBoxView",
            "box_style": "",
            "children": [
              "IPY_MODEL_bdd71b73087c439d96df5282b5eea3c2",
              "IPY_MODEL_26fd5349ca694e4789178218b690410e",
              "IPY_MODEL_014e760608184b22bd43fbd1429e83df"
            ],
            "layout": "IPY_MODEL_2631d0c732bb4e3cb5e8e67048ceb4d1"
          }
        },
        "bdd71b73087c439d96df5282b5eea3c2": {
          "model_module": "@jupyter-widgets/controls",
          "model_name": "HTMLModel",
          "model_module_version": "1.5.0",
          "state": {
            "_dom_classes": [],
            "_model_module": "@jupyter-widgets/controls",
            "_model_module_version": "1.5.0",
            "_model_name": "HTMLModel",
            "_view_count": null,
            "_view_module": "@jupyter-widgets/controls",
            "_view_module_version": "1.5.0",
            "_view_name": "HTMLView",
            "description": "",
            "description_tooltip": null,
            "layout": "IPY_MODEL_c53d7d63238042478d7c0aee67fea163",
            "placeholder": "​",
            "style": "IPY_MODEL_05eb18aff7574423a629c44b270951e6",
            "value": "Summarize dataset: 100%"
          }
        },
        "26fd5349ca694e4789178218b690410e": {
          "model_module": "@jupyter-widgets/controls",
          "model_name": "FloatProgressModel",
          "model_module_version": "1.5.0",
          "state": {
            "_dom_classes": [],
            "_model_module": "@jupyter-widgets/controls",
            "_model_module_version": "1.5.0",
            "_model_name": "FloatProgressModel",
            "_view_count": null,
            "_view_module": "@jupyter-widgets/controls",
            "_view_module_version": "1.5.0",
            "_view_name": "ProgressView",
            "bar_style": "success",
            "description": "",
            "description_tooltip": null,
            "layout": "IPY_MODEL_79ff4eb73dea4cf48c90dfe8c1d41d32",
            "max": 5,
            "min": 0,
            "orientation": "horizontal",
            "style": "IPY_MODEL_1e2c981acea14bc28a8e1488533b299c",
            "value": 5
          }
        },
        "014e760608184b22bd43fbd1429e83df": {
          "model_module": "@jupyter-widgets/controls",
          "model_name": "HTMLModel",
          "model_module_version": "1.5.0",
          "state": {
            "_dom_classes": [],
            "_model_module": "@jupyter-widgets/controls",
            "_model_module_version": "1.5.0",
            "_model_name": "HTMLModel",
            "_view_count": null,
            "_view_module": "@jupyter-widgets/controls",
            "_view_module_version": "1.5.0",
            "_view_name": "HTMLView",
            "description": "",
            "description_tooltip": null,
            "layout": "IPY_MODEL_2af5d14156304b05b1268f0a5c47be8f",
            "placeholder": "​",
            "style": "IPY_MODEL_e422993e00c74d7b928eeb183b19b626",
            "value": " 83/83 [00:17&lt;00:00,  3.24it/s, Completed]"
          }
        },
        "2631d0c732bb4e3cb5e8e67048ceb4d1": {
          "model_module": "@jupyter-widgets/base",
          "model_name": "LayoutModel",
          "model_module_version": "1.2.0",
          "state": {
            "_model_module": "@jupyter-widgets/base",
            "_model_module_version": "1.2.0",
            "_model_name": "LayoutModel",
            "_view_count": null,
            "_view_module": "@jupyter-widgets/base",
            "_view_module_version": "1.2.0",
            "_view_name": "LayoutView",
            "align_content": null,
            "align_items": null,
            "align_self": null,
            "border": null,
            "bottom": null,
            "display": null,
            "flex": null,
            "flex_flow": null,
            "grid_area": null,
            "grid_auto_columns": null,
            "grid_auto_flow": null,
            "grid_auto_rows": null,
            "grid_column": null,
            "grid_gap": null,
            "grid_row": null,
            "grid_template_areas": null,
            "grid_template_columns": null,
            "grid_template_rows": null,
            "height": null,
            "justify_content": null,
            "justify_items": null,
            "left": null,
            "margin": null,
            "max_height": null,
            "max_width": null,
            "min_height": null,
            "min_width": null,
            "object_fit": null,
            "object_position": null,
            "order": null,
            "overflow": null,
            "overflow_x": null,
            "overflow_y": null,
            "padding": null,
            "right": null,
            "top": null,
            "visibility": null,
            "width": null
          }
        },
        "c53d7d63238042478d7c0aee67fea163": {
          "model_module": "@jupyter-widgets/base",
          "model_name": "LayoutModel",
          "model_module_version": "1.2.0",
          "state": {
            "_model_module": "@jupyter-widgets/base",
            "_model_module_version": "1.2.0",
            "_model_name": "LayoutModel",
            "_view_count": null,
            "_view_module": "@jupyter-widgets/base",
            "_view_module_version": "1.2.0",
            "_view_name": "LayoutView",
            "align_content": null,
            "align_items": null,
            "align_self": null,
            "border": null,
            "bottom": null,
            "display": null,
            "flex": null,
            "flex_flow": null,
            "grid_area": null,
            "grid_auto_columns": null,
            "grid_auto_flow": null,
            "grid_auto_rows": null,
            "grid_column": null,
            "grid_gap": null,
            "grid_row": null,
            "grid_template_areas": null,
            "grid_template_columns": null,
            "grid_template_rows": null,
            "height": null,
            "justify_content": null,
            "justify_items": null,
            "left": null,
            "margin": null,
            "max_height": null,
            "max_width": null,
            "min_height": null,
            "min_width": null,
            "object_fit": null,
            "object_position": null,
            "order": null,
            "overflow": null,
            "overflow_x": null,
            "overflow_y": null,
            "padding": null,
            "right": null,
            "top": null,
            "visibility": null,
            "width": null
          }
        },
        "05eb18aff7574423a629c44b270951e6": {
          "model_module": "@jupyter-widgets/controls",
          "model_name": "DescriptionStyleModel",
          "model_module_version": "1.5.0",
          "state": {
            "_model_module": "@jupyter-widgets/controls",
            "_model_module_version": "1.5.0",
            "_model_name": "DescriptionStyleModel",
            "_view_count": null,
            "_view_module": "@jupyter-widgets/base",
            "_view_module_version": "1.2.0",
            "_view_name": "StyleView",
            "description_width": ""
          }
        },
        "79ff4eb73dea4cf48c90dfe8c1d41d32": {
          "model_module": "@jupyter-widgets/base",
          "model_name": "LayoutModel",
          "model_module_version": "1.2.0",
          "state": {
            "_model_module": "@jupyter-widgets/base",
            "_model_module_version": "1.2.0",
            "_model_name": "LayoutModel",
            "_view_count": null,
            "_view_module": "@jupyter-widgets/base",
            "_view_module_version": "1.2.0",
            "_view_name": "LayoutView",
            "align_content": null,
            "align_items": null,
            "align_self": null,
            "border": null,
            "bottom": null,
            "display": null,
            "flex": null,
            "flex_flow": null,
            "grid_area": null,
            "grid_auto_columns": null,
            "grid_auto_flow": null,
            "grid_auto_rows": null,
            "grid_column": null,
            "grid_gap": null,
            "grid_row": null,
            "grid_template_areas": null,
            "grid_template_columns": null,
            "grid_template_rows": null,
            "height": null,
            "justify_content": null,
            "justify_items": null,
            "left": null,
            "margin": null,
            "max_height": null,
            "max_width": null,
            "min_height": null,
            "min_width": null,
            "object_fit": null,
            "object_position": null,
            "order": null,
            "overflow": null,
            "overflow_x": null,
            "overflow_y": null,
            "padding": null,
            "right": null,
            "top": null,
            "visibility": null,
            "width": null
          }
        },
        "1e2c981acea14bc28a8e1488533b299c": {
          "model_module": "@jupyter-widgets/controls",
          "model_name": "ProgressStyleModel",
          "model_module_version": "1.5.0",
          "state": {
            "_model_module": "@jupyter-widgets/controls",
            "_model_module_version": "1.5.0",
            "_model_name": "ProgressStyleModel",
            "_view_count": null,
            "_view_module": "@jupyter-widgets/base",
            "_view_module_version": "1.2.0",
            "_view_name": "StyleView",
            "bar_color": null,
            "description_width": ""
          }
        },
        "2af5d14156304b05b1268f0a5c47be8f": {
          "model_module": "@jupyter-widgets/base",
          "model_name": "LayoutModel",
          "model_module_version": "1.2.0",
          "state": {
            "_model_module": "@jupyter-widgets/base",
            "_model_module_version": "1.2.0",
            "_model_name": "LayoutModel",
            "_view_count": null,
            "_view_module": "@jupyter-widgets/base",
            "_view_module_version": "1.2.0",
            "_view_name": "LayoutView",
            "align_content": null,
            "align_items": null,
            "align_self": null,
            "border": null,
            "bottom": null,
            "display": null,
            "flex": null,
            "flex_flow": null,
            "grid_area": null,
            "grid_auto_columns": null,
            "grid_auto_flow": null,
            "grid_auto_rows": null,
            "grid_column": null,
            "grid_gap": null,
            "grid_row": null,
            "grid_template_areas": null,
            "grid_template_columns": null,
            "grid_template_rows": null,
            "height": null,
            "justify_content": null,
            "justify_items": null,
            "left": null,
            "margin": null,
            "max_height": null,
            "max_width": null,
            "min_height": null,
            "min_width": null,
            "object_fit": null,
            "object_position": null,
            "order": null,
            "overflow": null,
            "overflow_x": null,
            "overflow_y": null,
            "padding": null,
            "right": null,
            "top": null,
            "visibility": null,
            "width": null
          }
        },
        "e422993e00c74d7b928eeb183b19b626": {
          "model_module": "@jupyter-widgets/controls",
          "model_name": "DescriptionStyleModel",
          "model_module_version": "1.5.0",
          "state": {
            "_model_module": "@jupyter-widgets/controls",
            "_model_module_version": "1.5.0",
            "_model_name": "DescriptionStyleModel",
            "_view_count": null,
            "_view_module": "@jupyter-widgets/base",
            "_view_module_version": "1.2.0",
            "_view_name": "StyleView",
            "description_width": ""
          }
        },
        "d6af539ac5b842d89d9f631f1c8c3aef": {
          "model_module": "@jupyter-widgets/controls",
          "model_name": "HBoxModel",
          "model_module_version": "1.5.0",
          "state": {
            "_dom_classes": [],
            "_model_module": "@jupyter-widgets/controls",
            "_model_module_version": "1.5.0",
            "_model_name": "HBoxModel",
            "_view_count": null,
            "_view_module": "@jupyter-widgets/controls",
            "_view_module_version": "1.5.0",
            "_view_name": "HBoxView",
            "box_style": "",
            "children": [
              "IPY_MODEL_b116dbb595ef483e98d00a8c79a2ca84",
              "IPY_MODEL_14fc4b2bde7b46d0b378135705115f66",
              "IPY_MODEL_1a9208fd1fb94e94a7f1e35154278769"
            ],
            "layout": "IPY_MODEL_f52f121292e94d3d8e200f92c66e9b10"
          }
        },
        "b116dbb595ef483e98d00a8c79a2ca84": {
          "model_module": "@jupyter-widgets/controls",
          "model_name": "HTMLModel",
          "model_module_version": "1.5.0",
          "state": {
            "_dom_classes": [],
            "_model_module": "@jupyter-widgets/controls",
            "_model_module_version": "1.5.0",
            "_model_name": "HTMLModel",
            "_view_count": null,
            "_view_module": "@jupyter-widgets/controls",
            "_view_module_version": "1.5.0",
            "_view_name": "HTMLView",
            "description": "",
            "description_tooltip": null,
            "layout": "IPY_MODEL_98d3db972e4041bca136208c5a5d591a",
            "placeholder": "​",
            "style": "IPY_MODEL_20be300af2d4476bb01bdd98f5c88843",
            "value": "Generate report structure: 100%"
          }
        },
        "14fc4b2bde7b46d0b378135705115f66": {
          "model_module": "@jupyter-widgets/controls",
          "model_name": "FloatProgressModel",
          "model_module_version": "1.5.0",
          "state": {
            "_dom_classes": [],
            "_model_module": "@jupyter-widgets/controls",
            "_model_module_version": "1.5.0",
            "_model_name": "FloatProgressModel",
            "_view_count": null,
            "_view_module": "@jupyter-widgets/controls",
            "_view_module_version": "1.5.0",
            "_view_name": "ProgressView",
            "bar_style": "success",
            "description": "",
            "description_tooltip": null,
            "layout": "IPY_MODEL_1f6bc89a7a9047978aec3ccd99a80266",
            "max": 1,
            "min": 0,
            "orientation": "horizontal",
            "style": "IPY_MODEL_21502b3289164458bc196e54d8ec8c5c",
            "value": 1
          }
        },
        "1a9208fd1fb94e94a7f1e35154278769": {
          "model_module": "@jupyter-widgets/controls",
          "model_name": "HTMLModel",
          "model_module_version": "1.5.0",
          "state": {
            "_dom_classes": [],
            "_model_module": "@jupyter-widgets/controls",
            "_model_module_version": "1.5.0",
            "_model_name": "HTMLModel",
            "_view_count": null,
            "_view_module": "@jupyter-widgets/controls",
            "_view_module_version": "1.5.0",
            "_view_name": "HTMLView",
            "description": "",
            "description_tooltip": null,
            "layout": "IPY_MODEL_f9a99d4a128a4b5fb64f53327724668a",
            "placeholder": "​",
            "style": "IPY_MODEL_37b62795df7d4c16adbf99140d545a6d",
            "value": " 1/1 [00:06&lt;00:00,  6.14s/it]"
          }
        },
        "f52f121292e94d3d8e200f92c66e9b10": {
          "model_module": "@jupyter-widgets/base",
          "model_name": "LayoutModel",
          "model_module_version": "1.2.0",
          "state": {
            "_model_module": "@jupyter-widgets/base",
            "_model_module_version": "1.2.0",
            "_model_name": "LayoutModel",
            "_view_count": null,
            "_view_module": "@jupyter-widgets/base",
            "_view_module_version": "1.2.0",
            "_view_name": "LayoutView",
            "align_content": null,
            "align_items": null,
            "align_self": null,
            "border": null,
            "bottom": null,
            "display": null,
            "flex": null,
            "flex_flow": null,
            "grid_area": null,
            "grid_auto_columns": null,
            "grid_auto_flow": null,
            "grid_auto_rows": null,
            "grid_column": null,
            "grid_gap": null,
            "grid_row": null,
            "grid_template_areas": null,
            "grid_template_columns": null,
            "grid_template_rows": null,
            "height": null,
            "justify_content": null,
            "justify_items": null,
            "left": null,
            "margin": null,
            "max_height": null,
            "max_width": null,
            "min_height": null,
            "min_width": null,
            "object_fit": null,
            "object_position": null,
            "order": null,
            "overflow": null,
            "overflow_x": null,
            "overflow_y": null,
            "padding": null,
            "right": null,
            "top": null,
            "visibility": null,
            "width": null
          }
        },
        "98d3db972e4041bca136208c5a5d591a": {
          "model_module": "@jupyter-widgets/base",
          "model_name": "LayoutModel",
          "model_module_version": "1.2.0",
          "state": {
            "_model_module": "@jupyter-widgets/base",
            "_model_module_version": "1.2.0",
            "_model_name": "LayoutModel",
            "_view_count": null,
            "_view_module": "@jupyter-widgets/base",
            "_view_module_version": "1.2.0",
            "_view_name": "LayoutView",
            "align_content": null,
            "align_items": null,
            "align_self": null,
            "border": null,
            "bottom": null,
            "display": null,
            "flex": null,
            "flex_flow": null,
            "grid_area": null,
            "grid_auto_columns": null,
            "grid_auto_flow": null,
            "grid_auto_rows": null,
            "grid_column": null,
            "grid_gap": null,
            "grid_row": null,
            "grid_template_areas": null,
            "grid_template_columns": null,
            "grid_template_rows": null,
            "height": null,
            "justify_content": null,
            "justify_items": null,
            "left": null,
            "margin": null,
            "max_height": null,
            "max_width": null,
            "min_height": null,
            "min_width": null,
            "object_fit": null,
            "object_position": null,
            "order": null,
            "overflow": null,
            "overflow_x": null,
            "overflow_y": null,
            "padding": null,
            "right": null,
            "top": null,
            "visibility": null,
            "width": null
          }
        },
        "20be300af2d4476bb01bdd98f5c88843": {
          "model_module": "@jupyter-widgets/controls",
          "model_name": "DescriptionStyleModel",
          "model_module_version": "1.5.0",
          "state": {
            "_model_module": "@jupyter-widgets/controls",
            "_model_module_version": "1.5.0",
            "_model_name": "DescriptionStyleModel",
            "_view_count": null,
            "_view_module": "@jupyter-widgets/base",
            "_view_module_version": "1.2.0",
            "_view_name": "StyleView",
            "description_width": ""
          }
        },
        "1f6bc89a7a9047978aec3ccd99a80266": {
          "model_module": "@jupyter-widgets/base",
          "model_name": "LayoutModel",
          "model_module_version": "1.2.0",
          "state": {
            "_model_module": "@jupyter-widgets/base",
            "_model_module_version": "1.2.0",
            "_model_name": "LayoutModel",
            "_view_count": null,
            "_view_module": "@jupyter-widgets/base",
            "_view_module_version": "1.2.0",
            "_view_name": "LayoutView",
            "align_content": null,
            "align_items": null,
            "align_self": null,
            "border": null,
            "bottom": null,
            "display": null,
            "flex": null,
            "flex_flow": null,
            "grid_area": null,
            "grid_auto_columns": null,
            "grid_auto_flow": null,
            "grid_auto_rows": null,
            "grid_column": null,
            "grid_gap": null,
            "grid_row": null,
            "grid_template_areas": null,
            "grid_template_columns": null,
            "grid_template_rows": null,
            "height": null,
            "justify_content": null,
            "justify_items": null,
            "left": null,
            "margin": null,
            "max_height": null,
            "max_width": null,
            "min_height": null,
            "min_width": null,
            "object_fit": null,
            "object_position": null,
            "order": null,
            "overflow": null,
            "overflow_x": null,
            "overflow_y": null,
            "padding": null,
            "right": null,
            "top": null,
            "visibility": null,
            "width": null
          }
        },
        "21502b3289164458bc196e54d8ec8c5c": {
          "model_module": "@jupyter-widgets/controls",
          "model_name": "ProgressStyleModel",
          "model_module_version": "1.5.0",
          "state": {
            "_model_module": "@jupyter-widgets/controls",
            "_model_module_version": "1.5.0",
            "_model_name": "ProgressStyleModel",
            "_view_count": null,
            "_view_module": "@jupyter-widgets/base",
            "_view_module_version": "1.2.0",
            "_view_name": "StyleView",
            "bar_color": null,
            "description_width": ""
          }
        },
        "f9a99d4a128a4b5fb64f53327724668a": {
          "model_module": "@jupyter-widgets/base",
          "model_name": "LayoutModel",
          "model_module_version": "1.2.0",
          "state": {
            "_model_module": "@jupyter-widgets/base",
            "_model_module_version": "1.2.0",
            "_model_name": "LayoutModel",
            "_view_count": null,
            "_view_module": "@jupyter-widgets/base",
            "_view_module_version": "1.2.0",
            "_view_name": "LayoutView",
            "align_content": null,
            "align_items": null,
            "align_self": null,
            "border": null,
            "bottom": null,
            "display": null,
            "flex": null,
            "flex_flow": null,
            "grid_area": null,
            "grid_auto_columns": null,
            "grid_auto_flow": null,
            "grid_auto_rows": null,
            "grid_column": null,
            "grid_gap": null,
            "grid_row": null,
            "grid_template_areas": null,
            "grid_template_columns": null,
            "grid_template_rows": null,
            "height": null,
            "justify_content": null,
            "justify_items": null,
            "left": null,
            "margin": null,
            "max_height": null,
            "max_width": null,
            "min_height": null,
            "min_width": null,
            "object_fit": null,
            "object_position": null,
            "order": null,
            "overflow": null,
            "overflow_x": null,
            "overflow_y": null,
            "padding": null,
            "right": null,
            "top": null,
            "visibility": null,
            "width": null
          }
        },
        "37b62795df7d4c16adbf99140d545a6d": {
          "model_module": "@jupyter-widgets/controls",
          "model_name": "DescriptionStyleModel",
          "model_module_version": "1.5.0",
          "state": {
            "_model_module": "@jupyter-widgets/controls",
            "_model_module_version": "1.5.0",
            "_model_name": "DescriptionStyleModel",
            "_view_count": null,
            "_view_module": "@jupyter-widgets/base",
            "_view_module_version": "1.2.0",
            "_view_name": "StyleView",
            "description_width": ""
          }
        },
        "ec0b2d3dcdee415092e9ddaf7c691b0a": {
          "model_module": "@jupyter-widgets/controls",
          "model_name": "HBoxModel",
          "model_module_version": "1.5.0",
          "state": {
            "_dom_classes": [],
            "_model_module": "@jupyter-widgets/controls",
            "_model_module_version": "1.5.0",
            "_model_name": "HBoxModel",
            "_view_count": null,
            "_view_module": "@jupyter-widgets/controls",
            "_view_module_version": "1.5.0",
            "_view_name": "HBoxView",
            "box_style": "",
            "children": [
              "IPY_MODEL_4df1df1b7935402f93120cd38af2e2a8",
              "IPY_MODEL_725ba194dc4b4aa68b8119525c461fe3",
              "IPY_MODEL_9eedb31f934648d289cf55449b84f5a6"
            ],
            "layout": "IPY_MODEL_6de655ea46b246bab1603216d7448f35"
          }
        },
        "4df1df1b7935402f93120cd38af2e2a8": {
          "model_module": "@jupyter-widgets/controls",
          "model_name": "HTMLModel",
          "model_module_version": "1.5.0",
          "state": {
            "_dom_classes": [],
            "_model_module": "@jupyter-widgets/controls",
            "_model_module_version": "1.5.0",
            "_model_name": "HTMLModel",
            "_view_count": null,
            "_view_module": "@jupyter-widgets/controls",
            "_view_module_version": "1.5.0",
            "_view_name": "HTMLView",
            "description": "",
            "description_tooltip": null,
            "layout": "IPY_MODEL_9ae672025f7841d28afdda53e9ca9e2c",
            "placeholder": "​",
            "style": "IPY_MODEL_7d326e63045649e1a3be0b6d1fc49e3b",
            "value": "Render HTML: 100%"
          }
        },
        "725ba194dc4b4aa68b8119525c461fe3": {
          "model_module": "@jupyter-widgets/controls",
          "model_name": "FloatProgressModel",
          "model_module_version": "1.5.0",
          "state": {
            "_dom_classes": [],
            "_model_module": "@jupyter-widgets/controls",
            "_model_module_version": "1.5.0",
            "_model_name": "FloatProgressModel",
            "_view_count": null,
            "_view_module": "@jupyter-widgets/controls",
            "_view_module_version": "1.5.0",
            "_view_name": "ProgressView",
            "bar_style": "success",
            "description": "",
            "description_tooltip": null,
            "layout": "IPY_MODEL_5298b346b34545ca80031d440d051a01",
            "max": 1,
            "min": 0,
            "orientation": "horizontal",
            "style": "IPY_MODEL_eea84944d5154a8a82c0c73973aaeb75",
            "value": 1
          }
        },
        "9eedb31f934648d289cf55449b84f5a6": {
          "model_module": "@jupyter-widgets/controls",
          "model_name": "HTMLModel",
          "model_module_version": "1.5.0",
          "state": {
            "_dom_classes": [],
            "_model_module": "@jupyter-widgets/controls",
            "_model_module_version": "1.5.0",
            "_model_name": "HTMLModel",
            "_view_count": null,
            "_view_module": "@jupyter-widgets/controls",
            "_view_module_version": "1.5.0",
            "_view_name": "HTMLView",
            "description": "",
            "description_tooltip": null,
            "layout": "IPY_MODEL_17f0df912f7e41419fe56fd18e7230e0",
            "placeholder": "​",
            "style": "IPY_MODEL_fa7fcdee718e4dee8a72179f1cd4ffd2",
            "value": " 1/1 [00:04&lt;00:00,  4.77s/it]"
          }
        },
        "6de655ea46b246bab1603216d7448f35": {
          "model_module": "@jupyter-widgets/base",
          "model_name": "LayoutModel",
          "model_module_version": "1.2.0",
          "state": {
            "_model_module": "@jupyter-widgets/base",
            "_model_module_version": "1.2.0",
            "_model_name": "LayoutModel",
            "_view_count": null,
            "_view_module": "@jupyter-widgets/base",
            "_view_module_version": "1.2.0",
            "_view_name": "LayoutView",
            "align_content": null,
            "align_items": null,
            "align_self": null,
            "border": null,
            "bottom": null,
            "display": null,
            "flex": null,
            "flex_flow": null,
            "grid_area": null,
            "grid_auto_columns": null,
            "grid_auto_flow": null,
            "grid_auto_rows": null,
            "grid_column": null,
            "grid_gap": null,
            "grid_row": null,
            "grid_template_areas": null,
            "grid_template_columns": null,
            "grid_template_rows": null,
            "height": null,
            "justify_content": null,
            "justify_items": null,
            "left": null,
            "margin": null,
            "max_height": null,
            "max_width": null,
            "min_height": null,
            "min_width": null,
            "object_fit": null,
            "object_position": null,
            "order": null,
            "overflow": null,
            "overflow_x": null,
            "overflow_y": null,
            "padding": null,
            "right": null,
            "top": null,
            "visibility": null,
            "width": null
          }
        },
        "9ae672025f7841d28afdda53e9ca9e2c": {
          "model_module": "@jupyter-widgets/base",
          "model_name": "LayoutModel",
          "model_module_version": "1.2.0",
          "state": {
            "_model_module": "@jupyter-widgets/base",
            "_model_module_version": "1.2.0",
            "_model_name": "LayoutModel",
            "_view_count": null,
            "_view_module": "@jupyter-widgets/base",
            "_view_module_version": "1.2.0",
            "_view_name": "LayoutView",
            "align_content": null,
            "align_items": null,
            "align_self": null,
            "border": null,
            "bottom": null,
            "display": null,
            "flex": null,
            "flex_flow": null,
            "grid_area": null,
            "grid_auto_columns": null,
            "grid_auto_flow": null,
            "grid_auto_rows": null,
            "grid_column": null,
            "grid_gap": null,
            "grid_row": null,
            "grid_template_areas": null,
            "grid_template_columns": null,
            "grid_template_rows": null,
            "height": null,
            "justify_content": null,
            "justify_items": null,
            "left": null,
            "margin": null,
            "max_height": null,
            "max_width": null,
            "min_height": null,
            "min_width": null,
            "object_fit": null,
            "object_position": null,
            "order": null,
            "overflow": null,
            "overflow_x": null,
            "overflow_y": null,
            "padding": null,
            "right": null,
            "top": null,
            "visibility": null,
            "width": null
          }
        },
        "7d326e63045649e1a3be0b6d1fc49e3b": {
          "model_module": "@jupyter-widgets/controls",
          "model_name": "DescriptionStyleModel",
          "model_module_version": "1.5.0",
          "state": {
            "_model_module": "@jupyter-widgets/controls",
            "_model_module_version": "1.5.0",
            "_model_name": "DescriptionStyleModel",
            "_view_count": null,
            "_view_module": "@jupyter-widgets/base",
            "_view_module_version": "1.2.0",
            "_view_name": "StyleView",
            "description_width": ""
          }
        },
        "5298b346b34545ca80031d440d051a01": {
          "model_module": "@jupyter-widgets/base",
          "model_name": "LayoutModel",
          "model_module_version": "1.2.0",
          "state": {
            "_model_module": "@jupyter-widgets/base",
            "_model_module_version": "1.2.0",
            "_model_name": "LayoutModel",
            "_view_count": null,
            "_view_module": "@jupyter-widgets/base",
            "_view_module_version": "1.2.0",
            "_view_name": "LayoutView",
            "align_content": null,
            "align_items": null,
            "align_self": null,
            "border": null,
            "bottom": null,
            "display": null,
            "flex": null,
            "flex_flow": null,
            "grid_area": null,
            "grid_auto_columns": null,
            "grid_auto_flow": null,
            "grid_auto_rows": null,
            "grid_column": null,
            "grid_gap": null,
            "grid_row": null,
            "grid_template_areas": null,
            "grid_template_columns": null,
            "grid_template_rows": null,
            "height": null,
            "justify_content": null,
            "justify_items": null,
            "left": null,
            "margin": null,
            "max_height": null,
            "max_width": null,
            "min_height": null,
            "min_width": null,
            "object_fit": null,
            "object_position": null,
            "order": null,
            "overflow": null,
            "overflow_x": null,
            "overflow_y": null,
            "padding": null,
            "right": null,
            "top": null,
            "visibility": null,
            "width": null
          }
        },
        "eea84944d5154a8a82c0c73973aaeb75": {
          "model_module": "@jupyter-widgets/controls",
          "model_name": "ProgressStyleModel",
          "model_module_version": "1.5.0",
          "state": {
            "_model_module": "@jupyter-widgets/controls",
            "_model_module_version": "1.5.0",
            "_model_name": "ProgressStyleModel",
            "_view_count": null,
            "_view_module": "@jupyter-widgets/base",
            "_view_module_version": "1.2.0",
            "_view_name": "StyleView",
            "bar_color": null,
            "description_width": ""
          }
        },
        "17f0df912f7e41419fe56fd18e7230e0": {
          "model_module": "@jupyter-widgets/base",
          "model_name": "LayoutModel",
          "model_module_version": "1.2.0",
          "state": {
            "_model_module": "@jupyter-widgets/base",
            "_model_module_version": "1.2.0",
            "_model_name": "LayoutModel",
            "_view_count": null,
            "_view_module": "@jupyter-widgets/base",
            "_view_module_version": "1.2.0",
            "_view_name": "LayoutView",
            "align_content": null,
            "align_items": null,
            "align_self": null,
            "border": null,
            "bottom": null,
            "display": null,
            "flex": null,
            "flex_flow": null,
            "grid_area": null,
            "grid_auto_columns": null,
            "grid_auto_flow": null,
            "grid_auto_rows": null,
            "grid_column": null,
            "grid_gap": null,
            "grid_row": null,
            "grid_template_areas": null,
            "grid_template_columns": null,
            "grid_template_rows": null,
            "height": null,
            "justify_content": null,
            "justify_items": null,
            "left": null,
            "margin": null,
            "max_height": null,
            "max_width": null,
            "min_height": null,
            "min_width": null,
            "object_fit": null,
            "object_position": null,
            "order": null,
            "overflow": null,
            "overflow_x": null,
            "overflow_y": null,
            "padding": null,
            "right": null,
            "top": null,
            "visibility": null,
            "width": null
          }
        },
        "fa7fcdee718e4dee8a72179f1cd4ffd2": {
          "model_module": "@jupyter-widgets/controls",
          "model_name": "DescriptionStyleModel",
          "model_module_version": "1.5.0",
          "state": {
            "_model_module": "@jupyter-widgets/controls",
            "_model_module_version": "1.5.0",
            "_model_name": "DescriptionStyleModel",
            "_view_count": null,
            "_view_module": "@jupyter-widgets/base",
            "_view_module_version": "1.2.0",
            "_view_name": "StyleView",
            "description_width": ""
          }
        },
        "66d39dbce7ce4fc4847733f5cb1516e6": {
          "model_module": "@jupyter-widgets/controls",
          "model_name": "HBoxModel",
          "model_module_version": "1.5.0",
          "state": {
            "_dom_classes": [],
            "_model_module": "@jupyter-widgets/controls",
            "_model_module_version": "1.5.0",
            "_model_name": "HBoxModel",
            "_view_count": null,
            "_view_module": "@jupyter-widgets/controls",
            "_view_module_version": "1.5.0",
            "_view_name": "HBoxView",
            "box_style": "",
            "children": [
              "IPY_MODEL_3b86cb071ed043a5818dee7c30535470",
              "IPY_MODEL_0291ef20543c47baa1b32cd65320ea99",
              "IPY_MODEL_5bdd891590514b32ab5e2dc328a513ec"
            ],
            "layout": "IPY_MODEL_851cc499285c4da597e88a0075d4152f"
          }
        },
        "3b86cb071ed043a5818dee7c30535470": {
          "model_module": "@jupyter-widgets/controls",
          "model_name": "HTMLModel",
          "model_module_version": "1.5.0",
          "state": {
            "_dom_classes": [],
            "_model_module": "@jupyter-widgets/controls",
            "_model_module_version": "1.5.0",
            "_model_name": "HTMLModel",
            "_view_count": null,
            "_view_module": "@jupyter-widgets/controls",
            "_view_module_version": "1.5.0",
            "_view_name": "HTMLView",
            "description": "",
            "description_tooltip": null,
            "layout": "IPY_MODEL_97dd63ea484749f995b6218c81af6320",
            "placeholder": "​",
            "style": "IPY_MODEL_f89a6de03d704f4b867ba507ec4676c7",
            "value": "Export report to file: 100%"
          }
        },
        "0291ef20543c47baa1b32cd65320ea99": {
          "model_module": "@jupyter-widgets/controls",
          "model_name": "FloatProgressModel",
          "model_module_version": "1.5.0",
          "state": {
            "_dom_classes": [],
            "_model_module": "@jupyter-widgets/controls",
            "_model_module_version": "1.5.0",
            "_model_name": "FloatProgressModel",
            "_view_count": null,
            "_view_module": "@jupyter-widgets/controls",
            "_view_module_version": "1.5.0",
            "_view_name": "ProgressView",
            "bar_style": "success",
            "description": "",
            "description_tooltip": null,
            "layout": "IPY_MODEL_faf0e44ef91242afaa4a4472139dcd67",
            "max": 1,
            "min": 0,
            "orientation": "horizontal",
            "style": "IPY_MODEL_45ffda865cf543b9a9338c8a74c7ffc1",
            "value": 1
          }
        },
        "5bdd891590514b32ab5e2dc328a513ec": {
          "model_module": "@jupyter-widgets/controls",
          "model_name": "HTMLModel",
          "model_module_version": "1.5.0",
          "state": {
            "_dom_classes": [],
            "_model_module": "@jupyter-widgets/controls",
            "_model_module_version": "1.5.0",
            "_model_name": "HTMLModel",
            "_view_count": null,
            "_view_module": "@jupyter-widgets/controls",
            "_view_module_version": "1.5.0",
            "_view_name": "HTMLView",
            "description": "",
            "description_tooltip": null,
            "layout": "IPY_MODEL_58c59dcfeb5143e3a4b7a6e8fd5f6157",
            "placeholder": "​",
            "style": "IPY_MODEL_a037c54aaa2a4c9ab2172771232a10de",
            "value": " 1/1 [00:00&lt;00:00, 25.25it/s]"
          }
        },
        "851cc499285c4da597e88a0075d4152f": {
          "model_module": "@jupyter-widgets/base",
          "model_name": "LayoutModel",
          "model_module_version": "1.2.0",
          "state": {
            "_model_module": "@jupyter-widgets/base",
            "_model_module_version": "1.2.0",
            "_model_name": "LayoutModel",
            "_view_count": null,
            "_view_module": "@jupyter-widgets/base",
            "_view_module_version": "1.2.0",
            "_view_name": "LayoutView",
            "align_content": null,
            "align_items": null,
            "align_self": null,
            "border": null,
            "bottom": null,
            "display": null,
            "flex": null,
            "flex_flow": null,
            "grid_area": null,
            "grid_auto_columns": null,
            "grid_auto_flow": null,
            "grid_auto_rows": null,
            "grid_column": null,
            "grid_gap": null,
            "grid_row": null,
            "grid_template_areas": null,
            "grid_template_columns": null,
            "grid_template_rows": null,
            "height": null,
            "justify_content": null,
            "justify_items": null,
            "left": null,
            "margin": null,
            "max_height": null,
            "max_width": null,
            "min_height": null,
            "min_width": null,
            "object_fit": null,
            "object_position": null,
            "order": null,
            "overflow": null,
            "overflow_x": null,
            "overflow_y": null,
            "padding": null,
            "right": null,
            "top": null,
            "visibility": null,
            "width": null
          }
        },
        "97dd63ea484749f995b6218c81af6320": {
          "model_module": "@jupyter-widgets/base",
          "model_name": "LayoutModel",
          "model_module_version": "1.2.0",
          "state": {
            "_model_module": "@jupyter-widgets/base",
            "_model_module_version": "1.2.0",
            "_model_name": "LayoutModel",
            "_view_count": null,
            "_view_module": "@jupyter-widgets/base",
            "_view_module_version": "1.2.0",
            "_view_name": "LayoutView",
            "align_content": null,
            "align_items": null,
            "align_self": null,
            "border": null,
            "bottom": null,
            "display": null,
            "flex": null,
            "flex_flow": null,
            "grid_area": null,
            "grid_auto_columns": null,
            "grid_auto_flow": null,
            "grid_auto_rows": null,
            "grid_column": null,
            "grid_gap": null,
            "grid_row": null,
            "grid_template_areas": null,
            "grid_template_columns": null,
            "grid_template_rows": null,
            "height": null,
            "justify_content": null,
            "justify_items": null,
            "left": null,
            "margin": null,
            "max_height": null,
            "max_width": null,
            "min_height": null,
            "min_width": null,
            "object_fit": null,
            "object_position": null,
            "order": null,
            "overflow": null,
            "overflow_x": null,
            "overflow_y": null,
            "padding": null,
            "right": null,
            "top": null,
            "visibility": null,
            "width": null
          }
        },
        "f89a6de03d704f4b867ba507ec4676c7": {
          "model_module": "@jupyter-widgets/controls",
          "model_name": "DescriptionStyleModel",
          "model_module_version": "1.5.0",
          "state": {
            "_model_module": "@jupyter-widgets/controls",
            "_model_module_version": "1.5.0",
            "_model_name": "DescriptionStyleModel",
            "_view_count": null,
            "_view_module": "@jupyter-widgets/base",
            "_view_module_version": "1.2.0",
            "_view_name": "StyleView",
            "description_width": ""
          }
        },
        "faf0e44ef91242afaa4a4472139dcd67": {
          "model_module": "@jupyter-widgets/base",
          "model_name": "LayoutModel",
          "model_module_version": "1.2.0",
          "state": {
            "_model_module": "@jupyter-widgets/base",
            "_model_module_version": "1.2.0",
            "_model_name": "LayoutModel",
            "_view_count": null,
            "_view_module": "@jupyter-widgets/base",
            "_view_module_version": "1.2.0",
            "_view_name": "LayoutView",
            "align_content": null,
            "align_items": null,
            "align_self": null,
            "border": null,
            "bottom": null,
            "display": null,
            "flex": null,
            "flex_flow": null,
            "grid_area": null,
            "grid_auto_columns": null,
            "grid_auto_flow": null,
            "grid_auto_rows": null,
            "grid_column": null,
            "grid_gap": null,
            "grid_row": null,
            "grid_template_areas": null,
            "grid_template_columns": null,
            "grid_template_rows": null,
            "height": null,
            "justify_content": null,
            "justify_items": null,
            "left": null,
            "margin": null,
            "max_height": null,
            "max_width": null,
            "min_height": null,
            "min_width": null,
            "object_fit": null,
            "object_position": null,
            "order": null,
            "overflow": null,
            "overflow_x": null,
            "overflow_y": null,
            "padding": null,
            "right": null,
            "top": null,
            "visibility": null,
            "width": null
          }
        },
        "45ffda865cf543b9a9338c8a74c7ffc1": {
          "model_module": "@jupyter-widgets/controls",
          "model_name": "ProgressStyleModel",
          "model_module_version": "1.5.0",
          "state": {
            "_model_module": "@jupyter-widgets/controls",
            "_model_module_version": "1.5.0",
            "_model_name": "ProgressStyleModel",
            "_view_count": null,
            "_view_module": "@jupyter-widgets/base",
            "_view_module_version": "1.2.0",
            "_view_name": "StyleView",
            "bar_color": null,
            "description_width": ""
          }
        },
        "58c59dcfeb5143e3a4b7a6e8fd5f6157": {
          "model_module": "@jupyter-widgets/base",
          "model_name": "LayoutModel",
          "model_module_version": "1.2.0",
          "state": {
            "_model_module": "@jupyter-widgets/base",
            "_model_module_version": "1.2.0",
            "_model_name": "LayoutModel",
            "_view_count": null,
            "_view_module": "@jupyter-widgets/base",
            "_view_module_version": "1.2.0",
            "_view_name": "LayoutView",
            "align_content": null,
            "align_items": null,
            "align_self": null,
            "border": null,
            "bottom": null,
            "display": null,
            "flex": null,
            "flex_flow": null,
            "grid_area": null,
            "grid_auto_columns": null,
            "grid_auto_flow": null,
            "grid_auto_rows": null,
            "grid_column": null,
            "grid_gap": null,
            "grid_row": null,
            "grid_template_areas": null,
            "grid_template_columns": null,
            "grid_template_rows": null,
            "height": null,
            "justify_content": null,
            "justify_items": null,
            "left": null,
            "margin": null,
            "max_height": null,
            "max_width": null,
            "min_height": null,
            "min_width": null,
            "object_fit": null,
            "object_position": null,
            "order": null,
            "overflow": null,
            "overflow_x": null,
            "overflow_y": null,
            "padding": null,
            "right": null,
            "top": null,
            "visibility": null,
            "width": null
          }
        },
        "a037c54aaa2a4c9ab2172771232a10de": {
          "model_module": "@jupyter-widgets/controls",
          "model_name": "DescriptionStyleModel",
          "model_module_version": "1.5.0",
          "state": {
            "_model_module": "@jupyter-widgets/controls",
            "_model_module_version": "1.5.0",
            "_model_name": "DescriptionStyleModel",
            "_view_count": null,
            "_view_module": "@jupyter-widgets/base",
            "_view_module_version": "1.2.0",
            "_view_name": "StyleView",
            "description_width": ""
          }
        },
        "65c88e5364cc4b6798be0de588f34ac4": {
          "model_module": "@jupyter-widgets/controls",
          "model_name": "HBoxModel",
          "model_module_version": "1.5.0",
          "state": {
            "_dom_classes": [],
            "_model_module": "@jupyter-widgets/controls",
            "_model_module_version": "1.5.0",
            "_model_name": "HBoxModel",
            "_view_count": null,
            "_view_module": "@jupyter-widgets/controls",
            "_view_module_version": "1.5.0",
            "_view_name": "HBoxView",
            "box_style": "",
            "children": [
              "IPY_MODEL_32a0fb94c06f4692a901d30f9f370278",
              "IPY_MODEL_6917f86606b248ce8d0e837848b27290",
              "IPY_MODEL_38954fc3ba9a4f458a9afc28641e674f"
            ],
            "layout": "IPY_MODEL_f71c675ea26648fe8320c4ce4eaae1c7"
          }
        },
        "32a0fb94c06f4692a901d30f9f370278": {
          "model_module": "@jupyter-widgets/controls",
          "model_name": "HTMLModel",
          "model_module_version": "1.5.0",
          "state": {
            "_dom_classes": [],
            "_model_module": "@jupyter-widgets/controls",
            "_model_module_version": "1.5.0",
            "_model_name": "HTMLModel",
            "_view_count": null,
            "_view_module": "@jupyter-widgets/controls",
            "_view_module_version": "1.5.0",
            "_view_name": "HTMLView",
            "description": "",
            "description_tooltip": null,
            "layout": "IPY_MODEL_db92107b1d3246e0ad4b177763d30af5",
            "placeholder": "​",
            "style": "IPY_MODEL_b41dc4151aaf41b59415945591bc0ec8",
            "value": "Summarize dataset: 100%"
          }
        },
        "6917f86606b248ce8d0e837848b27290": {
          "model_module": "@jupyter-widgets/controls",
          "model_name": "FloatProgressModel",
          "model_module_version": "1.5.0",
          "state": {
            "_dom_classes": [],
            "_model_module": "@jupyter-widgets/controls",
            "_model_module_version": "1.5.0",
            "_model_name": "FloatProgressModel",
            "_view_count": null,
            "_view_module": "@jupyter-widgets/controls",
            "_view_module_version": "1.5.0",
            "_view_name": "ProgressView",
            "bar_style": "success",
            "description": "",
            "description_tooltip": null,
            "layout": "IPY_MODEL_7dd7b68ccac242bd9e8e995a7680caa0",
            "max": 5,
            "min": 0,
            "orientation": "horizontal",
            "style": "IPY_MODEL_4e470c8c7bd743e5ac723d4ddee16cc3",
            "value": 5
          }
        },
        "38954fc3ba9a4f458a9afc28641e674f": {
          "model_module": "@jupyter-widgets/controls",
          "model_name": "HTMLModel",
          "model_module_version": "1.5.0",
          "state": {
            "_dom_classes": [],
            "_model_module": "@jupyter-widgets/controls",
            "_model_module_version": "1.5.0",
            "_model_name": "HTMLModel",
            "_view_count": null,
            "_view_module": "@jupyter-widgets/controls",
            "_view_module_version": "1.5.0",
            "_view_name": "HTMLView",
            "description": "",
            "description_tooltip": null,
            "layout": "IPY_MODEL_ee0db08a93da4edcb53f1cf4fff62643",
            "placeholder": "​",
            "style": "IPY_MODEL_02e91c1adae14a2cb70fbf4f148dc1e8",
            "value": " 67/67 [00:14&lt;00:00,  3.99it/s, Completed]"
          }
        },
        "f71c675ea26648fe8320c4ce4eaae1c7": {
          "model_module": "@jupyter-widgets/base",
          "model_name": "LayoutModel",
          "model_module_version": "1.2.0",
          "state": {
            "_model_module": "@jupyter-widgets/base",
            "_model_module_version": "1.2.0",
            "_model_name": "LayoutModel",
            "_view_count": null,
            "_view_module": "@jupyter-widgets/base",
            "_view_module_version": "1.2.0",
            "_view_name": "LayoutView",
            "align_content": null,
            "align_items": null,
            "align_self": null,
            "border": null,
            "bottom": null,
            "display": null,
            "flex": null,
            "flex_flow": null,
            "grid_area": null,
            "grid_auto_columns": null,
            "grid_auto_flow": null,
            "grid_auto_rows": null,
            "grid_column": null,
            "grid_gap": null,
            "grid_row": null,
            "grid_template_areas": null,
            "grid_template_columns": null,
            "grid_template_rows": null,
            "height": null,
            "justify_content": null,
            "justify_items": null,
            "left": null,
            "margin": null,
            "max_height": null,
            "max_width": null,
            "min_height": null,
            "min_width": null,
            "object_fit": null,
            "object_position": null,
            "order": null,
            "overflow": null,
            "overflow_x": null,
            "overflow_y": null,
            "padding": null,
            "right": null,
            "top": null,
            "visibility": null,
            "width": null
          }
        },
        "db92107b1d3246e0ad4b177763d30af5": {
          "model_module": "@jupyter-widgets/base",
          "model_name": "LayoutModel",
          "model_module_version": "1.2.0",
          "state": {
            "_model_module": "@jupyter-widgets/base",
            "_model_module_version": "1.2.0",
            "_model_name": "LayoutModel",
            "_view_count": null,
            "_view_module": "@jupyter-widgets/base",
            "_view_module_version": "1.2.0",
            "_view_name": "LayoutView",
            "align_content": null,
            "align_items": null,
            "align_self": null,
            "border": null,
            "bottom": null,
            "display": null,
            "flex": null,
            "flex_flow": null,
            "grid_area": null,
            "grid_auto_columns": null,
            "grid_auto_flow": null,
            "grid_auto_rows": null,
            "grid_column": null,
            "grid_gap": null,
            "grid_row": null,
            "grid_template_areas": null,
            "grid_template_columns": null,
            "grid_template_rows": null,
            "height": null,
            "justify_content": null,
            "justify_items": null,
            "left": null,
            "margin": null,
            "max_height": null,
            "max_width": null,
            "min_height": null,
            "min_width": null,
            "object_fit": null,
            "object_position": null,
            "order": null,
            "overflow": null,
            "overflow_x": null,
            "overflow_y": null,
            "padding": null,
            "right": null,
            "top": null,
            "visibility": null,
            "width": null
          }
        },
        "b41dc4151aaf41b59415945591bc0ec8": {
          "model_module": "@jupyter-widgets/controls",
          "model_name": "DescriptionStyleModel",
          "model_module_version": "1.5.0",
          "state": {
            "_model_module": "@jupyter-widgets/controls",
            "_model_module_version": "1.5.0",
            "_model_name": "DescriptionStyleModel",
            "_view_count": null,
            "_view_module": "@jupyter-widgets/base",
            "_view_module_version": "1.2.0",
            "_view_name": "StyleView",
            "description_width": ""
          }
        },
        "7dd7b68ccac242bd9e8e995a7680caa0": {
          "model_module": "@jupyter-widgets/base",
          "model_name": "LayoutModel",
          "model_module_version": "1.2.0",
          "state": {
            "_model_module": "@jupyter-widgets/base",
            "_model_module_version": "1.2.0",
            "_model_name": "LayoutModel",
            "_view_count": null,
            "_view_module": "@jupyter-widgets/base",
            "_view_module_version": "1.2.0",
            "_view_name": "LayoutView",
            "align_content": null,
            "align_items": null,
            "align_self": null,
            "border": null,
            "bottom": null,
            "display": null,
            "flex": null,
            "flex_flow": null,
            "grid_area": null,
            "grid_auto_columns": null,
            "grid_auto_flow": null,
            "grid_auto_rows": null,
            "grid_column": null,
            "grid_gap": null,
            "grid_row": null,
            "grid_template_areas": null,
            "grid_template_columns": null,
            "grid_template_rows": null,
            "height": null,
            "justify_content": null,
            "justify_items": null,
            "left": null,
            "margin": null,
            "max_height": null,
            "max_width": null,
            "min_height": null,
            "min_width": null,
            "object_fit": null,
            "object_position": null,
            "order": null,
            "overflow": null,
            "overflow_x": null,
            "overflow_y": null,
            "padding": null,
            "right": null,
            "top": null,
            "visibility": null,
            "width": null
          }
        },
        "4e470c8c7bd743e5ac723d4ddee16cc3": {
          "model_module": "@jupyter-widgets/controls",
          "model_name": "ProgressStyleModel",
          "model_module_version": "1.5.0",
          "state": {
            "_model_module": "@jupyter-widgets/controls",
            "_model_module_version": "1.5.0",
            "_model_name": "ProgressStyleModel",
            "_view_count": null,
            "_view_module": "@jupyter-widgets/base",
            "_view_module_version": "1.2.0",
            "_view_name": "StyleView",
            "bar_color": null,
            "description_width": ""
          }
        },
        "ee0db08a93da4edcb53f1cf4fff62643": {
          "model_module": "@jupyter-widgets/base",
          "model_name": "LayoutModel",
          "model_module_version": "1.2.0",
          "state": {
            "_model_module": "@jupyter-widgets/base",
            "_model_module_version": "1.2.0",
            "_model_name": "LayoutModel",
            "_view_count": null,
            "_view_module": "@jupyter-widgets/base",
            "_view_module_version": "1.2.0",
            "_view_name": "LayoutView",
            "align_content": null,
            "align_items": null,
            "align_self": null,
            "border": null,
            "bottom": null,
            "display": null,
            "flex": null,
            "flex_flow": null,
            "grid_area": null,
            "grid_auto_columns": null,
            "grid_auto_flow": null,
            "grid_auto_rows": null,
            "grid_column": null,
            "grid_gap": null,
            "grid_row": null,
            "grid_template_areas": null,
            "grid_template_columns": null,
            "grid_template_rows": null,
            "height": null,
            "justify_content": null,
            "justify_items": null,
            "left": null,
            "margin": null,
            "max_height": null,
            "max_width": null,
            "min_height": null,
            "min_width": null,
            "object_fit": null,
            "object_position": null,
            "order": null,
            "overflow": null,
            "overflow_x": null,
            "overflow_y": null,
            "padding": null,
            "right": null,
            "top": null,
            "visibility": null,
            "width": null
          }
        },
        "02e91c1adae14a2cb70fbf4f148dc1e8": {
          "model_module": "@jupyter-widgets/controls",
          "model_name": "DescriptionStyleModel",
          "model_module_version": "1.5.0",
          "state": {
            "_model_module": "@jupyter-widgets/controls",
            "_model_module_version": "1.5.0",
            "_model_name": "DescriptionStyleModel",
            "_view_count": null,
            "_view_module": "@jupyter-widgets/base",
            "_view_module_version": "1.2.0",
            "_view_name": "StyleView",
            "description_width": ""
          }
        },
        "3e7b3c0ee78347da97d263d507438c35": {
          "model_module": "@jupyter-widgets/controls",
          "model_name": "HBoxModel",
          "model_module_version": "1.5.0",
          "state": {
            "_dom_classes": [],
            "_model_module": "@jupyter-widgets/controls",
            "_model_module_version": "1.5.0",
            "_model_name": "HBoxModel",
            "_view_count": null,
            "_view_module": "@jupyter-widgets/controls",
            "_view_module_version": "1.5.0",
            "_view_name": "HBoxView",
            "box_style": "",
            "children": [
              "IPY_MODEL_ab7a81b1f2554ee28d2bc3a6681ec813",
              "IPY_MODEL_0cb1ec82a57e4276914292266d1b8416",
              "IPY_MODEL_066edd001f4341dfae799c3878c06130"
            ],
            "layout": "IPY_MODEL_65cade14598746ff86f030e684d31a3a"
          }
        },
        "ab7a81b1f2554ee28d2bc3a6681ec813": {
          "model_module": "@jupyter-widgets/controls",
          "model_name": "HTMLModel",
          "model_module_version": "1.5.0",
          "state": {
            "_dom_classes": [],
            "_model_module": "@jupyter-widgets/controls",
            "_model_module_version": "1.5.0",
            "_model_name": "HTMLModel",
            "_view_count": null,
            "_view_module": "@jupyter-widgets/controls",
            "_view_module_version": "1.5.0",
            "_view_name": "HTMLView",
            "description": "",
            "description_tooltip": null,
            "layout": "IPY_MODEL_76718457885f4021bd84805bdecbc70f",
            "placeholder": "​",
            "style": "IPY_MODEL_3b96981c51e943b798c19953be3668ec",
            "value": "Generate report structure: 100%"
          }
        },
        "0cb1ec82a57e4276914292266d1b8416": {
          "model_module": "@jupyter-widgets/controls",
          "model_name": "FloatProgressModel",
          "model_module_version": "1.5.0",
          "state": {
            "_dom_classes": [],
            "_model_module": "@jupyter-widgets/controls",
            "_model_module_version": "1.5.0",
            "_model_name": "FloatProgressModel",
            "_view_count": null,
            "_view_module": "@jupyter-widgets/controls",
            "_view_module_version": "1.5.0",
            "_view_name": "ProgressView",
            "bar_style": "success",
            "description": "",
            "description_tooltip": null,
            "layout": "IPY_MODEL_f3f3cd38e5ed4b03b5cd3e864e05c5ef",
            "max": 1,
            "min": 0,
            "orientation": "horizontal",
            "style": "IPY_MODEL_a1c8d6a6d7414741b06484e2e7b81ce5",
            "value": 1
          }
        },
        "066edd001f4341dfae799c3878c06130": {
          "model_module": "@jupyter-widgets/controls",
          "model_name": "HTMLModel",
          "model_module_version": "1.5.0",
          "state": {
            "_dom_classes": [],
            "_model_module": "@jupyter-widgets/controls",
            "_model_module_version": "1.5.0",
            "_model_name": "HTMLModel",
            "_view_count": null,
            "_view_module": "@jupyter-widgets/controls",
            "_view_module_version": "1.5.0",
            "_view_name": "HTMLView",
            "description": "",
            "description_tooltip": null,
            "layout": "IPY_MODEL_3d013e7e4e1946dd97550d8ad40a20a7",
            "placeholder": "​",
            "style": "IPY_MODEL_6c14211574d942dbb9c6b9cda4a4c334",
            "value": " 1/1 [00:06&lt;00:00,  6.08s/it]"
          }
        },
        "65cade14598746ff86f030e684d31a3a": {
          "model_module": "@jupyter-widgets/base",
          "model_name": "LayoutModel",
          "model_module_version": "1.2.0",
          "state": {
            "_model_module": "@jupyter-widgets/base",
            "_model_module_version": "1.2.0",
            "_model_name": "LayoutModel",
            "_view_count": null,
            "_view_module": "@jupyter-widgets/base",
            "_view_module_version": "1.2.0",
            "_view_name": "LayoutView",
            "align_content": null,
            "align_items": null,
            "align_self": null,
            "border": null,
            "bottom": null,
            "display": null,
            "flex": null,
            "flex_flow": null,
            "grid_area": null,
            "grid_auto_columns": null,
            "grid_auto_flow": null,
            "grid_auto_rows": null,
            "grid_column": null,
            "grid_gap": null,
            "grid_row": null,
            "grid_template_areas": null,
            "grid_template_columns": null,
            "grid_template_rows": null,
            "height": null,
            "justify_content": null,
            "justify_items": null,
            "left": null,
            "margin": null,
            "max_height": null,
            "max_width": null,
            "min_height": null,
            "min_width": null,
            "object_fit": null,
            "object_position": null,
            "order": null,
            "overflow": null,
            "overflow_x": null,
            "overflow_y": null,
            "padding": null,
            "right": null,
            "top": null,
            "visibility": null,
            "width": null
          }
        },
        "76718457885f4021bd84805bdecbc70f": {
          "model_module": "@jupyter-widgets/base",
          "model_name": "LayoutModel",
          "model_module_version": "1.2.0",
          "state": {
            "_model_module": "@jupyter-widgets/base",
            "_model_module_version": "1.2.0",
            "_model_name": "LayoutModel",
            "_view_count": null,
            "_view_module": "@jupyter-widgets/base",
            "_view_module_version": "1.2.0",
            "_view_name": "LayoutView",
            "align_content": null,
            "align_items": null,
            "align_self": null,
            "border": null,
            "bottom": null,
            "display": null,
            "flex": null,
            "flex_flow": null,
            "grid_area": null,
            "grid_auto_columns": null,
            "grid_auto_flow": null,
            "grid_auto_rows": null,
            "grid_column": null,
            "grid_gap": null,
            "grid_row": null,
            "grid_template_areas": null,
            "grid_template_columns": null,
            "grid_template_rows": null,
            "height": null,
            "justify_content": null,
            "justify_items": null,
            "left": null,
            "margin": null,
            "max_height": null,
            "max_width": null,
            "min_height": null,
            "min_width": null,
            "object_fit": null,
            "object_position": null,
            "order": null,
            "overflow": null,
            "overflow_x": null,
            "overflow_y": null,
            "padding": null,
            "right": null,
            "top": null,
            "visibility": null,
            "width": null
          }
        },
        "3b96981c51e943b798c19953be3668ec": {
          "model_module": "@jupyter-widgets/controls",
          "model_name": "DescriptionStyleModel",
          "model_module_version": "1.5.0",
          "state": {
            "_model_module": "@jupyter-widgets/controls",
            "_model_module_version": "1.5.0",
            "_model_name": "DescriptionStyleModel",
            "_view_count": null,
            "_view_module": "@jupyter-widgets/base",
            "_view_module_version": "1.2.0",
            "_view_name": "StyleView",
            "description_width": ""
          }
        },
        "f3f3cd38e5ed4b03b5cd3e864e05c5ef": {
          "model_module": "@jupyter-widgets/base",
          "model_name": "LayoutModel",
          "model_module_version": "1.2.0",
          "state": {
            "_model_module": "@jupyter-widgets/base",
            "_model_module_version": "1.2.0",
            "_model_name": "LayoutModel",
            "_view_count": null,
            "_view_module": "@jupyter-widgets/base",
            "_view_module_version": "1.2.0",
            "_view_name": "LayoutView",
            "align_content": null,
            "align_items": null,
            "align_self": null,
            "border": null,
            "bottom": null,
            "display": null,
            "flex": null,
            "flex_flow": null,
            "grid_area": null,
            "grid_auto_columns": null,
            "grid_auto_flow": null,
            "grid_auto_rows": null,
            "grid_column": null,
            "grid_gap": null,
            "grid_row": null,
            "grid_template_areas": null,
            "grid_template_columns": null,
            "grid_template_rows": null,
            "height": null,
            "justify_content": null,
            "justify_items": null,
            "left": null,
            "margin": null,
            "max_height": null,
            "max_width": null,
            "min_height": null,
            "min_width": null,
            "object_fit": null,
            "object_position": null,
            "order": null,
            "overflow": null,
            "overflow_x": null,
            "overflow_y": null,
            "padding": null,
            "right": null,
            "top": null,
            "visibility": null,
            "width": null
          }
        },
        "a1c8d6a6d7414741b06484e2e7b81ce5": {
          "model_module": "@jupyter-widgets/controls",
          "model_name": "ProgressStyleModel",
          "model_module_version": "1.5.0",
          "state": {
            "_model_module": "@jupyter-widgets/controls",
            "_model_module_version": "1.5.0",
            "_model_name": "ProgressStyleModel",
            "_view_count": null,
            "_view_module": "@jupyter-widgets/base",
            "_view_module_version": "1.2.0",
            "_view_name": "StyleView",
            "bar_color": null,
            "description_width": ""
          }
        },
        "3d013e7e4e1946dd97550d8ad40a20a7": {
          "model_module": "@jupyter-widgets/base",
          "model_name": "LayoutModel",
          "model_module_version": "1.2.0",
          "state": {
            "_model_module": "@jupyter-widgets/base",
            "_model_module_version": "1.2.0",
            "_model_name": "LayoutModel",
            "_view_count": null,
            "_view_module": "@jupyter-widgets/base",
            "_view_module_version": "1.2.0",
            "_view_name": "LayoutView",
            "align_content": null,
            "align_items": null,
            "align_self": null,
            "border": null,
            "bottom": null,
            "display": null,
            "flex": null,
            "flex_flow": null,
            "grid_area": null,
            "grid_auto_columns": null,
            "grid_auto_flow": null,
            "grid_auto_rows": null,
            "grid_column": null,
            "grid_gap": null,
            "grid_row": null,
            "grid_template_areas": null,
            "grid_template_columns": null,
            "grid_template_rows": null,
            "height": null,
            "justify_content": null,
            "justify_items": null,
            "left": null,
            "margin": null,
            "max_height": null,
            "max_width": null,
            "min_height": null,
            "min_width": null,
            "object_fit": null,
            "object_position": null,
            "order": null,
            "overflow": null,
            "overflow_x": null,
            "overflow_y": null,
            "padding": null,
            "right": null,
            "top": null,
            "visibility": null,
            "width": null
          }
        },
        "6c14211574d942dbb9c6b9cda4a4c334": {
          "model_module": "@jupyter-widgets/controls",
          "model_name": "DescriptionStyleModel",
          "model_module_version": "1.5.0",
          "state": {
            "_model_module": "@jupyter-widgets/controls",
            "_model_module_version": "1.5.0",
            "_model_name": "DescriptionStyleModel",
            "_view_count": null,
            "_view_module": "@jupyter-widgets/base",
            "_view_module_version": "1.2.0",
            "_view_name": "StyleView",
            "description_width": ""
          }
        },
        "75f11c3a64d64773ac195eb388a957c2": {
          "model_module": "@jupyter-widgets/controls",
          "model_name": "HBoxModel",
          "model_module_version": "1.5.0",
          "state": {
            "_dom_classes": [],
            "_model_module": "@jupyter-widgets/controls",
            "_model_module_version": "1.5.0",
            "_model_name": "HBoxModel",
            "_view_count": null,
            "_view_module": "@jupyter-widgets/controls",
            "_view_module_version": "1.5.0",
            "_view_name": "HBoxView",
            "box_style": "",
            "children": [
              "IPY_MODEL_d054b0b32b40475eac6dc6b23da71159",
              "IPY_MODEL_d1554c657e2140468c353267b83cde23",
              "IPY_MODEL_44b00b0bdcfd4620ad2f1d292d83e8e4"
            ],
            "layout": "IPY_MODEL_966cde29edeb43809af157efdb20d599"
          }
        },
        "d054b0b32b40475eac6dc6b23da71159": {
          "model_module": "@jupyter-widgets/controls",
          "model_name": "HTMLModel",
          "model_module_version": "1.5.0",
          "state": {
            "_dom_classes": [],
            "_model_module": "@jupyter-widgets/controls",
            "_model_module_version": "1.5.0",
            "_model_name": "HTMLModel",
            "_view_count": null,
            "_view_module": "@jupyter-widgets/controls",
            "_view_module_version": "1.5.0",
            "_view_name": "HTMLView",
            "description": "",
            "description_tooltip": null,
            "layout": "IPY_MODEL_e847c57f7bca4713a05159678292fd47",
            "placeholder": "​",
            "style": "IPY_MODEL_973b3d151094443c8d566f4db2f5b654",
            "value": "Render HTML: 100%"
          }
        },
        "d1554c657e2140468c353267b83cde23": {
          "model_module": "@jupyter-widgets/controls",
          "model_name": "FloatProgressModel",
          "model_module_version": "1.5.0",
          "state": {
            "_dom_classes": [],
            "_model_module": "@jupyter-widgets/controls",
            "_model_module_version": "1.5.0",
            "_model_name": "FloatProgressModel",
            "_view_count": null,
            "_view_module": "@jupyter-widgets/controls",
            "_view_module_version": "1.5.0",
            "_view_name": "ProgressView",
            "bar_style": "success",
            "description": "",
            "description_tooltip": null,
            "layout": "IPY_MODEL_2b96b87279484ad599084009e7f486f9",
            "max": 1,
            "min": 0,
            "orientation": "horizontal",
            "style": "IPY_MODEL_ac67e4f5ea35412e989e26e4ece97a15",
            "value": 1
          }
        },
        "44b00b0bdcfd4620ad2f1d292d83e8e4": {
          "model_module": "@jupyter-widgets/controls",
          "model_name": "HTMLModel",
          "model_module_version": "1.5.0",
          "state": {
            "_dom_classes": [],
            "_model_module": "@jupyter-widgets/controls",
            "_model_module_version": "1.5.0",
            "_model_name": "HTMLModel",
            "_view_count": null,
            "_view_module": "@jupyter-widgets/controls",
            "_view_module_version": "1.5.0",
            "_view_name": "HTMLView",
            "description": "",
            "description_tooltip": null,
            "layout": "IPY_MODEL_372f10b9daaf42679d41137daf104b04",
            "placeholder": "​",
            "style": "IPY_MODEL_54f4a3d01dc84bae82023579cfd3cf6c",
            "value": " 1/1 [00:02&lt;00:00,  2.70s/it]"
          }
        },
        "966cde29edeb43809af157efdb20d599": {
          "model_module": "@jupyter-widgets/base",
          "model_name": "LayoutModel",
          "model_module_version": "1.2.0",
          "state": {
            "_model_module": "@jupyter-widgets/base",
            "_model_module_version": "1.2.0",
            "_model_name": "LayoutModel",
            "_view_count": null,
            "_view_module": "@jupyter-widgets/base",
            "_view_module_version": "1.2.0",
            "_view_name": "LayoutView",
            "align_content": null,
            "align_items": null,
            "align_self": null,
            "border": null,
            "bottom": null,
            "display": null,
            "flex": null,
            "flex_flow": null,
            "grid_area": null,
            "grid_auto_columns": null,
            "grid_auto_flow": null,
            "grid_auto_rows": null,
            "grid_column": null,
            "grid_gap": null,
            "grid_row": null,
            "grid_template_areas": null,
            "grid_template_columns": null,
            "grid_template_rows": null,
            "height": null,
            "justify_content": null,
            "justify_items": null,
            "left": null,
            "margin": null,
            "max_height": null,
            "max_width": null,
            "min_height": null,
            "min_width": null,
            "object_fit": null,
            "object_position": null,
            "order": null,
            "overflow": null,
            "overflow_x": null,
            "overflow_y": null,
            "padding": null,
            "right": null,
            "top": null,
            "visibility": null,
            "width": null
          }
        },
        "e847c57f7bca4713a05159678292fd47": {
          "model_module": "@jupyter-widgets/base",
          "model_name": "LayoutModel",
          "model_module_version": "1.2.0",
          "state": {
            "_model_module": "@jupyter-widgets/base",
            "_model_module_version": "1.2.0",
            "_model_name": "LayoutModel",
            "_view_count": null,
            "_view_module": "@jupyter-widgets/base",
            "_view_module_version": "1.2.0",
            "_view_name": "LayoutView",
            "align_content": null,
            "align_items": null,
            "align_self": null,
            "border": null,
            "bottom": null,
            "display": null,
            "flex": null,
            "flex_flow": null,
            "grid_area": null,
            "grid_auto_columns": null,
            "grid_auto_flow": null,
            "grid_auto_rows": null,
            "grid_column": null,
            "grid_gap": null,
            "grid_row": null,
            "grid_template_areas": null,
            "grid_template_columns": null,
            "grid_template_rows": null,
            "height": null,
            "justify_content": null,
            "justify_items": null,
            "left": null,
            "margin": null,
            "max_height": null,
            "max_width": null,
            "min_height": null,
            "min_width": null,
            "object_fit": null,
            "object_position": null,
            "order": null,
            "overflow": null,
            "overflow_x": null,
            "overflow_y": null,
            "padding": null,
            "right": null,
            "top": null,
            "visibility": null,
            "width": null
          }
        },
        "973b3d151094443c8d566f4db2f5b654": {
          "model_module": "@jupyter-widgets/controls",
          "model_name": "DescriptionStyleModel",
          "model_module_version": "1.5.0",
          "state": {
            "_model_module": "@jupyter-widgets/controls",
            "_model_module_version": "1.5.0",
            "_model_name": "DescriptionStyleModel",
            "_view_count": null,
            "_view_module": "@jupyter-widgets/base",
            "_view_module_version": "1.2.0",
            "_view_name": "StyleView",
            "description_width": ""
          }
        },
        "2b96b87279484ad599084009e7f486f9": {
          "model_module": "@jupyter-widgets/base",
          "model_name": "LayoutModel",
          "model_module_version": "1.2.0",
          "state": {
            "_model_module": "@jupyter-widgets/base",
            "_model_module_version": "1.2.0",
            "_model_name": "LayoutModel",
            "_view_count": null,
            "_view_module": "@jupyter-widgets/base",
            "_view_module_version": "1.2.0",
            "_view_name": "LayoutView",
            "align_content": null,
            "align_items": null,
            "align_self": null,
            "border": null,
            "bottom": null,
            "display": null,
            "flex": null,
            "flex_flow": null,
            "grid_area": null,
            "grid_auto_columns": null,
            "grid_auto_flow": null,
            "grid_auto_rows": null,
            "grid_column": null,
            "grid_gap": null,
            "grid_row": null,
            "grid_template_areas": null,
            "grid_template_columns": null,
            "grid_template_rows": null,
            "height": null,
            "justify_content": null,
            "justify_items": null,
            "left": null,
            "margin": null,
            "max_height": null,
            "max_width": null,
            "min_height": null,
            "min_width": null,
            "object_fit": null,
            "object_position": null,
            "order": null,
            "overflow": null,
            "overflow_x": null,
            "overflow_y": null,
            "padding": null,
            "right": null,
            "top": null,
            "visibility": null,
            "width": null
          }
        },
        "ac67e4f5ea35412e989e26e4ece97a15": {
          "model_module": "@jupyter-widgets/controls",
          "model_name": "ProgressStyleModel",
          "model_module_version": "1.5.0",
          "state": {
            "_model_module": "@jupyter-widgets/controls",
            "_model_module_version": "1.5.0",
            "_model_name": "ProgressStyleModel",
            "_view_count": null,
            "_view_module": "@jupyter-widgets/base",
            "_view_module_version": "1.2.0",
            "_view_name": "StyleView",
            "bar_color": null,
            "description_width": ""
          }
        },
        "372f10b9daaf42679d41137daf104b04": {
          "model_module": "@jupyter-widgets/base",
          "model_name": "LayoutModel",
          "model_module_version": "1.2.0",
          "state": {
            "_model_module": "@jupyter-widgets/base",
            "_model_module_version": "1.2.0",
            "_model_name": "LayoutModel",
            "_view_count": null,
            "_view_module": "@jupyter-widgets/base",
            "_view_module_version": "1.2.0",
            "_view_name": "LayoutView",
            "align_content": null,
            "align_items": null,
            "align_self": null,
            "border": null,
            "bottom": null,
            "display": null,
            "flex": null,
            "flex_flow": null,
            "grid_area": null,
            "grid_auto_columns": null,
            "grid_auto_flow": null,
            "grid_auto_rows": null,
            "grid_column": null,
            "grid_gap": null,
            "grid_row": null,
            "grid_template_areas": null,
            "grid_template_columns": null,
            "grid_template_rows": null,
            "height": null,
            "justify_content": null,
            "justify_items": null,
            "left": null,
            "margin": null,
            "max_height": null,
            "max_width": null,
            "min_height": null,
            "min_width": null,
            "object_fit": null,
            "object_position": null,
            "order": null,
            "overflow": null,
            "overflow_x": null,
            "overflow_y": null,
            "padding": null,
            "right": null,
            "top": null,
            "visibility": null,
            "width": null
          }
        },
        "54f4a3d01dc84bae82023579cfd3cf6c": {
          "model_module": "@jupyter-widgets/controls",
          "model_name": "DescriptionStyleModel",
          "model_module_version": "1.5.0",
          "state": {
            "_model_module": "@jupyter-widgets/controls",
            "_model_module_version": "1.5.0",
            "_model_name": "DescriptionStyleModel",
            "_view_count": null,
            "_view_module": "@jupyter-widgets/base",
            "_view_module_version": "1.2.0",
            "_view_name": "StyleView",
            "description_width": ""
          }
        },
        "bf45596ed47342c5ae0c8ed7418e0351": {
          "model_module": "@jupyter-widgets/controls",
          "model_name": "HBoxModel",
          "model_module_version": "1.5.0",
          "state": {
            "_dom_classes": [],
            "_model_module": "@jupyter-widgets/controls",
            "_model_module_version": "1.5.0",
            "_model_name": "HBoxModel",
            "_view_count": null,
            "_view_module": "@jupyter-widgets/controls",
            "_view_module_version": "1.5.0",
            "_view_name": "HBoxView",
            "box_style": "",
            "children": [
              "IPY_MODEL_58123b19dcec402d9e1270fa8ce9e612",
              "IPY_MODEL_08d64346f01d489888d199963f5f9933",
              "IPY_MODEL_3fe76cc93cb340239f4ac0c9947bf2d1"
            ],
            "layout": "IPY_MODEL_afb50228481c44e7bca656da00515369"
          }
        },
        "58123b19dcec402d9e1270fa8ce9e612": {
          "model_module": "@jupyter-widgets/controls",
          "model_name": "HTMLModel",
          "model_module_version": "1.5.0",
          "state": {
            "_dom_classes": [],
            "_model_module": "@jupyter-widgets/controls",
            "_model_module_version": "1.5.0",
            "_model_name": "HTMLModel",
            "_view_count": null,
            "_view_module": "@jupyter-widgets/controls",
            "_view_module_version": "1.5.0",
            "_view_name": "HTMLView",
            "description": "",
            "description_tooltip": null,
            "layout": "IPY_MODEL_2c1db5ddb8b24a07a5c7a9ecefe1fa4a",
            "placeholder": "​",
            "style": "IPY_MODEL_2080e4a3524d459498a997513b9b0213",
            "value": "Export report to file: 100%"
          }
        },
        "08d64346f01d489888d199963f5f9933": {
          "model_module": "@jupyter-widgets/controls",
          "model_name": "FloatProgressModel",
          "model_module_version": "1.5.0",
          "state": {
            "_dom_classes": [],
            "_model_module": "@jupyter-widgets/controls",
            "_model_module_version": "1.5.0",
            "_model_name": "FloatProgressModel",
            "_view_count": null,
            "_view_module": "@jupyter-widgets/controls",
            "_view_module_version": "1.5.0",
            "_view_name": "ProgressView",
            "bar_style": "success",
            "description": "",
            "description_tooltip": null,
            "layout": "IPY_MODEL_e9c867f55bb54d7db311c75b90cb0d8c",
            "max": 1,
            "min": 0,
            "orientation": "horizontal",
            "style": "IPY_MODEL_7a15b6a187de4473bf0fc369c97a3bf5",
            "value": 1
          }
        },
        "3fe76cc93cb340239f4ac0c9947bf2d1": {
          "model_module": "@jupyter-widgets/controls",
          "model_name": "HTMLModel",
          "model_module_version": "1.5.0",
          "state": {
            "_dom_classes": [],
            "_model_module": "@jupyter-widgets/controls",
            "_model_module_version": "1.5.0",
            "_model_name": "HTMLModel",
            "_view_count": null,
            "_view_module": "@jupyter-widgets/controls",
            "_view_module_version": "1.5.0",
            "_view_name": "HTMLView",
            "description": "",
            "description_tooltip": null,
            "layout": "IPY_MODEL_5103d45cd0604e4b8a121ddb9b02a6a7",
            "placeholder": "​",
            "style": "IPY_MODEL_6771046b136044d89b4c67518b04d109",
            "value": " 1/1 [00:00&lt;00:00, 27.83it/s]"
          }
        },
        "afb50228481c44e7bca656da00515369": {
          "model_module": "@jupyter-widgets/base",
          "model_name": "LayoutModel",
          "model_module_version": "1.2.0",
          "state": {
            "_model_module": "@jupyter-widgets/base",
            "_model_module_version": "1.2.0",
            "_model_name": "LayoutModel",
            "_view_count": null,
            "_view_module": "@jupyter-widgets/base",
            "_view_module_version": "1.2.0",
            "_view_name": "LayoutView",
            "align_content": null,
            "align_items": null,
            "align_self": null,
            "border": null,
            "bottom": null,
            "display": null,
            "flex": null,
            "flex_flow": null,
            "grid_area": null,
            "grid_auto_columns": null,
            "grid_auto_flow": null,
            "grid_auto_rows": null,
            "grid_column": null,
            "grid_gap": null,
            "grid_row": null,
            "grid_template_areas": null,
            "grid_template_columns": null,
            "grid_template_rows": null,
            "height": null,
            "justify_content": null,
            "justify_items": null,
            "left": null,
            "margin": null,
            "max_height": null,
            "max_width": null,
            "min_height": null,
            "min_width": null,
            "object_fit": null,
            "object_position": null,
            "order": null,
            "overflow": null,
            "overflow_x": null,
            "overflow_y": null,
            "padding": null,
            "right": null,
            "top": null,
            "visibility": null,
            "width": null
          }
        },
        "2c1db5ddb8b24a07a5c7a9ecefe1fa4a": {
          "model_module": "@jupyter-widgets/base",
          "model_name": "LayoutModel",
          "model_module_version": "1.2.0",
          "state": {
            "_model_module": "@jupyter-widgets/base",
            "_model_module_version": "1.2.0",
            "_model_name": "LayoutModel",
            "_view_count": null,
            "_view_module": "@jupyter-widgets/base",
            "_view_module_version": "1.2.0",
            "_view_name": "LayoutView",
            "align_content": null,
            "align_items": null,
            "align_self": null,
            "border": null,
            "bottom": null,
            "display": null,
            "flex": null,
            "flex_flow": null,
            "grid_area": null,
            "grid_auto_columns": null,
            "grid_auto_flow": null,
            "grid_auto_rows": null,
            "grid_column": null,
            "grid_gap": null,
            "grid_row": null,
            "grid_template_areas": null,
            "grid_template_columns": null,
            "grid_template_rows": null,
            "height": null,
            "justify_content": null,
            "justify_items": null,
            "left": null,
            "margin": null,
            "max_height": null,
            "max_width": null,
            "min_height": null,
            "min_width": null,
            "object_fit": null,
            "object_position": null,
            "order": null,
            "overflow": null,
            "overflow_x": null,
            "overflow_y": null,
            "padding": null,
            "right": null,
            "top": null,
            "visibility": null,
            "width": null
          }
        },
        "2080e4a3524d459498a997513b9b0213": {
          "model_module": "@jupyter-widgets/controls",
          "model_name": "DescriptionStyleModel",
          "model_module_version": "1.5.0",
          "state": {
            "_model_module": "@jupyter-widgets/controls",
            "_model_module_version": "1.5.0",
            "_model_name": "DescriptionStyleModel",
            "_view_count": null,
            "_view_module": "@jupyter-widgets/base",
            "_view_module_version": "1.2.0",
            "_view_name": "StyleView",
            "description_width": ""
          }
        },
        "e9c867f55bb54d7db311c75b90cb0d8c": {
          "model_module": "@jupyter-widgets/base",
          "model_name": "LayoutModel",
          "model_module_version": "1.2.0",
          "state": {
            "_model_module": "@jupyter-widgets/base",
            "_model_module_version": "1.2.0",
            "_model_name": "LayoutModel",
            "_view_count": null,
            "_view_module": "@jupyter-widgets/base",
            "_view_module_version": "1.2.0",
            "_view_name": "LayoutView",
            "align_content": null,
            "align_items": null,
            "align_self": null,
            "border": null,
            "bottom": null,
            "display": null,
            "flex": null,
            "flex_flow": null,
            "grid_area": null,
            "grid_auto_columns": null,
            "grid_auto_flow": null,
            "grid_auto_rows": null,
            "grid_column": null,
            "grid_gap": null,
            "grid_row": null,
            "grid_template_areas": null,
            "grid_template_columns": null,
            "grid_template_rows": null,
            "height": null,
            "justify_content": null,
            "justify_items": null,
            "left": null,
            "margin": null,
            "max_height": null,
            "max_width": null,
            "min_height": null,
            "min_width": null,
            "object_fit": null,
            "object_position": null,
            "order": null,
            "overflow": null,
            "overflow_x": null,
            "overflow_y": null,
            "padding": null,
            "right": null,
            "top": null,
            "visibility": null,
            "width": null
          }
        },
        "7a15b6a187de4473bf0fc369c97a3bf5": {
          "model_module": "@jupyter-widgets/controls",
          "model_name": "ProgressStyleModel",
          "model_module_version": "1.5.0",
          "state": {
            "_model_module": "@jupyter-widgets/controls",
            "_model_module_version": "1.5.0",
            "_model_name": "ProgressStyleModel",
            "_view_count": null,
            "_view_module": "@jupyter-widgets/base",
            "_view_module_version": "1.2.0",
            "_view_name": "StyleView",
            "bar_color": null,
            "description_width": ""
          }
        },
        "5103d45cd0604e4b8a121ddb9b02a6a7": {
          "model_module": "@jupyter-widgets/base",
          "model_name": "LayoutModel",
          "model_module_version": "1.2.0",
          "state": {
            "_model_module": "@jupyter-widgets/base",
            "_model_module_version": "1.2.0",
            "_model_name": "LayoutModel",
            "_view_count": null,
            "_view_module": "@jupyter-widgets/base",
            "_view_module_version": "1.2.0",
            "_view_name": "LayoutView",
            "align_content": null,
            "align_items": null,
            "align_self": null,
            "border": null,
            "bottom": null,
            "display": null,
            "flex": null,
            "flex_flow": null,
            "grid_area": null,
            "grid_auto_columns": null,
            "grid_auto_flow": null,
            "grid_auto_rows": null,
            "grid_column": null,
            "grid_gap": null,
            "grid_row": null,
            "grid_template_areas": null,
            "grid_template_columns": null,
            "grid_template_rows": null,
            "height": null,
            "justify_content": null,
            "justify_items": null,
            "left": null,
            "margin": null,
            "max_height": null,
            "max_width": null,
            "min_height": null,
            "min_width": null,
            "object_fit": null,
            "object_position": null,
            "order": null,
            "overflow": null,
            "overflow_x": null,
            "overflow_y": null,
            "padding": null,
            "right": null,
            "top": null,
            "visibility": null,
            "width": null
          }
        },
        "6771046b136044d89b4c67518b04d109": {
          "model_module": "@jupyter-widgets/controls",
          "model_name": "DescriptionStyleModel",
          "model_module_version": "1.5.0",
          "state": {
            "_model_module": "@jupyter-widgets/controls",
            "_model_module_version": "1.5.0",
            "_model_name": "DescriptionStyleModel",
            "_view_count": null,
            "_view_module": "@jupyter-widgets/base",
            "_view_module_version": "1.2.0",
            "_view_name": "StyleView",
            "description_width": ""
          }
        }
      }
    }
  },
  "cells": [
    {
      "cell_type": "markdown",
      "metadata": {
        "id": "view-in-github",
        "colab_type": "text"
      },
      "source": [
        "<a href=\"https://colab.research.google.com/github/noob-coder-19/aqi/blob/main/Untitled0.ipynb\" target=\"_parent\"><img src=\"https://colab.research.google.com/assets/colab-badge.svg\" alt=\"Open In Colab\"/></a>"
      ]
    },
    {
      "cell_type": "code",
      "execution_count": null,
      "metadata": {
        "id": "FCgLbj41SOc0"
      },
      "outputs": [],
      "source": [
        "import numpy as np\n",
        "import pandas as pd\n",
        "from pandas import Series, DataFrame\n",
        "import glob"
      ]
    },
    {
      "cell_type": "code",
      "source": [
        "!pip install ydata-profiling\n",
        "from ydata_profiling import ProfileReport"
      ],
      "metadata": {
        "colab": {
          "base_uri": "https://localhost:8080/"
        },
        "id": "_utNgOnB-QaZ",
        "outputId": "a51ea5fb-6cda-462f-e888-8ade9c1ce5c4"
      },
      "execution_count": null,
      "outputs": [
        {
          "output_type": "stream",
          "name": "stdout",
          "text": [
            "Looking in indexes: https://pypi.org/simple, https://us-python.pkg.dev/colab-wheels/public/simple/\n",
            "Collecting ydata-profiling\n",
            "  Downloading ydata_profiling-4.0.0-py2.py3-none-any.whl (344 kB)\n",
            "\u001b[?25l     \u001b[90m━━━━━━━━━━━━━━━━━━━━━━━━━━━━━━━━━━━━━━━━\u001b[0m \u001b[32m0.0/344.5 KB\u001b[0m \u001b[31m?\u001b[0m eta \u001b[36m-:--:--\u001b[0m\r\u001b[2K     \u001b[90m━━━━━━━━━━━━━━━━━━━━━━━━━━━━━━━━━━━━━━\u001b[0m \u001b[32m344.5/344.5 KB\u001b[0m \u001b[31m21.5 MB/s\u001b[0m eta \u001b[36m0:00:00\u001b[0m\n",
            "\u001b[?25hRequirement already satisfied: pandas!=1.4.0,<1.6,>1.1 in /usr/local/lib/python3.8/dist-packages (from ydata-profiling) (1.3.5)\n",
            "Collecting multimethod<1.10,>=1.4\n",
            "  Downloading multimethod-1.9.1-py3-none-any.whl (10 kB)\n",
            "Requirement already satisfied: matplotlib<3.7,>=3.2 in /usr/local/lib/python3.8/dist-packages (from ydata-profiling) (3.5.3)\n",
            "Requirement already satisfied: PyYAML<6.1,>=5.0.0 in /usr/local/lib/python3.8/dist-packages (from ydata-profiling) (6.0)\n",
            "Collecting typeguard<2.14,>=2.13.2\n",
            "  Downloading typeguard-2.13.3-py3-none-any.whl (17 kB)\n",
            "Collecting visions[type_image_path]==0.7.5\n",
            "  Downloading visions-0.7.5-py3-none-any.whl (102 kB)\n",
            "\u001b[2K     \u001b[90m━━━━━━━━━━━━━━━━━━━━━━━━━━━━━━━━━━━━━━\u001b[0m \u001b[32m102.7/102.7 KB\u001b[0m \u001b[31m12.9 MB/s\u001b[0m eta \u001b[36m0:00:00\u001b[0m\n",
            "\u001b[?25hCollecting htmlmin==0.1.12\n",
            "  Downloading htmlmin-0.1.12.tar.gz (19 kB)\n",
            "  Preparing metadata (setup.py) ... \u001b[?25l\u001b[?25hdone\n",
            "Requirement already satisfied: tqdm<4.65,>=4.48.2 in /usr/local/lib/python3.8/dist-packages (from ydata-profiling) (4.64.1)\n",
            "Requirement already satisfied: pydantic<1.11,>=1.8.1 in /usr/local/lib/python3.8/dist-packages (from ydata-profiling) (1.10.5)\n",
            "Requirement already satisfied: jinja2<3.2,>=2.11.1 in /usr/local/lib/python3.8/dist-packages (from ydata-profiling) (3.1.2)\n",
            "Requirement already satisfied: requests<2.29,>=2.24.0 in /usr/local/lib/python3.8/dist-packages (from ydata-profiling) (2.25.1)\n",
            "Requirement already satisfied: scipy<1.10,>=1.4.1 in /usr/local/lib/python3.8/dist-packages (from ydata-profiling) (1.7.3)\n",
            "Requirement already satisfied: seaborn<0.13,>=0.10.1 in /usr/local/lib/python3.8/dist-packages (from ydata-profiling) (0.11.2)\n",
            "Requirement already satisfied: numpy<1.24,>=1.16.0 in /usr/local/lib/python3.8/dist-packages (from ydata-profiling) (1.22.4)\n",
            "Collecting statsmodels<0.14,>=0.13.2\n",
            "  Downloading statsmodels-0.13.5-cp38-cp38-manylinux_2_17_x86_64.manylinux2014_x86_64.whl (9.9 MB)\n",
            "\u001b[2K     \u001b[90m━━━━━━━━━━━━━━━━━━━━━━━━━━━━━━━━━━━━━━━━\u001b[0m \u001b[32m9.9/9.9 MB\u001b[0m \u001b[31m79.0 MB/s\u001b[0m eta \u001b[36m0:00:00\u001b[0m\n",
            "\u001b[?25hCollecting phik<0.13,>=0.11.1\n",
            "  Downloading phik-0.12.3-cp38-cp38-manylinux_2_17_x86_64.manylinux2014_x86_64.whl (679 kB)\n",
            "\u001b[2K     \u001b[90m━━━━━━━━━━━━━━━━━━━━━━━━━━━━━━━━━━━━━━\u001b[0m \u001b[32m679.5/679.5 KB\u001b[0m \u001b[31m53.3 MB/s\u001b[0m eta \u001b[36m0:00:00\u001b[0m\n",
            "\u001b[?25hRequirement already satisfied: attrs>=19.3.0 in /usr/local/lib/python3.8/dist-packages (from visions[type_image_path]==0.7.5->ydata-profiling) (22.2.0)\n",
            "Requirement already satisfied: networkx>=2.4 in /usr/local/lib/python3.8/dist-packages (from visions[type_image_path]==0.7.5->ydata-profiling) (3.0)\n",
            "Collecting tangled-up-in-unicode>=0.0.4\n",
            "  Downloading tangled_up_in_unicode-0.2.0-py3-none-any.whl (4.7 MB)\n",
            "\u001b[2K     \u001b[90m━━━━━━━━━━━━━━━━━━━━━━━━━━━━━━━━━━━━━━━━\u001b[0m \u001b[32m4.7/4.7 MB\u001b[0m \u001b[31m72.7 MB/s\u001b[0m eta \u001b[36m0:00:00\u001b[0m\n",
            "\u001b[?25hCollecting imagehash\n",
            "  Downloading ImageHash-4.3.1-py2.py3-none-any.whl (296 kB)\n",
            "\u001b[2K     \u001b[90m━━━━━━━━━━━━━━━━━━━━━━━━━━━━━━━━━━━━━━\u001b[0m \u001b[32m296.5/296.5 KB\u001b[0m \u001b[31m24.1 MB/s\u001b[0m eta \u001b[36m0:00:00\u001b[0m\n",
            "\u001b[?25hRequirement already satisfied: Pillow in /usr/local/lib/python3.8/dist-packages (from visions[type_image_path]==0.7.5->ydata-profiling) (8.4.0)\n",
            "Requirement already satisfied: MarkupSafe>=2.0 in /usr/local/lib/python3.8/dist-packages (from jinja2<3.2,>=2.11.1->ydata-profiling) (2.1.2)\n",
            "Requirement already satisfied: packaging>=20.0 in /usr/local/lib/python3.8/dist-packages (from matplotlib<3.7,>=3.2->ydata-profiling) (23.0)\n",
            "Requirement already satisfied: python-dateutil>=2.7 in /usr/local/lib/python3.8/dist-packages (from matplotlib<3.7,>=3.2->ydata-profiling) (2.8.2)\n",
            "Requirement already satisfied: cycler>=0.10 in /usr/local/lib/python3.8/dist-packages (from matplotlib<3.7,>=3.2->ydata-profiling) (0.11.0)\n",
            "Requirement already satisfied: pyparsing>=2.2.1 in /usr/local/lib/python3.8/dist-packages (from matplotlib<3.7,>=3.2->ydata-profiling) (3.0.9)\n",
            "Requirement already satisfied: kiwisolver>=1.0.1 in /usr/local/lib/python3.8/dist-packages (from matplotlib<3.7,>=3.2->ydata-profiling) (1.4.4)\n",
            "Requirement already satisfied: fonttools>=4.22.0 in /usr/local/lib/python3.8/dist-packages (from matplotlib<3.7,>=3.2->ydata-profiling) (4.38.0)\n",
            "Requirement already satisfied: pytz>=2017.3 in /usr/local/lib/python3.8/dist-packages (from pandas!=1.4.0,<1.6,>1.1->ydata-profiling) (2022.7.1)\n",
            "Requirement already satisfied: joblib>=0.14.1 in /usr/local/lib/python3.8/dist-packages (from phik<0.13,>=0.11.1->ydata-profiling) (1.2.0)\n",
            "Requirement already satisfied: typing-extensions>=4.2.0 in /usr/local/lib/python3.8/dist-packages (from pydantic<1.11,>=1.8.1->ydata-profiling) (4.5.0)\n",
            "Requirement already satisfied: urllib3<1.27,>=1.21.1 in /usr/local/lib/python3.8/dist-packages (from requests<2.29,>=2.24.0->ydata-profiling) (1.26.14)\n",
            "Requirement already satisfied: chardet<5,>=3.0.2 in /usr/local/lib/python3.8/dist-packages (from requests<2.29,>=2.24.0->ydata-profiling) (4.0.0)\n",
            "Requirement already satisfied: idna<3,>=2.5 in /usr/local/lib/python3.8/dist-packages (from requests<2.29,>=2.24.0->ydata-profiling) (2.10)\n",
            "Requirement already satisfied: certifi>=2017.4.17 in /usr/local/lib/python3.8/dist-packages (from requests<2.29,>=2.24.0->ydata-profiling) (2022.12.7)\n",
            "Requirement already satisfied: patsy>=0.5.2 in /usr/local/lib/python3.8/dist-packages (from statsmodels<0.14,>=0.13.2->ydata-profiling) (0.5.3)\n",
            "Requirement already satisfied: six in /usr/local/lib/python3.8/dist-packages (from patsy>=0.5.2->statsmodels<0.14,>=0.13.2->ydata-profiling) (1.15.0)\n",
            "Requirement already satisfied: PyWavelets in /usr/local/lib/python3.8/dist-packages (from imagehash->visions[type_image_path]==0.7.5->ydata-profiling) (1.4.1)\n",
            "Building wheels for collected packages: htmlmin\n",
            "  Building wheel for htmlmin (setup.py) ... \u001b[?25l\u001b[?25hdone\n",
            "  Created wheel for htmlmin: filename=htmlmin-0.1.12-py3-none-any.whl size=27098 sha256=752eea835b11da1dca141c09afa0b5c877527b1e86562bbfac0c486b3296cba9\n",
            "  Stored in directory: /root/.cache/pip/wheels/23/14/6e/4be5bfeeb027f4939a01764b48edd5996acf574b0913fe5243\n",
            "Successfully built htmlmin\n",
            "Installing collected packages: htmlmin, typeguard, tangled-up-in-unicode, multimethod, imagehash, visions, statsmodels, phik, ydata-profiling\n",
            "  Attempting uninstall: typeguard\n",
            "    Found existing installation: typeguard 2.7.1\n",
            "    Uninstalling typeguard-2.7.1:\n",
            "      Successfully uninstalled typeguard-2.7.1\n",
            "  Attempting uninstall: statsmodels\n",
            "    Found existing installation: statsmodels 0.12.2\n",
            "    Uninstalling statsmodels-0.12.2:\n",
            "      Successfully uninstalled statsmodels-0.12.2\n",
            "Successfully installed htmlmin-0.1.12 imagehash-4.3.1 multimethod-1.9.1 phik-0.12.3 statsmodels-0.13.5 tangled-up-in-unicode-0.2.0 typeguard-2.13.3 visions-0.7.5 ydata-profiling-4.0.0\n"
          ]
        }
      ]
    },
    {
      "cell_type": "markdown",
      "source": [
        "# Dataset 1\n",
        "**Weather**"
      ],
      "metadata": {
        "id": "uQI0yhGTYvOm"
      }
    },
    {
      "cell_type": "code",
      "source": [
        "path = '/content/temp'\n",
        "all_files = glob.glob(path + \"/*.csv\")"
      ],
      "metadata": {
        "id": "bmTVExU5LpYW"
      },
      "execution_count": null,
      "outputs": []
    },
    {
      "cell_type": "code",
      "source": [
        "path = '/content/temp.csv'\n",
        "df = pd.read_csv(path,encoding = 'unicode_escape',index_col=None, header =0)"
      ],
      "metadata": {
        "colab": {
          "base_uri": "https://localhost:8080/"
        },
        "id": "2HYbim_kaPQE",
        "outputId": "e65b97d9-f33f-4359-fb30-ef88b2d64662"
      },
      "execution_count": null,
      "outputs": [
        {
          "output_type": "stream",
          "name": "stderr",
          "text": [
            "/usr/local/lib/python3.8/dist-packages/IPython/core/interactiveshell.py:3326: DtypeWarning: Columns (6) have mixed types.Specify dtype option on import or set low_memory=False.\n",
            "  exec(code_obj, self.user_global_ns, self.user_ns)\n"
          ]
        }
      ]
    },
    {
      "cell_type": "code",
      "source": [
        "all_dfs = []\n",
        "for one_filename in all_files:\n",
        "    print(f'Loading {one_filename}')\n",
        "    new_df = pd.read_csv(one_filename,encoding = 'unicode_escape',index_col=None, header =0)\n",
        "    all_dfs.append(new_df)"
      ],
      "metadata": {
        "id": "3a_XJQIXSi2_",
        "colab": {
          "base_uri": "https://localhost:8080/"
        },
        "outputId": "605c9999-c6a1-4685-9974-cdc69ccc575b"
      },
      "execution_count": null,
      "outputs": [
        {
          "output_type": "stream",
          "name": "stdout",
          "text": [
            "Loading /content/temp/TS Weather data August 2022.csv\n",
            "Loading /content/temp/TS Weather data July 2021.csv\n",
            "Loading /content/temp/july_to_sept.csv\n",
            "Loading /content/temp/TS Weather data August 2021.csv\n",
            "Loading /content/temp/TS Weather data April 2022..csv\n",
            "Loading /content/temp/TS Weather data May 2022_0.csv\n",
            "Loading /content/temp/TS Weather data October 2021.csv\n",
            "Loading /content/temp/Weather_Jan_to_Mar_2021.csv\n",
            "Loading /content/temp/TS Weather data September 2022.csv\n",
            "Loading /content/temp/TS Weather data January 2022.csv\n",
            "Loading /content/temp/July_to_Sept_2019.csv\n",
            "Loading /content/temp/TS Weather data March 2022.csv\n",
            "Loading /content/temp/April_to_June_2019.csv\n",
            "Loading /content/temp/jaunary_march_2020.csv\n",
            "Loading /content/temp/Oct_to_Dec_2019.csv\n",
            "Loading /content/temp/TS Weather Data April 2021 .csv\n",
            "Loading /content/temp/TS Weather data February 2022.csv\n",
            "Loading /content/temp/TS Weather data June 2021.csv\n",
            "Loading /content/temp/TS Weather data May 2021.csv\n",
            "Loading /content/temp/TS Weather data September 2021.csv\n",
            "Loading /content/temp/January_to_March_2019.csv\n",
            "Loading /content/temp/TS Weather data July 2022_0.csv\n",
            "Loading /content/temp/april_to_june.csv\n",
            "Loading /content/temp/TS Weather data November 2021.csv\n",
            "Loading /content/temp/TS Weather data December 2021.csv\n",
            "Loading /content/temp/TS Weather data June 2022_0.csv\n",
            "Loading /content/temp/October to December 2020.csv\n"
          ]
        }
      ]
    },
    {
      "cell_type": "code",
      "source": [
        "len(all_dfs)"
      ],
      "metadata": {
        "colab": {
          "base_uri": "https://localhost:8080/"
        },
        "id": "BZ1B-eabLn9e",
        "outputId": "355c0e68-abe2-4720-db7b-115645162126"
      },
      "execution_count": null,
      "outputs": [
        {
          "output_type": "execute_result",
          "data": {
            "text/plain": [
              "27"
            ]
          },
          "metadata": {},
          "execution_count": 5
        }
      ]
    },
    {
      "cell_type": "code",
      "source": [
        "df = pd.concat(all_dfs)"
      ],
      "metadata": {
        "id": "jR9x5keqHVS_"
      },
      "execution_count": null,
      "outputs": []
    },
    {
      "cell_type": "code",
      "source": [
        "df.head"
      ],
      "metadata": {
        "colab": {
          "base_uri": "https://localhost:8080/"
        },
        "id": "nTu88VdMHoFT",
        "outputId": "2fd6a5c1-4248-4505-8ed5-23b3c337a539"
      },
      "execution_count": null,
      "outputs": [
        {
          "output_type": "execute_result",
          "data": {
            "text/plain": [
              "<bound method NDFrame.head of                District            Mandal       Date  Rainfall (mm)  \\\n",
              "0              Adilabad  Adilabad (Urban)   4/1/2019            0.0   \n",
              "1              Adilabad  Adilabad (Urban)   4/2/2019            0.0   \n",
              "2              Adilabad  Adilabad (Urban)   4/3/2019            0.0   \n",
              "3              Adilabad  Adilabad (Urban)   4/4/2019            0.0   \n",
              "4              Adilabad  Adilabad (Urban)   4/5/2019            0.0   \n",
              "...                 ...               ...        ...            ...   \n",
              "765541  Yadadri-Bhongir     Yadagirigutta  3/27/2019            0.0   \n",
              "765542  Yadadri-Bhongir     Yadagirigutta  3/28/2019            0.0   \n",
              "765543  Yadadri-Bhongir     Yadagirigutta  3/29/2019            0.0   \n",
              "765544  Yadadri-Bhongir     Yadagirigutta  3/30/2019            0.0   \n",
              "765545  Yadadri-Bhongir     Yadagirigutta  3/31/2019            0.0   \n",
              "\n",
              "        temp_min (â°C)  temp_max (â°C) humidity_min (%)  Humidity_max (%)  \\\n",
              "0                  25.3             42.5             12.2              42.8   \n",
              "1                  23.9             42.2             14.7              19.5   \n",
              "2                  27.0             41.5             16.0              50.5   \n",
              "3                  28.0             41.4             15.8              59.2   \n",
              "4                  25.9             40.6             20.4              49.5   \n",
              "...                 ...              ...              ...               ...   \n",
              "765541             22.3             37.8             31.9              71.1   \n",
              "765542             22.9             40.1             22.0              65.5   \n",
              "765543             22.9             39.6             24.2              60.8   \n",
              "765544             22.6             41.3             21.3              74.2   \n",
              "765545             24.4             40.0             24.2              75.3   \n",
              "\n",
              "        wind_speed_min (Kmph)  wind_speed_max (Kmph)  \n",
              "0                         0.0                    2.8  \n",
              "1                         0.3                    2.6  \n",
              "2                         0.2                    1.8  \n",
              "3                         0.3                    3.0  \n",
              "4                         0.0                    2.9  \n",
              "...                       ...                    ...  \n",
              "765541                    0.0                    5.5  \n",
              "765542                    0.0                    7.9  \n",
              "765543                    0.0                    3.9  \n",
              "765544                    0.0                    5.4  \n",
              "765545                    0.0                    7.5  \n",
              "\n",
              "[765546 rows x 10 columns]>"
            ]
          },
          "metadata": {},
          "execution_count": 85
        }
      ]
    },
    {
      "cell_type": "code",
      "source": [
        "a=df.columns\n",
        "print(a)"
      ],
      "metadata": {
        "colab": {
          "base_uri": "https://localhost:8080/"
        },
        "id": "MoXdkVThC8E_",
        "outputId": "9075c188-b79d-4d72-a8af-30f1cc3b2f07"
      },
      "execution_count": null,
      "outputs": [
        {
          "output_type": "stream",
          "name": "stdout",
          "text": [
            "Index(['Mandal', 'Date', 'Rain (mm)', 'Min Temp (Â°C)', 'Max Temp (Â°C)',\n",
            "       'Min Humidity (%)', 'Max Humidity (%)', 'Min Wind Speed (Kmph)',\n",
            "       'Max Wind Speed (Kmph)', 'dmcode', 'district', 'mandal', 'date', 'rain',\n",
            "       'temp_min', 'temp_max', 'humidity_min', 'humidity_max',\n",
            "       'wind_speed_max', 'wind_speed_min', 'Min Temp (°C)', 'Max Temp (°C)',\n",
            "       'Unnamed: 10', 'Unnamed: 11', 'Unnamed: 12', 'Unnamed: 13',\n",
            "       'Unnamed: 14', 'Rainfall (mm)', 'temp_min (â°C)', 'temp_max (â°C)',\n",
            "       'humidity_min (%)', 'Humidity_max (%)', 'wind_speed_min (Kmph)',\n",
            "       'wind_speed_max (Kmph)', 'humidity_max (%)', 'Unnamed: 0', 'Dcode',\n",
            "       'Mcode', 'Temp Min (°C)', 'Temp Max (°C)', 'Humidity Min (%)',\n",
            "       'Humidity Max (%)', 'Wind Speed Min (Kmph)', 'Wind Speed Max (Kmph)'],\n",
            "      dtype='object')\n"
          ]
        }
      ]
    },
    {
      "cell_type": "code",
      "source": [
        "\n",
        "df0 = df[['Date', 'Rain (mm)','Max Temp (Â°C)', 'Min Humidity (%)', 'Max Humidity (%)',\n",
        "       'Min Wind Speed (Kmph)', 'Max Wind Speed (Kmph)','date', 'rain','temp_max', 'humidity_min',\n",
        "       'humidity_max', 'wind_speed_max', 'wind_speed_min','Max Temp (°C)','Rainfall (mm)','temp_max (â°C)', 'humidity_min (%)', 'Humidity_max (%)',\n",
        "       'wind_speed_min (Kmph)', 'wind_speed_max (Kmph)', 'humidity_max (%)','Temp Max (°C)',\n",
        "       'Humidity Min (%)', 'Humidity Max (%)', 'Wind Speed Min (Kmph)',\n",
        "       'Wind Speed Max (Kmph)']]\n",
        "\n",
        "df0.head\n",
        "  "
      ],
      "metadata": {
        "colab": {
          "base_uri": "https://localhost:8080/"
        },
        "id": "1CJMTombLJDv",
        "outputId": "89dcc881-1988-4115-8f9e-4341aede1171"
      },
      "execution_count": null,
      "outputs": [
        {
          "output_type": "execute_result",
          "data": {
            "text/plain": [
              "<bound method NDFrame.head of             Date  Rain (mm)  Max Temp (Â°C)  Min Humidity (%)  \\\n",
              "0      01-Aug-22        0.0            34.0              65.2   \n",
              "1      02-Aug-22        3.8            33.9              60.6   \n",
              "2      03-Aug-22        1.3            34.1              63.2   \n",
              "3      04-Aug-22        1.0            36.0              67.3   \n",
              "4      05-Aug-22       24.3            32.4              73.5   \n",
              "...          ...        ...             ...               ...   \n",
              "54183  27-Dec-20        0.0             NaN               NaN   \n",
              "54184  28-Dec-20        0.0             NaN               NaN   \n",
              "54185  29-Dec-20        0.0             NaN               NaN   \n",
              "54186  30-Dec-20        0.0             NaN               NaN   \n",
              "54187  31-Dec-20        0.0             NaN               NaN   \n",
              "\n",
              "       Max Humidity (%)  Min Wind Speed (Kmph)  Max Wind Speed (Kmph) date  \\\n",
              "0                  83.5                    0.3                    5.7  NaN   \n",
              "1                  98.3                    0.0                    9.9  NaN   \n",
              "2                  98.1                    0.0                    7.8  NaN   \n",
              "3                  99.7                    0.0                   18.2  NaN   \n",
              "4                  99.9                    0.0                    7.8  NaN   \n",
              "...                 ...                    ...                    ...  ...   \n",
              "54183               NaN                    NaN                    NaN  NaN   \n",
              "54184               NaN                    NaN                    NaN  NaN   \n",
              "54185               NaN                    NaN                    NaN  NaN   \n",
              "54186               NaN                    NaN                    NaN  NaN   \n",
              "54187               NaN                    NaN                    NaN  NaN   \n",
              "\n",
              "       rain  temp_max  ...  humidity_min (%)  Humidity_max (%)  \\\n",
              "0       NaN       NaN  ...               NaN               NaN   \n",
              "1       NaN       NaN  ...               NaN               NaN   \n",
              "2       NaN       NaN  ...               NaN               NaN   \n",
              "3       NaN       NaN  ...               NaN               NaN   \n",
              "4       NaN       NaN  ...               NaN               NaN   \n",
              "...     ...       ...  ...               ...               ...   \n",
              "54183   NaN       NaN  ...               NaN               NaN   \n",
              "54184   NaN       NaN  ...               NaN               NaN   \n",
              "54185   NaN       NaN  ...               NaN               NaN   \n",
              "54186   NaN       NaN  ...               NaN               NaN   \n",
              "54187   NaN       NaN  ...               NaN               NaN   \n",
              "\n",
              "       wind_speed_min (Kmph)  wind_speed_max (Kmph)  humidity_max (%)  \\\n",
              "0                        NaN                    NaN               NaN   \n",
              "1                        NaN                    NaN               NaN   \n",
              "2                        NaN                    NaN               NaN   \n",
              "3                        NaN                    NaN               NaN   \n",
              "4                        NaN                    NaN               NaN   \n",
              "...                      ...                    ...               ...   \n",
              "54183                    NaN                    NaN               NaN   \n",
              "54184                    NaN                    NaN               NaN   \n",
              "54185                    NaN                    NaN               NaN   \n",
              "54186                    NaN                    NaN               NaN   \n",
              "54187                    NaN                    NaN               NaN   \n",
              "\n",
              "       Temp Max (°C)  Humidity Min (%)  Humidity Max (%)  \\\n",
              "0                NaN               NaN               NaN   \n",
              "1                NaN               NaN               NaN   \n",
              "2                NaN               NaN               NaN   \n",
              "3                NaN               NaN               NaN   \n",
              "4                NaN               NaN               NaN   \n",
              "...              ...               ...               ...   \n",
              "54183           29.8              30.1              98.7   \n",
              "54184           30.5              24.5              98.7   \n",
              "54185           29.8              29.5              98.7   \n",
              "54186           29.9              27.4              98.7   \n",
              "54187           29.4              35.3              98.3   \n",
              "\n",
              "       Wind Speed Min (Kmph)  Wind Speed Max (Kmph)  \n",
              "0                        NaN                    NaN  \n",
              "1                        NaN                    NaN  \n",
              "2                        NaN                    NaN  \n",
              "3                        NaN                    NaN  \n",
              "4                        NaN                    NaN  \n",
              "...                      ...                    ...  \n",
              "54183                    0.0                    4.0  \n",
              "54184                    0.0                    3.7  \n",
              "54185                    0.0                    1.8  \n",
              "54186                    0.0                    4.3  \n",
              "54187                    0.0                    7.4  \n",
              "\n",
              "[867383 rows x 27 columns]>"
            ]
          },
          "metadata": {},
          "execution_count": 24
        }
      ]
    },
    {
      "cell_type": "code",
      "source": [
        "df2 = df0[[\"Rainfall (mm)\",\"rain\",\"Rain (mm)\"]].mean()\n",
        "df2.describe()"
      ],
      "metadata": {
        "colab": {
          "base_uri": "https://localhost:8080/"
        },
        "id": "pr2bwhiiPN47",
        "outputId": "d0a48a14-716d-4514-84ba-1b7758c83f9e"
      },
      "execution_count": null,
      "outputs": [
        {
          "output_type": "execute_result",
          "data": {
            "text/plain": [
              "count    3.000000\n",
              "mean     3.729268\n",
              "std      1.999241\n",
              "min      1.942185\n",
              "25%      2.649703\n",
              "50%      3.357220\n",
              "75%      4.622809\n",
              "max      5.888398\n",
              "dtype: float64"
            ]
          },
          "metadata": {},
          "execution_count": 22
        }
      ]
    },
    {
      "cell_type": "markdown",
      "source": [
        "# Automated EDA report\n",
        "\n",
        "using [ydata Profiling](https://pypi.org/project/pandas-profiling/) (earlier known as - [PandasProfiling])"
      ],
      "metadata": {
        "id": "k9Dz6K7_YROE"
      }
    },
    {
      "cell_type": "code",
      "source": [
        "profile =ProfileReport(df, title='Panda Profiling Report', explorative=True)"
      ],
      "metadata": {
        "id": "k_bklcPNCKp8"
      },
      "execution_count": null,
      "outputs": []
    },
    {
      "cell_type": "code",
      "source": [
        "profile.to_file(\"output.html\")"
      ],
      "metadata": {
        "colab": {
          "base_uri": "https://localhost:8080/",
          "height": 943,
          "referenced_widgets": [
            "1299a18d39b846489f7d074277fbe65d",
            "edaf3169ea024d0ba94a6c4bb5a2604a",
            "bca11158324f43a8b209d30943ea88c5",
            "96ec59535a314f06a292699e7506725d",
            "7e963cd17db4482f97acf99e37e6bddc",
            "7ffe2d99b539478ba15cd010d329b860",
            "a47216c3687143a59ec736de2b5f8d7f",
            "8b726ccb59f8449db3894b92f11ca1d3",
            "6d9c4609df0f4ebdac718a9b1ecfe622",
            "fc57c04c66a14ee89aaacb3b510c35bd",
            "5a8445abb4274855be2e053374c5d702",
            "5c4195449074494a9a13772e0e339330",
            "764da637a6de4e81bbadcebc386bd331",
            "af5807d9fb964d7fa7a0904eb5c111d8",
            "b6edf987bbe14997906cf56510da5cb9",
            "32e4c775ce78403391ab31879701672a",
            "3522e5706d7a45cdb7b8b4dec66887b1",
            "df55747af0ac4a7596eacaf2ed2bab45",
            "3a7ece58b9f143ffb6a5539efbbaf74f",
            "bfa06025b17e43dcb26550d8bface2e7",
            "132e219316e34e6cacbd26e03b8401ee",
            "265da599aa174899b044d450f136c155",
            "feaddc1891864bb6b1fb3b4383cc85b4",
            "d2f63736fba74b84afa80fc33a86efe5",
            "9f91b925170840cc8dd972c9c4999a70",
            "88d5ffea17dc45669d1221d285ae2f33",
            "fb2f50c73a8f41de8f90928cf4937ebd",
            "cee644f1ad1d48418000e36250fa3b3f",
            "d2bde8c25fd6499c8c96b8e0fb181102",
            "40df651389934824b8746dc3d69ce94e",
            "404a14d9d977419f8b43dd8e716cb51c",
            "4e5fb6617a0c4b3e90f5c7a42044cb79",
            "5f37a185e1414be4904fc0a96df7a14f",
            "275471bceb594ab2bcd5a087d211e882",
            "c3d572b2fa4c4badb0a5c38ffb99882f",
            "1c40c4ff52634f61b0440eb4bcf391c9",
            "b0b8d3f248a74a8eba8d4a75c95f3e46",
            "aac5257cbe1545f5aff2284a38ec5ba1",
            "9066a124d6674fa99856197d67e23b6c",
            "c4f8e4079b684095ae7a889fa7167620",
            "a3f1ae24562a4b83868283dd89217787",
            "1275025f5f2c4088bdd31dcad54798f0",
            "6daf3e17569540fcb177ed5f7f0a9e84",
            "4b97744270014b809952e21163f0e144"
          ]
        },
        "id": "LRom80kKCgAn",
        "outputId": "9e1c10cd-26bf-44bd-e41b-84e1e5068366"
      },
      "execution_count": null,
      "outputs": [
        {
          "output_type": "display_data",
          "data": {
            "text/plain": [
              "Summarize dataset:   0%|          | 0/5 [00:00<?, ?it/s]"
            ],
            "application/vnd.jupyter.widget-view+json": {
              "version_major": 2,
              "version_minor": 0,
              "model_id": "1299a18d39b846489f7d074277fbe65d"
            }
          },
          "metadata": {}
        },
        {
          "output_type": "stream",
          "name": "stderr",
          "text": [
            "/usr/local/lib/python3.8/dist-packages/ydata_profiling/visualisation/utils.py:73: UserWarning: Glyph 129 (\\x81) missing from current font.\n",
            "  plt.savefig(\n",
            "/usr/local/lib/python3.8/dist-packages/ydata_profiling/visualisation/utils.py:73: UserWarning: Glyph 129 (\\x81) missing from current font.\n",
            "  plt.savefig(\n",
            "/usr/local/lib/python3.8/dist-packages/ydata_profiling/visualisation/utils.py:73: UserWarning: Glyph 129 (\\x81) missing from current font.\n",
            "  plt.savefig(\n",
            "/usr/local/lib/python3.8/dist-packages/ydata_profiling/visualisation/utils.py:73: UserWarning: Glyph 129 (\\x81) missing from current font.\n",
            "  plt.savefig(\n",
            "/usr/local/lib/python3.8/dist-packages/ydata_profiling/visualisation/utils.py:73: UserWarning: Glyph 129 (\\x81) missing from current font.\n",
            "  plt.savefig(\n",
            "/usr/local/lib/python3.8/dist-packages/ydata_profiling/visualisation/utils.py:73: UserWarning: Glyph 129 (\\x81) missing from current font.\n",
            "  plt.savefig(\n",
            "/usr/local/lib/python3.8/dist-packages/ydata_profiling/visualisation/utils.py:73: UserWarning: Glyph 129 (\\x81) missing from current font.\n",
            "  plt.savefig(\n",
            "/usr/local/lib/python3.8/dist-packages/ydata_profiling/visualisation/utils.py:73: UserWarning: Glyph 129 (\\x81) missing from current font.\n",
            "  plt.savefig(\n",
            "/usr/local/lib/python3.8/dist-packages/ydata_profiling/visualisation/utils.py:73: UserWarning: Glyph 129 (\\x81) missing from current font.\n",
            "  plt.savefig(\n",
            "/usr/local/lib/python3.8/dist-packages/ydata_profiling/visualisation/utils.py:73: UserWarning: Glyph 129 (\\x81) missing from current font.\n",
            "  plt.savefig(\n",
            "/usr/local/lib/python3.8/dist-packages/ydata_profiling/visualisation/utils.py:73: UserWarning: Glyph 129 (\\x81) missing from current font.\n",
            "  plt.savefig(\n",
            "/usr/local/lib/python3.8/dist-packages/ydata_profiling/visualisation/utils.py:73: UserWarning: Glyph 129 (\\x81) missing from current font.\n",
            "  plt.savefig(\n",
            "/usr/local/lib/python3.8/dist-packages/ydata_profiling/visualisation/utils.py:73: UserWarning: Glyph 129 (\\x81) missing from current font.\n",
            "  plt.savefig(\n",
            "/usr/local/lib/python3.8/dist-packages/ydata_profiling/visualisation/utils.py:73: UserWarning: Glyph 129 (\\x81) missing from current font.\n",
            "  plt.savefig(\n",
            "/usr/local/lib/python3.8/dist-packages/ydata_profiling/visualisation/utils.py:73: UserWarning: Glyph 129 (\\x81) missing from current font.\n",
            "  plt.savefig(\n",
            "/usr/local/lib/python3.8/dist-packages/ydata_profiling/visualisation/utils.py:73: UserWarning: Glyph 129 (\\x81) missing from current font.\n",
            "  plt.savefig(\n",
            "/usr/local/lib/python3.8/dist-packages/ydata_profiling/visualisation/utils.py:73: UserWarning: Glyph 129 (\\x81) missing from current font.\n",
            "  plt.savefig(\n",
            "/usr/local/lib/python3.8/dist-packages/ydata_profiling/visualisation/utils.py:73: UserWarning: Glyph 129 (\\x81) missing from current font.\n",
            "  plt.savefig(\n",
            "/usr/local/lib/python3.8/dist-packages/ydata_profiling/visualisation/utils.py:73: UserWarning: Glyph 129 (\\x81) missing from current font.\n",
            "  plt.savefig(\n",
            "/usr/local/lib/python3.8/dist-packages/ydata_profiling/visualisation/utils.py:73: UserWarning: Glyph 129 (\\x81) missing from current font.\n",
            "  plt.savefig(\n",
            "/usr/local/lib/python3.8/dist-packages/ydata_profiling/visualisation/utils.py:73: UserWarning: Glyph 129 (\\x81) missing from current font.\n",
            "  plt.savefig(\n",
            "/usr/local/lib/python3.8/dist-packages/ydata_profiling/visualisation/utils.py:73: UserWarning: Glyph 129 (\\x81) missing from current font.\n",
            "  plt.savefig(\n"
          ]
        },
        {
          "output_type": "display_data",
          "data": {
            "text/plain": [
              "Generate report structure:   0%|          | 0/1 [00:00<?, ?it/s]"
            ],
            "application/vnd.jupyter.widget-view+json": {
              "version_major": 2,
              "version_minor": 0,
              "model_id": "5c4195449074494a9a13772e0e339330"
            }
          },
          "metadata": {}
        },
        {
          "output_type": "stream",
          "name": "stderr",
          "text": [
            "/usr/local/lib/python3.8/dist-packages/ydata_profiling/visualisation/utils.py:73: UserWarning: Glyph 129 (\\x81) missing from current font.\n",
            "  plt.savefig(\n"
          ]
        },
        {
          "output_type": "display_data",
          "data": {
            "text/plain": [
              "Render HTML:   0%|          | 0/1 [00:00<?, ?it/s]"
            ],
            "application/vnd.jupyter.widget-view+json": {
              "version_major": 2,
              "version_minor": 0,
              "model_id": "feaddc1891864bb6b1fb3b4383cc85b4"
            }
          },
          "metadata": {}
        },
        {
          "output_type": "display_data",
          "data": {
            "text/plain": [
              "Export report to file:   0%|          | 0/1 [00:00<?, ?it/s]"
            ],
            "application/vnd.jupyter.widget-view+json": {
              "version_major": 2,
              "version_minor": 0,
              "model_id": "275471bceb594ab2bcd5a087d211e882"
            }
          },
          "metadata": {}
        }
      ]
    },
    {
      "cell_type": "code",
      "source": [
        "import matplotlib.pyplot as plt\n",
        "%matplotlib inline\n",
        "import seaborn as sns\n",
        "\n",
        "## display all the columns of the dataframe\n",
        "pd.pandas.set_option('display.max_columns', None)"
      ],
      "metadata": {
        "id": "Lh-CfFANEq9H"
      },
      "execution_count": null,
      "outputs": []
    },
    {
      "cell_type": "markdown",
      "source": [
        "# **Data Analysis**"
      ],
      "metadata": {
        "id": "SPdNto03La1a"
      }
    },
    {
      "cell_type": "markdown",
      "source": [
        "\n",
        "\n",
        "---\n",
        "## Missing Value\n",
        "\n",
        "using library - [missingno](https://joss.theoj.org/papers/10.21105/joss.00547)\n"
      ],
      "metadata": {
        "id": "bBJzxxyzLpOO"
      }
    },
    {
      "cell_type": "code",
      "source": [
        "!pip install missingno"
      ],
      "metadata": {
        "colab": {
          "base_uri": "https://localhost:8080/"
        },
        "id": "0fbuP4MBLQel",
        "outputId": "5ff79c14-8942-473b-d88c-45ad4df21db0"
      },
      "execution_count": null,
      "outputs": [
        {
          "output_type": "stream",
          "name": "stdout",
          "text": [
            "Looking in indexes: https://pypi.org/simple, https://us-python.pkg.dev/colab-wheels/public/simple/\n",
            "Requirement already satisfied: missingno in /usr/local/lib/python3.8/dist-packages (0.5.1)\n",
            "Requirement already satisfied: scipy in /usr/local/lib/python3.8/dist-packages (from missingno) (1.7.3)\n",
            "Requirement already satisfied: seaborn in /usr/local/lib/python3.8/dist-packages (from missingno) (0.11.2)\n",
            "Requirement already satisfied: numpy in /usr/local/lib/python3.8/dist-packages (from missingno) (1.22.4)\n",
            "Requirement already satisfied: matplotlib in /usr/local/lib/python3.8/dist-packages (from missingno) (3.5.3)\n",
            "Requirement already satisfied: pyparsing>=2.2.1 in /usr/local/lib/python3.8/dist-packages (from matplotlib->missingno) (3.0.9)\n",
            "Requirement already satisfied: packaging>=20.0 in /usr/local/lib/python3.8/dist-packages (from matplotlib->missingno) (23.0)\n",
            "Requirement already satisfied: python-dateutil>=2.7 in /usr/local/lib/python3.8/dist-packages (from matplotlib->missingno) (2.8.2)\n",
            "Requirement already satisfied: pillow>=6.2.0 in /usr/local/lib/python3.8/dist-packages (from matplotlib->missingno) (8.4.0)\n",
            "Requirement already satisfied: kiwisolver>=1.0.1 in /usr/local/lib/python3.8/dist-packages (from matplotlib->missingno) (1.4.4)\n",
            "Requirement already satisfied: fonttools>=4.22.0 in /usr/local/lib/python3.8/dist-packages (from matplotlib->missingno) (4.38.0)\n",
            "Requirement already satisfied: cycler>=0.10 in /usr/local/lib/python3.8/dist-packages (from matplotlib->missingno) (0.11.0)\n",
            "Requirement already satisfied: pandas>=0.23 in /usr/local/lib/python3.8/dist-packages (from seaborn->missingno) (1.3.5)\n",
            "Requirement already satisfied: pytz>=2017.3 in /usr/local/lib/python3.8/dist-packages (from pandas>=0.23->seaborn->missingno) (2022.7.1)\n",
            "Requirement already satisfied: six>=1.5 in /usr/local/lib/python3.8/dist-packages (from python-dateutil>=2.7->matplotlib->missingno) (1.15.0)\n"
          ]
        }
      ]
    },
    {
      "cell_type": "code",
      "source": [
        "df.describe()"
      ],
      "metadata": {
        "colab": {
          "base_uri": "https://localhost:8080/",
          "height": 300
        },
        "id": "MeKwMPtsPBYu",
        "outputId": "e570954b-b5fa-4e94-93c3-bf7036a845ee"
      },
      "execution_count": null,
      "outputs": [
        {
          "output_type": "execute_result",
          "data": {
            "text/plain": [
              "       Rainfall (mm)  temp_min (â°C)  temp_max (â°C)  Humidity_max (%)  \\\n",
              "count  765546.000000    765546.000000    765546.000000     765542.000000   \n",
              "mean        3.286784        22.074940        33.923806         86.751672   \n",
              "std        11.674611         4.420384         4.124811         17.631589   \n",
              "min         0.000000         2.900000        12.900000         -1.000000   \n",
              "25%         0.000000        19.500000        31.100000         80.400000   \n",
              "50%         0.000000        23.000000        33.300000         93.500000   \n",
              "75%         0.000000        24.900000        36.800000         99.900000   \n",
              "max       391.000000        37.200000        47.900000        100.000000   \n",
              "\n",
              "       wind_speed_min (Kmph)  wind_speed_max (Kmph)  \n",
              "count          706976.000000          653729.000000  \n",
              "mean                1.444159               9.206275  \n",
              "std                 3.832029              11.283590  \n",
              "min                 0.000000               0.000000  \n",
              "25%                 0.000000               2.400000  \n",
              "50%                 0.000000               7.200000  \n",
              "75%                 0.100000              11.900000  \n",
              "max                67.800000              69.800000  "
            ],
            "text/html": [
              "\n",
              "  <div id=\"df-8328dd0e-af00-43b5-904f-8dd25e285746\">\n",
              "    <div class=\"colab-df-container\">\n",
              "      <div>\n",
              "<style scoped>\n",
              "    .dataframe tbody tr th:only-of-type {\n",
              "        vertical-align: middle;\n",
              "    }\n",
              "\n",
              "    .dataframe tbody tr th {\n",
              "        vertical-align: top;\n",
              "    }\n",
              "\n",
              "    .dataframe thead th {\n",
              "        text-align: right;\n",
              "    }\n",
              "</style>\n",
              "<table border=\"1\" class=\"dataframe\">\n",
              "  <thead>\n",
              "    <tr style=\"text-align: right;\">\n",
              "      <th></th>\n",
              "      <th>Rainfall (mm)</th>\n",
              "      <th>temp_min (â°C)</th>\n",
              "      <th>temp_max (â°C)</th>\n",
              "      <th>Humidity_max (%)</th>\n",
              "      <th>wind_speed_min (Kmph)</th>\n",
              "      <th>wind_speed_max (Kmph)</th>\n",
              "    </tr>\n",
              "  </thead>\n",
              "  <tbody>\n",
              "    <tr>\n",
              "      <th>count</th>\n",
              "      <td>765546.000000</td>\n",
              "      <td>765546.000000</td>\n",
              "      <td>765546.000000</td>\n",
              "      <td>765542.000000</td>\n",
              "      <td>706976.000000</td>\n",
              "      <td>653729.000000</td>\n",
              "    </tr>\n",
              "    <tr>\n",
              "      <th>mean</th>\n",
              "      <td>3.286784</td>\n",
              "      <td>22.074940</td>\n",
              "      <td>33.923806</td>\n",
              "      <td>86.751672</td>\n",
              "      <td>1.444159</td>\n",
              "      <td>9.206275</td>\n",
              "    </tr>\n",
              "    <tr>\n",
              "      <th>std</th>\n",
              "      <td>11.674611</td>\n",
              "      <td>4.420384</td>\n",
              "      <td>4.124811</td>\n",
              "      <td>17.631589</td>\n",
              "      <td>3.832029</td>\n",
              "      <td>11.283590</td>\n",
              "    </tr>\n",
              "    <tr>\n",
              "      <th>min</th>\n",
              "      <td>0.000000</td>\n",
              "      <td>2.900000</td>\n",
              "      <td>12.900000</td>\n",
              "      <td>-1.000000</td>\n",
              "      <td>0.000000</td>\n",
              "      <td>0.000000</td>\n",
              "    </tr>\n",
              "    <tr>\n",
              "      <th>25%</th>\n",
              "      <td>0.000000</td>\n",
              "      <td>19.500000</td>\n",
              "      <td>31.100000</td>\n",
              "      <td>80.400000</td>\n",
              "      <td>0.000000</td>\n",
              "      <td>2.400000</td>\n",
              "    </tr>\n",
              "    <tr>\n",
              "      <th>50%</th>\n",
              "      <td>0.000000</td>\n",
              "      <td>23.000000</td>\n",
              "      <td>33.300000</td>\n",
              "      <td>93.500000</td>\n",
              "      <td>0.000000</td>\n",
              "      <td>7.200000</td>\n",
              "    </tr>\n",
              "    <tr>\n",
              "      <th>75%</th>\n",
              "      <td>0.000000</td>\n",
              "      <td>24.900000</td>\n",
              "      <td>36.800000</td>\n",
              "      <td>99.900000</td>\n",
              "      <td>0.100000</td>\n",
              "      <td>11.900000</td>\n",
              "    </tr>\n",
              "    <tr>\n",
              "      <th>max</th>\n",
              "      <td>391.000000</td>\n",
              "      <td>37.200000</td>\n",
              "      <td>47.900000</td>\n",
              "      <td>100.000000</td>\n",
              "      <td>67.800000</td>\n",
              "      <td>69.800000</td>\n",
              "    </tr>\n",
              "  </tbody>\n",
              "</table>\n",
              "</div>\n",
              "      <button class=\"colab-df-convert\" onclick=\"convertToInteractive('df-8328dd0e-af00-43b5-904f-8dd25e285746')\"\n",
              "              title=\"Convert this dataframe to an interactive table.\"\n",
              "              style=\"display:none;\">\n",
              "        \n",
              "  <svg xmlns=\"http://www.w3.org/2000/svg\" height=\"24px\"viewBox=\"0 0 24 24\"\n",
              "       width=\"24px\">\n",
              "    <path d=\"M0 0h24v24H0V0z\" fill=\"none\"/>\n",
              "    <path d=\"M18.56 5.44l.94 2.06.94-2.06 2.06-.94-2.06-.94-.94-2.06-.94 2.06-2.06.94zm-11 1L8.5 8.5l.94-2.06 2.06-.94-2.06-.94L8.5 2.5l-.94 2.06-2.06.94zm10 10l.94 2.06.94-2.06 2.06-.94-2.06-.94-.94-2.06-.94 2.06-2.06.94z\"/><path d=\"M17.41 7.96l-1.37-1.37c-.4-.4-.92-.59-1.43-.59-.52 0-1.04.2-1.43.59L10.3 9.45l-7.72 7.72c-.78.78-.78 2.05 0 2.83L4 21.41c.39.39.9.59 1.41.59.51 0 1.02-.2 1.41-.59l7.78-7.78 2.81-2.81c.8-.78.8-2.07 0-2.86zM5.41 20L4 18.59l7.72-7.72 1.47 1.35L5.41 20z\"/>\n",
              "  </svg>\n",
              "      </button>\n",
              "      \n",
              "  <style>\n",
              "    .colab-df-container {\n",
              "      display:flex;\n",
              "      flex-wrap:wrap;\n",
              "      gap: 12px;\n",
              "    }\n",
              "\n",
              "    .colab-df-convert {\n",
              "      background-color: #E8F0FE;\n",
              "      border: none;\n",
              "      border-radius: 50%;\n",
              "      cursor: pointer;\n",
              "      display: none;\n",
              "      fill: #1967D2;\n",
              "      height: 32px;\n",
              "      padding: 0 0 0 0;\n",
              "      width: 32px;\n",
              "    }\n",
              "\n",
              "    .colab-df-convert:hover {\n",
              "      background-color: #E2EBFA;\n",
              "      box-shadow: 0px 1px 2px rgba(60, 64, 67, 0.3), 0px 1px 3px 1px rgba(60, 64, 67, 0.15);\n",
              "      fill: #174EA6;\n",
              "    }\n",
              "\n",
              "    [theme=dark] .colab-df-convert {\n",
              "      background-color: #3B4455;\n",
              "      fill: #D2E3FC;\n",
              "    }\n",
              "\n",
              "    [theme=dark] .colab-df-convert:hover {\n",
              "      background-color: #434B5C;\n",
              "      box-shadow: 0px 1px 3px 1px rgba(0, 0, 0, 0.15);\n",
              "      filter: drop-shadow(0px 1px 2px rgba(0, 0, 0, 0.3));\n",
              "      fill: #FFFFFF;\n",
              "    }\n",
              "  </style>\n",
              "\n",
              "      <script>\n",
              "        const buttonEl =\n",
              "          document.querySelector('#df-8328dd0e-af00-43b5-904f-8dd25e285746 button.colab-df-convert');\n",
              "        buttonEl.style.display =\n",
              "          google.colab.kernel.accessAllowed ? 'block' : 'none';\n",
              "\n",
              "        async function convertToInteractive(key) {\n",
              "          const element = document.querySelector('#df-8328dd0e-af00-43b5-904f-8dd25e285746');\n",
              "          const dataTable =\n",
              "            await google.colab.kernel.invokeFunction('convertToInteractive',\n",
              "                                                     [key], {});\n",
              "          if (!dataTable) return;\n",
              "\n",
              "          const docLinkHtml = 'Like what you see? Visit the ' +\n",
              "            '<a target=\"_blank\" href=https://colab.research.google.com/notebooks/data_table.ipynb>data table notebook</a>'\n",
              "            + ' to learn more about interactive tables.';\n",
              "          element.innerHTML = '';\n",
              "          dataTable['output_type'] = 'display_data';\n",
              "          await google.colab.output.renderOutput(dataTable, element);\n",
              "          const docLink = document.createElement('div');\n",
              "          docLink.innerHTML = docLinkHtml;\n",
              "          element.appendChild(docLink);\n",
              "        }\n",
              "      </script>\n",
              "    </div>\n",
              "  </div>\n",
              "  "
            ]
          },
          "metadata": {},
          "execution_count": 8
        }
      ]
    },
    {
      "cell_type": "code",
      "source": [
        "df.info()"
      ],
      "metadata": {
        "colab": {
          "base_uri": "https://localhost:8080/"
        },
        "id": "tLG5nYHqPOEV",
        "outputId": "c9815489-3317-478b-e594-13555a6014fa"
      },
      "execution_count": null,
      "outputs": [
        {
          "output_type": "stream",
          "name": "stdout",
          "text": [
            "<class 'pandas.core.frame.DataFrame'>\n",
            "RangeIndex: 765546 entries, 0 to 765545\n",
            "Data columns (total 10 columns):\n",
            " #   Column                 Non-Null Count   Dtype  \n",
            "---  ------                 --------------   -----  \n",
            " 0   District               765546 non-null  object \n",
            " 1   Mandal                 765545 non-null  object \n",
            " 2   Date                   765546 non-null  object \n",
            " 3   Rainfall (mm)          765546 non-null  float64\n",
            " 4   temp_min (â°C)        765546 non-null  float64\n",
            " 5   temp_max (â°C)        765546 non-null  float64\n",
            " 6   humidity_min (%)       765542 non-null  object \n",
            " 7   Humidity_max (%)       765542 non-null  float64\n",
            " 8   wind_speed_min (Kmph)  706976 non-null  float64\n",
            " 9   wind_speed_max (Kmph)  653729 non-null  float64\n",
            "dtypes: float64(6), object(4)\n",
            "memory usage: 58.4+ MB\n"
          ]
        }
      ]
    },
    {
      "cell_type": "code",
      "source": [
        "df.isna().sum()"
      ],
      "metadata": {
        "colab": {
          "base_uri": "https://localhost:8080/"
        },
        "id": "OUifAkpAPZJk",
        "outputId": "d0756110-ccd6-48d7-cdf6-d91ca173f4a4"
      },
      "execution_count": null,
      "outputs": [
        {
          "output_type": "execute_result",
          "data": {
            "text/plain": [
              "District                      0\n",
              "Mandal                        1\n",
              "Date                          0\n",
              "Rainfall (mm)                 0\n",
              "temp_min (â°C)               0\n",
              "temp_max (â°C)               0\n",
              "humidity_min (%)              4\n",
              "Humidity_max (%)              4\n",
              "wind_speed_min (Kmph)     58570\n",
              "wind_speed_max (Kmph)    111817\n",
              "dtype: int64"
            ]
          },
          "metadata": {},
          "execution_count": 10
        }
      ]
    },
    {
      "cell_type": "code",
      "source": [
        "import missingno as msno"
      ],
      "metadata": {
        "id": "kyI41xYiPhOn"
      },
      "execution_count": null,
      "outputs": []
    },
    {
      "cell_type": "code",
      "source": [
        "msno.matrix(df)"
      ],
      "metadata": {
        "colab": {
          "base_uri": "https://localhost:8080/",
          "height": 573
        },
        "id": "yuqcK4lld86k",
        "outputId": "ebc0d473-962a-4ade-dbce-6ba6c388a5e6"
      },
      "execution_count": null,
      "outputs": [
        {
          "output_type": "execute_result",
          "data": {
            "text/plain": [
              "<AxesSubplot:>"
            ]
          },
          "metadata": {},
          "execution_count": 17
        },
        {
          "output_type": "display_data",
          "data": {
            "text/plain": [
              "<Figure size 1800x720 with 2 Axes>"
            ],
            "image/png": "[encoded data removed]"
          },
          "metadata": {
            "needs_background": "light"
          }
        }
      ]
    },
    {
      "cell_type": "code",
      "source": [
        "msno.heatmap(df)"
      ],
      "metadata": {
        "colab": {
          "base_uri": "https://localhost:8080/",
          "height": 780
        },
        "id": "SgKPf3nSPqp1",
        "outputId": "31d42da1-8f88-408b-bd1b-f7debb0a46fe"
      },
      "execution_count": null,
      "outputs": [
        {
          "output_type": "execute_result",
          "data": {
            "text/plain": [
              "<AxesSubplot:>"
            ]
          },
          "metadata": {},
          "execution_count": 12
        },
        {
          "output_type": "display_data",
          "data": {
            "text/plain": [
              "<Figure size 1440x864 with 2 Axes>"
            ],
            "image/png": "[encoded data removed]"
          },
          "metadata": {
            "needs_background": "light"
          }
        }
      ]
    },
    {
      "cell_type": "code",
      "source": [
        "msno.dendrogram(df)"
      ],
      "metadata": {
        "colab": {
          "base_uri": "https://localhost:8080/",
          "height": 625
        },
        "id": "x01BxjPxQCMg",
        "outputId": "f9ef24d2-101b-4a8a-9770-33022720e8bf"
      },
      "execution_count": null,
      "outputs": [
        {
          "output_type": "execute_result",
          "data": {
            "text/plain": [
              "<AxesSubplot:>"
            ]
          },
          "metadata": {},
          "execution_count": 13
        },
        {
          "output_type": "stream",
          "name": "stderr",
          "text": [
            "/usr/local/lib/python3.8/dist-packages/IPython/core/events.py:88: UserWarning: Glyph 129 (\\x81) missing from current font.\n",
            "  func(*args, **kwargs)\n",
            "/usr/local/lib/python3.8/dist-packages/IPython/core/pylabtools.py:128: UserWarning: Glyph 129 (\\x81) missing from current font.\n",
            "  fig.canvas.print_figure(bytes_io, **kw)\n"
          ]
        },
        {
          "output_type": "display_data",
          "data": {
            "text/plain": [
              "<Figure size 1800x720 with 1 Axes>"
            ],
            "image/png": "[encoded data removed]"
          },
          "metadata": {
            "needs_background": "light"
          }
        }
      ]
    },
    {
      "cell_type": "code",
      "source": [
        "corr = df['Humidity_max (%)'].corr(df['temp_max (â°C)'])"
      ],
      "metadata": {
        "colab": {
          "base_uri": "https://localhost:8080/",
          "height": 311
        },
        "id": "oS2Ys51dWIYT",
        "outputId": "99225492-03a9-4a97-c78b-ee32c0dd3365"
      },
      "execution_count": null,
      "outputs": [
        {
          "output_type": "error",
          "ename": "TypeError",
          "evalue": "ignored",
          "traceback": [
            "\u001b[0;31m---------------------------------------------------------------------------\u001b[0m",
            "\u001b[0;31mTypeError\u001b[0m                                 Traceback (most recent call last)",
            "\u001b[0;32m<ipython-input-5-0fb543294362>\u001b[0m in \u001b[0;36m<module>\u001b[0;34m\u001b[0m\n\u001b[0;32m----> 1\u001b[0;31m \u001b[0mcorr\u001b[0m \u001b[0;34m=\u001b[0m \u001b[0mdf\u001b[0m\u001b[0;34m[\u001b[0m\u001b[0;34m'Date'\u001b[0m\u001b[0;34m]\u001b[0m\u001b[0;34m.\u001b[0m\u001b[0mcorr\u001b[0m\u001b[0;34m(\u001b[0m\u001b[0mdf\u001b[0m\u001b[0;34m[\u001b[0m\u001b[0;34m'temp_max (â°C)'\u001b[0m\u001b[0;34m]\u001b[0m\u001b[0;34m)\u001b[0m\u001b[0;34m\u001b[0m\u001b[0;34m\u001b[0m\u001b[0m\n\u001b[0m",
            "\u001b[0;32m/usr/local/lib/python3.8/dist-packages/pandas/core/series.py\u001b[0m in \u001b[0;36mcorr\u001b[0;34m(self, other, method, min_periods)\u001b[0m\n\u001b[1;32m   2506\u001b[0m \u001b[0;34m\u001b[0m\u001b[0m\n\u001b[1;32m   2507\u001b[0m         \u001b[0;32mif\u001b[0m \u001b[0mmethod\u001b[0m \u001b[0;32min\u001b[0m \u001b[0;34m[\u001b[0m\u001b[0;34m\"pearson\"\u001b[0m\u001b[0;34m,\u001b[0m \u001b[0;34m\"spearman\"\u001b[0m\u001b[0;34m,\u001b[0m \u001b[0;34m\"kendall\"\u001b[0m\u001b[0;34m]\u001b[0m \u001b[0;32mor\u001b[0m \u001b[0mcallable\u001b[0m\u001b[0;34m(\u001b[0m\u001b[0mmethod\u001b[0m\u001b[0;34m)\u001b[0m\u001b[0;34m:\u001b[0m\u001b[0;34m\u001b[0m\u001b[0;34m\u001b[0m\u001b[0m\n\u001b[0;32m-> 2508\u001b[0;31m             return nanops.nancorr(\n\u001b[0m\u001b[1;32m   2509\u001b[0m                 \u001b[0mthis\u001b[0m\u001b[0;34m.\u001b[0m\u001b[0mvalues\u001b[0m\u001b[0;34m,\u001b[0m \u001b[0mother\u001b[0m\u001b[0;34m.\u001b[0m\u001b[0mvalues\u001b[0m\u001b[0;34m,\u001b[0m \u001b[0mmethod\u001b[0m\u001b[0;34m=\u001b[0m\u001b[0mmethod\u001b[0m\u001b[0;34m,\u001b[0m \u001b[0mmin_periods\u001b[0m\u001b[0;34m=\u001b[0m\u001b[0mmin_periods\u001b[0m\u001b[0;34m\u001b[0m\u001b[0;34m\u001b[0m\u001b[0m\n\u001b[1;32m   2510\u001b[0m             )\n",
            "\u001b[0;32m/usr/local/lib/python3.8/dist-packages/pandas/core/nanops.py\u001b[0m in \u001b[0;36m_f\u001b[0;34m(*args, **kwargs)\u001b[0m\n\u001b[1;32m     92\u001b[0m             \u001b[0;32mtry\u001b[0m\u001b[0;34m:\u001b[0m\u001b[0;34m\u001b[0m\u001b[0;34m\u001b[0m\u001b[0m\n\u001b[1;32m     93\u001b[0m                 \u001b[0;32mwith\u001b[0m \u001b[0mnp\u001b[0m\u001b[0;34m.\u001b[0m\u001b[0merrstate\u001b[0m\u001b[0;34m(\u001b[0m\u001b[0minvalid\u001b[0m\u001b[0;34m=\u001b[0m\u001b[0;34m\"ignore\"\u001b[0m\u001b[0;34m)\u001b[0m\u001b[0;34m:\u001b[0m\u001b[0;34m\u001b[0m\u001b[0;34m\u001b[0m\u001b[0m\n\u001b[0;32m---> 94\u001b[0;31m                     \u001b[0;32mreturn\u001b[0m \u001b[0mf\u001b[0m\u001b[0;34m(\u001b[0m\u001b[0;34m*\u001b[0m\u001b[0margs\u001b[0m\u001b[0;34m,\u001b[0m \u001b[0;34m**\u001b[0m\u001b[0mkwargs\u001b[0m\u001b[0;34m)\u001b[0m\u001b[0;34m\u001b[0m\u001b[0;34m\u001b[0m\u001b[0m\n\u001b[0m\u001b[1;32m     95\u001b[0m             \u001b[0;32mexcept\u001b[0m \u001b[0mValueError\u001b[0m \u001b[0;32mas\u001b[0m \u001b[0me\u001b[0m\u001b[0;34m:\u001b[0m\u001b[0;34m\u001b[0m\u001b[0;34m\u001b[0m\u001b[0m\n\u001b[1;32m     96\u001b[0m                 \u001b[0;31m# we want to transform an object array\u001b[0m\u001b[0;34m\u001b[0m\u001b[0;34m\u001b[0m\u001b[0;34m\u001b[0m\u001b[0m\n",
            "\u001b[0;32m/usr/local/lib/python3.8/dist-packages/pandas/core/nanops.py\u001b[0m in \u001b[0;36mnancorr\u001b[0;34m(a, b, method, min_periods)\u001b[0m\n\u001b[1;32m   1525\u001b[0m \u001b[0;34m\u001b[0m\u001b[0m\n\u001b[1;32m   1526\u001b[0m     \u001b[0mf\u001b[0m \u001b[0;34m=\u001b[0m \u001b[0mget_corr_func\u001b[0m\u001b[0;34m(\u001b[0m\u001b[0mmethod\u001b[0m\u001b[0;34m)\u001b[0m\u001b[0;34m\u001b[0m\u001b[0;34m\u001b[0m\u001b[0m\n\u001b[0;32m-> 1527\u001b[0;31m     \u001b[0;32mreturn\u001b[0m \u001b[0mf\u001b[0m\u001b[0;34m(\u001b[0m\u001b[0ma\u001b[0m\u001b[0;34m,\u001b[0m \u001b[0mb\u001b[0m\u001b[0;34m)\u001b[0m\u001b[0;34m\u001b[0m\u001b[0;34m\u001b[0m\u001b[0m\n\u001b[0m\u001b[1;32m   1528\u001b[0m \u001b[0;34m\u001b[0m\u001b[0m\n\u001b[1;32m   1529\u001b[0m \u001b[0;34m\u001b[0m\u001b[0m\n",
            "\u001b[0;32m/usr/local/lib/python3.8/dist-packages/pandas/core/nanops.py\u001b[0m in \u001b[0;36mfunc\u001b[0;34m(a, b)\u001b[0m\n\u001b[1;32m   1546\u001b[0m \u001b[0;34m\u001b[0m\u001b[0m\n\u001b[1;32m   1547\u001b[0m         \u001b[0;32mdef\u001b[0m \u001b[0mfunc\u001b[0m\u001b[0;34m(\u001b[0m\u001b[0ma\u001b[0m\u001b[0;34m,\u001b[0m \u001b[0mb\u001b[0m\u001b[0;34m)\u001b[0m\u001b[0;34m:\u001b[0m\u001b[0;34m\u001b[0m\u001b[0;34m\u001b[0m\u001b[0m\n\u001b[0;32m-> 1548\u001b[0;31m             \u001b[0;32mreturn\u001b[0m \u001b[0mnp\u001b[0m\u001b[0;34m.\u001b[0m\u001b[0mcorrcoef\u001b[0m\u001b[0;34m(\u001b[0m\u001b[0ma\u001b[0m\u001b[0;34m,\u001b[0m \u001b[0mb\u001b[0m\u001b[0;34m)\u001b[0m\u001b[0;34m[\u001b[0m\u001b[0;36m0\u001b[0m\u001b[0;34m,\u001b[0m \u001b[0;36m1\u001b[0m\u001b[0;34m]\u001b[0m\u001b[0;34m\u001b[0m\u001b[0;34m\u001b[0m\u001b[0m\n\u001b[0m\u001b[1;32m   1549\u001b[0m \u001b[0;34m\u001b[0m\u001b[0m\n\u001b[1;32m   1550\u001b[0m         \u001b[0;32mreturn\u001b[0m \u001b[0mfunc\u001b[0m\u001b[0;34m\u001b[0m\u001b[0;34m\u001b[0m\u001b[0m\n",
            "\u001b[0;32m/usr/local/lib/python3.8/dist-packages/numpy/core/overrides.py\u001b[0m in \u001b[0;36mcorrcoef\u001b[0;34m(*args, **kwargs)\u001b[0m\n",
            "\u001b[0;32m/usr/local/lib/python3.8/dist-packages/numpy/lib/function_base.py\u001b[0m in \u001b[0;36mcorrcoef\u001b[0;34m(x, y, rowvar, bias, ddof, dtype)\u001b[0m\n\u001b[1;32m   2819\u001b[0m         warnings.warn('bias and ddof have no effect and are deprecated',\n\u001b[1;32m   2820\u001b[0m                       DeprecationWarning, stacklevel=3)\n\u001b[0;32m-> 2821\u001b[0;31m     \u001b[0mc\u001b[0m \u001b[0;34m=\u001b[0m \u001b[0mcov\u001b[0m\u001b[0;34m(\u001b[0m\u001b[0mx\u001b[0m\u001b[0;34m,\u001b[0m \u001b[0my\u001b[0m\u001b[0;34m,\u001b[0m \u001b[0mrowvar\u001b[0m\u001b[0;34m,\u001b[0m \u001b[0mdtype\u001b[0m\u001b[0;34m=\u001b[0m\u001b[0mdtype\u001b[0m\u001b[0;34m)\u001b[0m\u001b[0;34m\u001b[0m\u001b[0;34m\u001b[0m\u001b[0m\n\u001b[0m\u001b[1;32m   2822\u001b[0m     \u001b[0;32mtry\u001b[0m\u001b[0;34m:\u001b[0m\u001b[0;34m\u001b[0m\u001b[0;34m\u001b[0m\u001b[0m\n\u001b[1;32m   2823\u001b[0m         \u001b[0md\u001b[0m \u001b[0;34m=\u001b[0m \u001b[0mdiag\u001b[0m\u001b[0;34m(\u001b[0m\u001b[0mc\u001b[0m\u001b[0;34m)\u001b[0m\u001b[0;34m\u001b[0m\u001b[0;34m\u001b[0m\u001b[0m\n",
            "\u001b[0;32m/usr/local/lib/python3.8/dist-packages/numpy/core/overrides.py\u001b[0m in \u001b[0;36mcov\u001b[0;34m(*args, **kwargs)\u001b[0m\n",
            "\u001b[0;32m/usr/local/lib/python3.8/dist-packages/numpy/lib/function_base.py\u001b[0m in \u001b[0;36mcov\u001b[0;34m(m, y, rowvar, bias, ddof, fweights, aweights, dtype)\u001b[0m\n\u001b[1;32m   2654\u001b[0m             \u001b[0mw\u001b[0m \u001b[0;34m*=\u001b[0m \u001b[0maweights\u001b[0m\u001b[0;34m\u001b[0m\u001b[0;34m\u001b[0m\u001b[0m\n\u001b[1;32m   2655\u001b[0m \u001b[0;34m\u001b[0m\u001b[0m\n\u001b[0;32m-> 2656\u001b[0;31m     \u001b[0mavg\u001b[0m\u001b[0;34m,\u001b[0m \u001b[0mw_sum\u001b[0m \u001b[0;34m=\u001b[0m \u001b[0maverage\u001b[0m\u001b[0;34m(\u001b[0m\u001b[0mX\u001b[0m\u001b[0;34m,\u001b[0m \u001b[0maxis\u001b[0m\u001b[0;34m=\u001b[0m\u001b[0;36m1\u001b[0m\u001b[0;34m,\u001b[0m \u001b[0mweights\u001b[0m\u001b[0;34m=\u001b[0m\u001b[0mw\u001b[0m\u001b[0;34m,\u001b[0m \u001b[0mreturned\u001b[0m\u001b[0;34m=\u001b[0m\u001b[0;32mTrue\u001b[0m\u001b[0;34m)\u001b[0m\u001b[0;34m\u001b[0m\u001b[0;34m\u001b[0m\u001b[0m\n\u001b[0m\u001b[1;32m   2657\u001b[0m     \u001b[0mw_sum\u001b[0m \u001b[0;34m=\u001b[0m \u001b[0mw_sum\u001b[0m\u001b[0;34m[\u001b[0m\u001b[0;36m0\u001b[0m\u001b[0;34m]\u001b[0m\u001b[0;34m\u001b[0m\u001b[0;34m\u001b[0m\u001b[0m\n\u001b[1;32m   2658\u001b[0m \u001b[0;34m\u001b[0m\u001b[0m\n",
            "\u001b[0;32m/usr/local/lib/python3.8/dist-packages/numpy/core/overrides.py\u001b[0m in \u001b[0;36maverage\u001b[0;34m(*args, **kwargs)\u001b[0m\n",
            "\u001b[0;32m/usr/local/lib/python3.8/dist-packages/numpy/lib/function_base.py\u001b[0m in \u001b[0;36maverage\u001b[0;34m(a, axis, weights, returned)\u001b[0m\n\u001b[1;32m    493\u001b[0m \u001b[0;34m\u001b[0m\u001b[0m\n\u001b[1;32m    494\u001b[0m     \u001b[0;32mif\u001b[0m \u001b[0mweights\u001b[0m \u001b[0;32mis\u001b[0m \u001b[0;32mNone\u001b[0m\u001b[0;34m:\u001b[0m\u001b[0;34m\u001b[0m\u001b[0;34m\u001b[0m\u001b[0m\n\u001b[0;32m--> 495\u001b[0;31m         \u001b[0mavg\u001b[0m \u001b[0;34m=\u001b[0m \u001b[0ma\u001b[0m\u001b[0;34m.\u001b[0m\u001b[0mmean\u001b[0m\u001b[0;34m(\u001b[0m\u001b[0maxis\u001b[0m\u001b[0;34m)\u001b[0m\u001b[0;34m\u001b[0m\u001b[0;34m\u001b[0m\u001b[0m\n\u001b[0m\u001b[1;32m    496\u001b[0m         \u001b[0mscl\u001b[0m \u001b[0;34m=\u001b[0m \u001b[0mavg\u001b[0m\u001b[0;34m.\u001b[0m\u001b[0mdtype\u001b[0m\u001b[0;34m.\u001b[0m\u001b[0mtype\u001b[0m\u001b[0;34m(\u001b[0m\u001b[0ma\u001b[0m\u001b[0;34m.\u001b[0m\u001b[0msize\u001b[0m\u001b[0;34m/\u001b[0m\u001b[0mavg\u001b[0m\u001b[0;34m.\u001b[0m\u001b[0msize\u001b[0m\u001b[0;34m)\u001b[0m\u001b[0;34m\u001b[0m\u001b[0;34m\u001b[0m\u001b[0m\n\u001b[1;32m    497\u001b[0m     \u001b[0;32melse\u001b[0m\u001b[0;34m:\u001b[0m\u001b[0;34m\u001b[0m\u001b[0;34m\u001b[0m\u001b[0m\n",
            "\u001b[0;32m/usr/local/lib/python3.8/dist-packages/numpy/core/_methods.py\u001b[0m in \u001b[0;36m_mean\u001b[0;34m(a, axis, dtype, out, keepdims, where)\u001b[0m\n\u001b[1;32m    179\u001b[0m     \u001b[0mret\u001b[0m \u001b[0;34m=\u001b[0m \u001b[0mumr_sum\u001b[0m\u001b[0;34m(\u001b[0m\u001b[0marr\u001b[0m\u001b[0;34m,\u001b[0m \u001b[0maxis\u001b[0m\u001b[0;34m,\u001b[0m \u001b[0mdtype\u001b[0m\u001b[0;34m,\u001b[0m \u001b[0mout\u001b[0m\u001b[0;34m,\u001b[0m \u001b[0mkeepdims\u001b[0m\u001b[0;34m,\u001b[0m \u001b[0mwhere\u001b[0m\u001b[0;34m=\u001b[0m\u001b[0mwhere\u001b[0m\u001b[0;34m)\u001b[0m\u001b[0;34m\u001b[0m\u001b[0;34m\u001b[0m\u001b[0m\n\u001b[1;32m    180\u001b[0m     \u001b[0;32mif\u001b[0m \u001b[0misinstance\u001b[0m\u001b[0;34m(\u001b[0m\u001b[0mret\u001b[0m\u001b[0;34m,\u001b[0m \u001b[0mmu\u001b[0m\u001b[0;34m.\u001b[0m\u001b[0mndarray\u001b[0m\u001b[0;34m)\u001b[0m\u001b[0;34m:\u001b[0m\u001b[0;34m\u001b[0m\u001b[0;34m\u001b[0m\u001b[0m\n\u001b[0;32m--> 181\u001b[0;31m         ret = um.true_divide(\n\u001b[0m\u001b[1;32m    182\u001b[0m                 ret, rcount, out=ret, casting='unsafe', subok=False)\n\u001b[1;32m    183\u001b[0m         \u001b[0;32mif\u001b[0m \u001b[0mis_float16_result\u001b[0m \u001b[0;32mand\u001b[0m \u001b[0mout\u001b[0m \u001b[0;32mis\u001b[0m \u001b[0;32mNone\u001b[0m\u001b[0;34m:\u001b[0m\u001b[0;34m\u001b[0m\u001b[0;34m\u001b[0m\u001b[0m\n",
            "\u001b[0;31mTypeError\u001b[0m: unsupported operand type(s) for /: 'str' and 'int'"
          ]
        }
      ]
    },
    {
      "cell_type": "markdown",
      "source": [
        "### Remove any duplicate Date"
      ],
      "metadata": {
        "id": "p3nxpzrMXqDl"
      }
    },
    {
      "cell_type": "code",
      "source": [
        "df.head\n"
      ],
      "metadata": {
        "colab": {
          "base_uri": "https://localhost:8080/"
        },
        "id": "J2d6tELNWDFr",
        "outputId": "c5025d05-cc7a-406b-93f9-613fe8ba8d1f"
      },
      "execution_count": null,
      "outputs": [
        {
          "output_type": "execute_result",
          "data": {
            "text/plain": [
              "<bound method NDFrame.head of                District            Mandal       Date  Rainfall (mm)  \\\n",
              "0              Adilabad  Adilabad (Urban)   4/1/2019            0.0   \n",
              "1              Adilabad  Adilabad (Urban)   4/2/2019            0.0   \n",
              "2              Adilabad  Adilabad (Urban)   4/3/2019            0.0   \n",
              "3              Adilabad  Adilabad (Urban)   4/4/2019            0.0   \n",
              "4              Adilabad  Adilabad (Urban)   4/5/2019            0.0   \n",
              "...                 ...               ...        ...            ...   \n",
              "765541  Yadadri-Bhongir     Yadagirigutta  3/27/2019            0.0   \n",
              "765542  Yadadri-Bhongir     Yadagirigutta  3/28/2019            0.0   \n",
              "765543  Yadadri-Bhongir     Yadagirigutta  3/29/2019            0.0   \n",
              "765544  Yadadri-Bhongir     Yadagirigutta  3/30/2019            0.0   \n",
              "765545  Yadadri-Bhongir     Yadagirigutta  3/31/2019            0.0   \n",
              "\n",
              "        temp_min (â°C)  temp_max (â°C) humidity_min (%)  Humidity_max (%)  \\\n",
              "0                  25.3             42.5             12.2              42.8   \n",
              "1                  23.9             42.2             14.7              19.5   \n",
              "2                  27.0             41.5             16.0              50.5   \n",
              "3                  28.0             41.4             15.8              59.2   \n",
              "4                  25.9             40.6             20.4              49.5   \n",
              "...                 ...              ...              ...               ...   \n",
              "765541             22.3             37.8             31.9              71.1   \n",
              "765542             22.9             40.1             22.0              65.5   \n",
              "765543             22.9             39.6             24.2              60.8   \n",
              "765544             22.6             41.3             21.3              74.2   \n",
              "765545             24.4             40.0             24.2              75.3   \n",
              "\n",
              "        wind_speed_min (Kmph)  wind_speed_max (Kmph)  \n",
              "0                         0.0                    2.8  \n",
              "1                         0.3                    2.6  \n",
              "2                         0.2                    1.8  \n",
              "3                         0.3                    3.0  \n",
              "4                         0.0                    2.9  \n",
              "...                       ...                    ...  \n",
              "765541                    0.0                    5.5  \n",
              "765542                    0.0                    7.9  \n",
              "765543                    0.0                    3.9  \n",
              "765544                    0.0                    5.4  \n",
              "765545                    0.0                    7.5  \n",
              "\n",
              "[765546 rows x 10 columns]>"
            ]
          },
          "metadata": {},
          "execution_count": 15
        }
      ]
    },
    {
      "cell_type": "markdown",
      "source": [
        "# Data Set 2\n",
        "**Transpor**t"
      ],
      "metadata": {
        "id": "QndLpihZZJ4V"
      }
    },
    {
      "cell_type": "code",
      "source": [
        "path2 = '/content/transport'\n",
        "all_files1 = glob.glob(path2 + \"/*.csv\")"
      ],
      "metadata": {
        "id": "l3A7-JPaPi6D"
      },
      "execution_count": null,
      "outputs": []
    },
    {
      "cell_type": "code",
      "source": [
        "all_dfs1 = []\n",
        "for one_filenames in all_files1:\n",
        "    print(f'Loading {one_filenames}')\n",
        "    new_df = pd.read_csv(one_filenames,encoding = 'unicode_escape',index_col=None, header =0)\n",
        "    all_dfs1.append(new_df)"
      ],
      "metadata": {
        "colab": {
          "base_uri": "https://localhost:8080/"
        },
        "id": "TNZ7igbjT59_",
        "outputId": "3e86ab9e-4a4e-4744-850c-4bbb9a3984ac"
      },
      "execution_count": null,
      "outputs": [
        {
          "output_type": "stream",
          "name": "stdout",
          "text": [
            "Loading /content/transport/ts_transport_online_sales_01_06_2020to30_06_2020.csv\n",
            "Loading /content/transport/ts_transport_online_sales_01_08_2020to31_08_2020.csv\n",
            "Loading /content/transport/ts_transport_online_sales_01_08_2022to31_08_2022.csv\n",
            "Loading /content/transport/ts_transport_onlinesales_01_07_2020to31_07_2020.csv\n",
            "Loading /content/transport/ts_transport_online_sales_01_03_2022to31_03_2022.csv\n",
            "Loading /content/transport/ts_transport_online_sales_01_08_2021to31_08_2021.csv\n",
            "Loading /content/transport/ts_transport_vehicles_online_sales_01_02_2020to29_02_2020.csv\n",
            "Loading /content/transport/ts_transport_onlinesales_01_05_2020to31_05_2020.csv\n",
            "Loading /content/transport/ts_transport_online_sales_01_09_2020to30_09_2020.csv\n",
            "Loading /content/transport/ts_transport_vehicle_online_sales_01_08_2019to31_08_2019.csv\n",
            "Loading /content/transport/ts_transport_vehicle_online_sales_01_07_2019to31_07_2019.csv\n",
            "Loading /content/transport/ts_transport_online_sales_01_04_2021to30_04_2021.csv\n",
            "Loading /content/transport/ts_transport_vehicle_online_sales_01_02_2019to28_02_2019.csv\n",
            "Loading /content/transport/ts_transport_online_sales_01_04_2020to30_04_2020.csv\n",
            "Loading /content/transport/ts_transport_online_sales_01_10_2021to31_10_2021.csv\n",
            "Loading /content/transport/ts_transport_vehicle_online_sales_01_03_2019to31_03_2019.csv\n",
            "Loading /content/transport/ts_transport_online_sales_01_11_2020to30_11_2020.csv\n",
            "Loading /content/transport/ts_transport_vehicle_online_sales_01_09_2019to30_09_2019.csv\n",
            "Loading /content/transport/ts_transport_online_sales_01_05_2022to31_05_2022.csv\n",
            "Loading /content/transport/ts_transport_vehicle_online_sales_01_06_2019to30_06_2019.csv\n",
            "Loading /content/transport/ts_transport_online_sales_01_07_2021to31_07_2021.csv\n",
            "Loading /content/transport/ts_transport_online_sales_01_01_2022to31_01_2022.csv\n",
            "Loading /content/transport/ts_transport_online_sales_01_12_2020to31_12_2020.csv\n",
            "Loading /content/transport/ts_transport_online_sales_01_03_2021to31_03_2021.csv\n",
            "Loading /content/transport/ts_transport_online_sales_01_06_2021to30_06_2021.csv\n",
            "Loading /content/transport/ts_transport_online_sales_01_10_2020to31_10_2020.csv\n",
            "Loading /content/transport/ts_transport_online_sales_01_09_2021to30_09_2021.csv\n",
            "Loading /content/transport/ts_transport_online_sales_01_02_2021to28_02_2021.csv\n",
            "Loading /content/transport/ts_transport_vehicle_online_sales_01_01_2019to31_01_2019.csv\n",
            "Loading /content/transport/ts_transport_online_sales_01_12_2021to31_12_2021.csv\n",
            "Loading /content/transport/ts_transport_online_sales_01_11_2021to30_11_2021.csv\n",
            "Loading /content/transport/ts_transport_online_sales_01_03_2020to31_03_2020.csv\n",
            "Loading /content/transport/ts_transport_vehicle_online_sales_01_10_2019to31_10_2019.csv\n",
            "Loading /content/transport/ts_transport_vehicle_online_sales_01_05_2019to31_05_2019.csv\n",
            "Loading /content/transport/ts_transport_vehicle_online_sales_01_01_2020to31_01_2020.csv\n",
            "Loading /content/transport/ts_transport_online_sales_01_04_2022to30_04_2022.csv\n",
            "Loading /content/transport/ts_transport_online_sales_01_05_2021to31_05_2021.csv\n",
            "Loading /content/transport/ts_transport_online_sales_01_06_2022to30_06_2022_0.csv\n",
            "Loading /content/transport/ts_transport_online_sales_01_07_2022to31_07_2022.csv\n",
            "Loading /content/transport/ts_transport_online_sales_01_02_2022to28_02_2022.csv\n",
            "Loading /content/transport/ts_transport_online_sales_01_09_2022to30_09_2022.csv\n",
            "Loading /content/transport/ts_transport_online_sales_01_01_2021to31_01_2021.csv\n",
            "Loading /content/transport/ts_transport_vehicle_online_sales_01_12_2019to31_12_2019.csv\n",
            "Loading /content/transport/ts_transport_vehicle_online_sales_01_04_2019to30_04_2019.csv\n",
            "Loading /content/transport/ts_transport_vehicle_online_sales_01_11_2019to30_11_2019.csv\n"
          ]
        }
      ]
    },
    {
      "cell_type": "code",
      "source": [
        "len(all_dfs1)"
      ],
      "metadata": {
        "colab": {
          "base_uri": "https://localhost:8080/"
        },
        "id": "u_E0U__iUC3j",
        "outputId": "9f7c147a-7f71-4b67-9e2c-5795e28a49ad"
      },
      "execution_count": null,
      "outputs": [
        {
          "output_type": "execute_result",
          "data": {
            "text/plain": [
              "45"
            ]
          },
          "metadata": {},
          "execution_count": 5
        }
      ]
    },
    {
      "cell_type": "code",
      "source": [
        "df_1 = pd.concat(all_dfs1)"
      ],
      "metadata": {
        "id": "spQ7KsENUD3o"
      },
      "execution_count": null,
      "outputs": []
    },
    {
      "cell_type": "code",
      "source": [
        "df_1.head"
      ],
      "metadata": {
        "colab": {
          "base_uri": "https://localhost:8080/"
        },
        "id": "QsSxEJuOW1FT",
        "outputId": "71669511-fc9b-4c8b-ec2b-5a32a25ffba8"
      },
      "execution_count": null,
      "outputs": [
        {
          "output_type": "execute_result",
          "data": {
            "text/plain": [
              "<bound method NDFrame.head of            slno                                    modelDesc    fuel  \\\n",
              "0         12629                          PLATINA 100 ES BSIV  PETROL   \n",
              "1         29334         \"HF DELUXE\"(I3S-SELF-DRUM-CAST) BSIV  PETROL   \n",
              "2         72392  ACTIVA 5GWEAS&KS&DCBS(CBS)WSEHEETWHEEL BSIV  PETROL   \n",
              "3         79802       TVS XL100 HEAVY DUTY ITOUCH START BSIV  PETROL   \n",
              "4        132004              HECTOR DIESEL 2.0 MT SHARP BSIV  DIESEL   \n",
              "...         ...                                          ...     ...   \n",
              "160594  8995406       TVS XL100 HEAVY DUTY ITOUCH START BSIV  PETROL   \n",
              "160595  9028964         \"SPLENDOR+\"(I3S-SELF-DRUM-CAST) BSIV  PETROL   \n",
              "160596  9038041                             TVS JUPITER BSIV  PETROL   \n",
              "160597  9071801                             PLATINA 110 BSIV  PETROL   \n",
              "160598  9072164                        PULSAR 150 DTS-I BSIV  PETROL   \n",
              "\n",
              "                    colour vehicleClass    makeYear  seatCapacity  \\\n",
              "0        COCKTAIL WINE RED  MOTOR CYCLE  01/10/2019             2   \n",
              "1                      RBK  MOTOR CYCLE  01/12/2019             2   \n",
              "2                     BLUE  MOTOR CYCLE  01/12/2019             2   \n",
              "3                     BLUE  MOTOR CYCLE  01/11/2019             2   \n",
              "4                GLAZE RED    MOTOR CAR  01/01/2020             5   \n",
              "...                    ...          ...         ...           ...   \n",
              "160594            M.PURPLE  MOTOR CYCLE  01/06/2019             2   \n",
              "160595          GREY BLACK  MOTOR CYCLE  01/03/2019             2   \n",
              "160596                 RED  MOTOR CYCLE  01/07/2019             2   \n",
              "160597  EBONY BLK BLUE DKL  MOTOR CYCLE  01/06/2019             2   \n",
              "160598     KHI EBONY BLACK  MOTOR CYCLE  01/04/2018             2   \n",
              "\n",
              "       insuranceValidity secondVehicle tempRegistrationNumber       category  \\\n",
              "0             29/01/2025             N           TS02APTR8731  Non Transport   \n",
              "1             31/01/2025             N            TS01NTR6023  Non Transport   \n",
              "2             31/01/2025             N           TS06AETR6911  Non Transport   \n",
              "3             31/01/2025             N            TS31CTR0078  Non Transport   \n",
              "4             27/01/2023             N           TS09CWTR1269  Non Transport   \n",
              "...                  ...           ...                    ...            ...   \n",
              "160594        29/07/2025             N            TS24CTR6563  Non Transport   \n",
              "160595        24/07/2024             N           TS09CMTR2728  Non Transport   \n",
              "160596        29/07/2024             N           TS07AYTR7071  Non Transport   \n",
              "160597        28/07/2024             N           TS07AYTR7154  Non Transport   \n",
              "160598        29/07/2024             N            TS34BTR0652  Non Transport   \n",
              "\n",
              "                                 makerName            OfficeCd    fromdate  \\\n",
              "0                           BAJAJ AUTO LTD        RTA SIDDIPET  01/02/2020   \n",
              "1                        HERO MOTOCORP LTD          RTA NIRMAL  01/02/2020   \n",
              "2           HONDA MOTORCYCLE&SCOOTER(I)P L    RTA NAGARKURNOOL  01/02/2020   \n",
              "3                    TVS MOTOR COMPANY LTD    RTA NAGARKURNOOL  01/02/2020   \n",
              "4       M/S MG MOTOR INDIA PRIVATE LIMITED           RTA UPPAL  01/02/2020   \n",
              "...                                    ...                 ...         ...   \n",
              "160594               TVS MOTOR COMPANY LTD  RTA WARANGAL RURAL  30/07/2019   \n",
              "160595                   HERO MOTOCORP LTD    RTA-HYDERABAD-SZ  30/07/2019   \n",
              "160596               TVS MOTOR COMPANY LTD      RTA RANGAREDDY  30/07/2019   \n",
              "160597                      BAJAJ AUTO LTD   UNIT OFFICE PARGI  30/07/2019   \n",
              "160598                      BAJAJ AUTO LTD       RTA VIKARABAD  30/07/2019   \n",
              "\n",
              "            todate  \n",
              "0       02/02/2020  \n",
              "1       02/02/2020  \n",
              "2       02/02/2020  \n",
              "3       02/02/2020  \n",
              "4       02/02/2020  \n",
              "...            ...  \n",
              "160594  31/07/2019  \n",
              "160595  31/07/2019  \n",
              "160596  31/07/2019  \n",
              "160597  31/07/2019  \n",
              "160598  31/07/2019  \n",
              "\n",
              "[6854331 rows x 15 columns]>"
            ]
          },
          "metadata": {},
          "execution_count": 26
        }
      ]
    },
    {
      "cell_type": "code",
      "source": [
        "df_1['todate'] = pd.to_datetime(df_1['todate'])"
      ],
      "metadata": {
        "id": "UPQhvDCQW4A0"
      },
      "execution_count": null,
      "outputs": []
    },
    {
      "cell_type": "code",
      "source": [
        "profile2 =ProfileReport(df_1, title='Panda Profiling Report2', explorative=True)"
      ],
      "metadata": {
        "id": "2f1L3Bk0ZkFu"
      },
      "execution_count": null,
      "outputs": []
    },
    {
      "cell_type": "code",
      "source": [
        "profile2.to_file(\"output2.html\")"
      ],
      "metadata": {
        "colab": {
          "base_uri": "https://localhost:8080/",
          "height": 286,
          "referenced_widgets": [
            "d73c0ef2c6d2486c91ed951cfc28f009",
            "39a99aa00b324f64bcf6f6d03fb6eb4a",
            "6adc5810c7f44acdaa2d666b1ab0d1e3",
            "f61eabba32af4105b55e5d7a1f208e1e",
            "2e461f5b0d5c40acbc037879fd83ea2f",
            "6270b1260a6349f2a4865b57a37bdaeb",
            "f1dde82f114749f28567015890f8797d",
            "4afee752e4b94dae90e0a03b37058e55",
            "ff60000e6ecf44faa4f20e7c6562d3af",
            "96f5615d2bd24655a2758c49022647ea",
            "866784609ff7416089215b9f59c9395d",
            "60e812cda5024023a9771fcb5f262c00",
            "9b7c565ab6f14b6cb4308ca20e2cb7ae",
            "b89843ce594d46a385ed74431d415f65",
            "dba891b6012149f9b6a00a148e14662d",
            "ac9dfc27aabd4d339be9e28a7f8ad8a4",
            "1eb0daeb92e1471d9c4f66ff4ec14e10",
            "2b811c74532e45eb9356fafa781d759d",
            "4fc0f4ca55ac4ebebe98fa2f9267bd6d",
            "7e0c48d12a39420b9f5ac939776c9f8c",
            "a6c2dbfa7a6d46eeb43f1a1cb2e05da5",
            "8c7a2bf98f044d8e925fd179d28fb390",
            "c291a341376f4bec9a5f8967f1795b85",
            "5ee9773bf8564dcd9aa99ee07df710b2",
            "c9f88f34365a4601b7a758e06c075aa1",
            "c247a416c3e449a8af348240daaa3986",
            "04a338502ee042e5a3e8186378ac98ce",
            "e098be057bdc48eda420c6218d62a422",
            "7b42edc3c4af4adab794a11e0a012edf",
            "615b48e40bf8431fa4ffa41fd4ffe326",
            "14c54aafd7c043009702cb788b8d740d",
            "a9f1682c2df04dbb9bdec0e8ea56b1de",
            "257300ac921f42cc837b494b4220d7c0",
            "ef32a3e5e31c4e2fa0dc0a4834a2f5dc",
            "e7524fa62a534c47ba5e9d24b3a845ee",
            "1c8099a6ae58462b8171a6e2885ba784",
            "7cc9f39592604ead92d1cb53c4af24f1",
            "8e39c1cac6194ab2b01441ad0308457c",
            "0dbe1a6909d14e5f9ab860477a302dae",
            "b3fa1c546c7046388bc0d3a0a6a8610c",
            "016c383c4fb5470eb01e516d46c84d37",
            "f9f8a3326f374547a4ff711aeb622976",
            "90262f59ada34856b13b4e2f5fbc01c6",
            "31e6d4fecf9247b99b1895f8f76f2435"
          ]
        },
        "id": "9Y5jIV9yZnIn",
        "outputId": "14a4fa51-29c9-4e0d-b110-c9b0c497cac1"
      },
      "execution_count": null,
      "outputs": [
        {
          "output_type": "display_data",
          "data": {
            "text/plain": [
              "Summarize dataset:   0%|          | 0/5 [00:00<?, ?it/s]"
            ],
            "application/vnd.jupyter.widget-view+json": {
              "version_major": 2,
              "version_minor": 0,
              "model_id": "d73c0ef2c6d2486c91ed951cfc28f009"
            }
          },
          "metadata": {}
        },
        {
          "output_type": "stream",
          "name": "stderr",
          "text": [
            "/usr/local/lib/python3.8/dist-packages/ydata_profiling/model/correlations.py:67: UserWarning: There was an attempt to calculate the auto correlation, but this failed.\n",
            "To hide this warning, disable the calculation\n",
            "(using `df.profile_report(correlations={\"auto\": {\"calculate\": False}})`\n",
            "If this is problematic for your use case, please report this as an issue:\n",
            "https://github.com/ydataai/ydata-profiling/issues\n",
            "(include the error message: 'cannot reindex from a duplicate axis')\n",
            "  warnings.warn(\n"
          ]
        },
        {
          "output_type": "display_data",
          "data": {
            "text/plain": [
              "Generate report structure:   0%|          | 0/1 [00:00<?, ?it/s]"
            ],
            "application/vnd.jupyter.widget-view+json": {
              "version_major": 2,
              "version_minor": 0,
              "model_id": "60e812cda5024023a9771fcb5f262c00"
            }
          },
          "metadata": {}
        },
        {
          "output_type": "display_data",
          "data": {
            "text/plain": [
              "Render HTML:   0%|          | 0/1 [00:00<?, ?it/s]"
            ],
            "application/vnd.jupyter.widget-view+json": {
              "version_major": 2,
              "version_minor": 0,
              "model_id": "c291a341376f4bec9a5f8967f1795b85"
            }
          },
          "metadata": {}
        },
        {
          "output_type": "display_data",
          "data": {
            "text/plain": [
              "Export report to file:   0%|          | 0/1 [00:00<?, ?it/s]"
            ],
            "application/vnd.jupyter.widget-view+json": {
              "version_major": 2,
              "version_minor": 0,
              "model_id": "ef32a3e5e31c4e2fa0dc0a4834a2f5dc"
            }
          },
          "metadata": {}
        }
      ]
    },
    {
      "cell_type": "markdown",
      "source": [
        "Number of Diesel vehicles on a particular date"
      ],
      "metadata": {
        "id": "pblmt5qBbf8-"
      }
    },
    {
      "cell_type": "code",
      "source": [
        "import array as arr\n",
        "\n",
        "unique_count = df_1['todate'].nunique()"
      ],
      "metadata": {
        "id": "f7Z-W9sRYCbv"
      },
      "execution_count": null,
      "outputs": []
    },
    {
      "cell_type": "code",
      "source": [
        "# Get minimum and maximum dates\n",
        "\n",
        "min_date_time = df_1['todate'].min()\n",
        "max_date_time = df_1['todate'].max()\n",
        "\n",
        "array = [0] * ((max_date_time - min_date_time).days + 1)\n",
        "'''\n",
        "  [\n",
        "    [19, 121], // 1st March\n",
        "    ..\n",
        "    ..\n",
        "    [31, 212] // i \n",
        "\n",
        "    [21 ,12], // 31st March\n",
        "  ]\n",
        "'''\n",
        "\n",
        "print(type(min_date_time), (max_date_time - min_date_time).days)"
      ],
      "metadata": {
        "colab": {
          "base_uri": "https://localhost:8080/"
        },
        "id": "jDcRBCKBjr2C",
        "outputId": "4e925a54-8fa2-4de8-8548-0d0786fcc78c"
      },
      "execution_count": null,
      "outputs": [
        {
          "output_type": "stream",
          "name": "stdout",
          "text": [
            "<class 'pandas._libs.tslibs.timestamps.Timestamp'> 1426\n"
          ]
        }
      ]
    },
    {
      "cell_type": "code",
      "source": [
        "for index, row in df_1.iterrows():\n",
        "  idx = (row['todate'] - min_date_time).days\n",
        "\n",
        "  if 'DIESEL' in str(row['fuel']):\n",
        "    array[idx] += 1 # diesel cars count\n",
        "  \n",
        "print(array)"
      ],
      "metadata": {
        "colab": {
          "base_uri": "https://localhost:8080/"
        },
        "id": "x5Rmp7oodKLY",
        "outputId": "c0c290aa-7ec3-4930-e50d-64aeb740eea4"
      },
      "execution_count": null,
      "outputs": [
        {
          "output_type": "stream",
          "name": "stdout",
          "text": [
            "[503, 261, 246, 257, 835, 1118, 1083, 561, 576, 1049, 1084, 1114, 1266, 764, 28, 476, 989, 1354, 1860, 1104, 843, 1233, 543, 473, 455, 783, 755, 53, 733, 1127, 348, 1095, 1203, 1377, 1347, 635, 604, 1099, 1136, 1289, 1379, 1287, 590, 591, 1193, 1309, 1808, 1442, 388, 576, 754, 832, 329, 676, 903, 330, 1084, 451, 792, 1303, 1287, 1178, 1378, 788, 760, 1232, 1185, 790, 888, 1299, 540, 754, 1345, 1418, 1481, 1438, 2068, 2027, 1344, 359, 381, 868, 672, 730, 882, 434, 702, 1770, 388, 840, 811, 364, 515, 940, 929, 1018, 939, 811, 408, 476, 948, 1002, 1085, 1163, 1013, 430, 797, 1689, 951, 733, 529, 903, 299, 644, 960, 545, 847, 1740, 877, 821, 150, 679, 1051, 1123, 1276, 1151, 520, 507, 875, 881, 1089, 1180, 974, 429, 421, 899, 1254, 1565, 1809, 334, 1068, 573, 714, 444, 721, 838, 906, 760, 1164, 1076, 1164, 1379, 1291, 1222, 613, 570, 1060, 1130, 1240, 1313, 1194, 510, 611, 1189, 1334, 1774, 1965, 1926, 1336, 608, 1337, 868, 249, 960, 997, 399, 860, 715, 1749, 1155, 1096, 1032, 394, 386, 776, 799, 972, 1108, 936, 407, 474, 910, 889, 847, 878, 894, 433, 472, 951, 1172, 1049, 1374, 1273, 508, 953, 956, 495, 890, 415, 2115, 1195, 455, 451, 865, 637, 519, 994, 510, 444, 803, 873, 985, 891, 830, 435, 554, 1040, 1085, 1140, 978, 1357, 889, 1253, 1257, 960, 972, 468, 885, 1067, 518, 762, 1084, 659, 684, 791, 319, 388, 696, 691, 810, 1027, 1031, 461, 421, 850, 894, 1014, 1162, 1147, 818, 1712, 861, 578, 499, 1136, 1011, 423, 790, 1098, 768, 842, 475, 1093, 761, 721, 1322, 1265, 1236, 1424, 1379, 615, 579, 1102, 1396, 1752, 1967, 1849, 834, 539, 1235, 1897, 2582, 1048, 623, 546, 684, 812, 833, 926, 453, 656, 1551, 409, 1180, 921, 979, 1151, 1141, 516, 622, 1063, 1067, 1314, 1589, 1396, 522, 479, 911, 1101, 1415, 1641, 2011, 1087, 1126, 1075, 461, 365, 1140, 1198, 229, 593, 1567, 853, 1327, 1378, 1298, 590, 632, 1042, 1081, 1086, 1187, 1576, 939, 867, 1355, 970, 704, 1187, 1709, 1070, 1359, 2611, 0, 0, 0, 0, 0, 0, 0, 0, 0, 0, 0, 0, 587, 965, 434, 279, 914, 1310, 680, 787, 1294, 1016, 1003, 1009, 1175, 715, 826, 1492, 1606, 1996, 2506, 1341, 478, 537, 14, 24, 466, 539, 169, 457, 472, 403, 496, 1466, 1560, 1436, 643, 686, 1318, 1611, 2012, 1808, 927, 193, 840, 1579, 1732, 1879, 1987, 2319, 1579, 585, 931, 6, 22, 524, 507, 147, 514, 428, 690, 706, 1637, 1485, 795, 836, 1470, 1383, 1415, 1505, 1457, 707, 190, 468, 384, 281, 387, 224, 18, 449, 599, 1131, 1108, 1048, 0, 46, 481, 574, 326, 559, 369, 638, 703, 72, 81, 72, 77, 72, 76, 41, 34, 40, 41, 63, 63, 45, 20, 63, 106, 178, 219, 553, 1290, 1343, 0, 71, 534, 297, 456, 509, 415, 750, 656, 311, 383, 404, 284, 123, 220, 439, 458, 453, 478, 510, 276, 151, 412, 605, 667, 664, 703, 500, 863, 1398, 1468, 1, 79, 643, 321, 490, 221, 746, 828, 352, 637, 284, 452, 766, 772, 842, 843, 804, 411, 395, 707, 736, 874, 939, 853, 408, 511, 1050, 1352, 1317, 1374, 1, 136, 328, 618, 458, 343, 760, 770, 414, 253, 506, 654, 673, 588, 526, 233, 205, 466, 661, 729, 687, 595, 265, 390, 695, 800, 988, 1137, 1077, 1197, 824, 0, 235, 361, 596, 412, 605, 777, 395, 583, 555, 665, 409, 39, 324, 510, 375, 438, 684, 501, 90, 333, 580, 537, 592, 783, 844, 428, 742, 1069, 561, 468, 0, 268, 601, 596, 177, 628, 828, 417, 599, 301, 355, 553, 545, 568, 798, 1022, 518, 577, 957, 935, 925, 782, 990, 721, 680, 1280, 1508, 1071, 703, 829, 56, 134, 698, 671, 243, 636, 796, 772, 912, 963, 737, 693, 746, 1021, 802, 801, 1187, 1217, 1382, 1530, 1556, 1115, 561, 628, 1146, 1459, 1508, 1685, 986, 1245, 1270, 125, 143, 791, 635, 440, 617, 351, 843, 899, 1124, 649, 156, 528, 873, 824, 985, 1015, 827, 398, 422, 847, 1013, 1108, 1123, 1053, 561, 906, 456, 1288, 1578, 86, 292, 769, 282, 473, 627, 551, 1046, 720, 340, 290, 587, 832, 978, 1012, 1024, 481, 485, 881, 851, 987, 893, 632, 314, 430, 765, 885, 1190, 0, 0, 0, 0, 0, 0, 0, 0, 0, 0, 0, 0, 648, 364, 303, 557, 338, 450, 783, 833, 816, 814, 941, 508, 546, 548, 521, 1091, 1126, 1382, 1133, 677, 544, 627, 522, 34, 298, 650, 213, 542, 387, 495, 596, 902, 394, 486, 907, 933, 990, 775, 815, 572, 607, 1024, 983, 1115, 1245, 1339, 841, 331, 579, 624, 483, 224, 372, 603, 385, 549, 42, 471, 462, 461, 340, 493, 790, 724, 898, 958, 872, 424, 445, 841, 992, 1144, 1200, 1097, 520, 314, 855, 1667, 303, 731, 725, 259, 386, 633, 323, 397, 572, 265, 282, 347, 554, 451, 654, 791, 774, 371, 366, 654, 577, 723, 900, 713, 273, 327, 676, 772, 942, 1118, 592, 673, 763, 221, 371, 694, 402, 421, 269, 441, 242, 144, 232, 347, 283, 130, 201, 322, 335, 342, 426, 466, 226, 250, 403, 462, 534, 623, 726, 382, 681, 578, 623, 738, 453, 422, 354, 694, 412, 165, 362, 450, 262, 534, 521, 835, 812, 838, 853, 803, 443, 688, 1143, 1027, 1020, 1011, 930, 479, 715, 1363, 1863, 659, 363, 337, 627, 502, 351, 745, 407, 313, 584, 246, 441, 1171, 836, 842, 885, 782, 349, 444, 813, 658, 523, 644, 693, 324, 315, 641, 790, 924, 1043, 1361, 941, 446, 406, 803, 493, 589, 547, 204, 467, 1097, 282, 519, 831, 673, 231, 283, 575, 688, 700, 668, 674, 333, 320, 554, 620, 692, 812, 788, 324, 492, 1020, 921, 718, 795, 775, 215, 587, 407, 356, 705, 1045, 493, 589, 274, 474, 470, 673, 828, 723, 315, 331, 534, 495, 605, 750, 682, 269, 318, 672, 816, 1339, 373, 648, 821, 601, 155, 546, 287, 623, 472, 401, 498, 592, 947, 1280, 1199, 573, 172, 469, 772, 708, 755, 854, 830, 359, 524, 1000, 921, 897, 1039, 1260, 1147, 381, 631, 671, 245, 398, 723, 0, 602, 291, 554, 565, 585, 488, 240, 302, 497, 471, 555, 534, 477, 243, 303, 570, 626, 656, 725, 709, 342, 562, 1037, 703, 810, 398, 381, 317, 909, 756, 715, 223, 957, 547, 291, 361, 584, 548, 600, 601, 567, 290, 339, 557, 573, 662, 721, 541, 159, 282, 573, 796, 962, 1092, 0, 0, 0, 0, 0, 0, 0, 0, 0, 0, 0, 0, 750, 639, 230, 14, 253, 471, 636, 770, 714, 685, 341, 371, 667, 353, 525, 987, 957, 573, 852, 137, 525, 193, 306, 472, 760, 725, 520, 635, 0, 0, 0, 287, 362, 676, 712, 756, 777, 724, 337, 436, 693, 627, 758, 925, 943, 519, 886, 320, 751, 391, 110, 490, 727, 343, 539, 575, 0, 0, 0, 310, 428, 699, 665, 725, 474, 415, 382, 550, 807, 765, 827, 801, 817, 465, 643, 1032, 1075, 1693, 489, 731, 664, 335, 356, 788, 360, 578, 296, 0, 0, 0, 725, 861, 747, 567, 303, 475, 743, 727, 846, 844, 722, 328, 381, 711, 789, 858, 1114, 1556, 440, 658, 646, 656, 503, 409, 649, 548, 268, 0, 0, 0, 894, 887, 377, 422, 812, 838, 792, 799, 876, 439, 422, 824, 909, 1060, 1099, 1122, 617, 591, 1505, 472, 391, 322, 762, 574, 437, 668, 526, 487, 0, 0, 0, 479, 918, 928, 1025, 1121, 1071, 527, 535, 935, 952, 1139, 1273, 1212, 560, 532, 998, 1108, 1830, 500, 421, 332, 713, 607, 730, 739, 277, 538, 0, 0, 0, 695, 769, 859, 878, 439, 441, 789, 744, 667, 647, 681, 372, 379, 637, 627, 686, 1084, 1486, 1087, 496, 594, 645, 746, 341, 729, 825, 333, 697, 0, 0, 0, 602, 280, 22, 230, 555, 686, 694, 721, 390, 355, 643, 703, 739, 736, 694, 319, 561, 1245, 1124, 204, 497, 723, 738, 351, 967, 747, 502, 648, 0, 0, 0, 554, 696, 724, 737, 730, 325, 309, 581, 701, 791, 779, 733, 341, 503, 1121, 1522, 1703, 2241, 199, 660, 708, 286, 572, 1109, 314, 551, 509, 0, 0, 0, 0, 0, 0, 0, 0, 0, 0, 0, 0, 0, 0, 0, 0, 0, 0, 0, 0, 0, 0, 410, 806, 699, 418, 636, 980, 405, 729, 255, 0, 0, 0, 0, 0, 0, 0, 0, 0, 0, 0, 0, 0, 0, 0, 0, 0, 0, 0, 0, 0, 549, 703, 684, 711, 744, 447, 709, 680, 264]\n"
          ]
        }
      ]
    },
    {
      "cell_type": "code",
      "source": [
        "newCol = [0]*len(array)\n",
        "for i in range(len(array)):\n",
        "  newCol[i]=(min_date_time + pd.Timedelta(days=i),array[i])\n",
        "  "
      ],
      "metadata": {
        "id": "xlAXLxLhB7sx"
      },
      "execution_count": null,
      "outputs": []
    },
    {
      "cell_type": "code",
      "source": [
        "data = pd.DataFrame(newCol)\n",
        "data.to_csv('transport.csv', encoding='utf-8')"
      ],
      "metadata": {
        "id": "zlefjK1RPmzT"
      },
      "execution_count": null,
      "outputs": []
    },
    {
      "cell_type": "code",
      "source": [
        "df_1.todate.apply(lambda dt: dt.date()).groupby([df_1.fuel]).nunique()\n"
      ],
      "metadata": {
        "colab": {
          "base_uri": "https://localhost:8080/"
        },
        "id": "7ikCnc6smQuF",
        "outputId": "2931012b-20cb-4f34-e2f4-7ff08472e46d"
      },
      "execution_count": null,
      "outputs": [
        {
          "output_type": "execute_result",
          "data": {
            "text/plain": [
              "fuel\n",
              "-1                  912\n",
              "BATTERY            1246\n",
              "CNG                 884\n",
              "CNG PETROL         1258\n",
              "DIESEL             1319\n",
              "DIESEL ELECTRIC     117\n",
              "DIESEL LPG           75\n",
              "LPG                 444\n",
              "LPG PETROL            3\n",
              "PETROL             1315\n",
              "PETROL CNG           51\n",
              "PETROL ELECTRIC     386\n",
              "PETROL LPG         1067\n",
              "Name: todate, dtype: int64"
            ]
          },
          "metadata": {},
          "execution_count": 34
        }
      ]
    },
    {
      "cell_type": "code",
      "source": [
        "df.head"
      ],
      "metadata": {
        "id": "dNWFLMhvmebc",
        "colab": {
          "base_uri": "https://localhost:8080/"
        },
        "outputId": "075e2c01-a2f6-4d65-951b-91202a5ece58"
      },
      "execution_count": null,
      "outputs": [
        {
          "output_type": "execute_result",
          "data": {
            "text/plain": [
              "<bound method NDFrame.head of                District            Mandal       Date  Rainfall (mm)  \\\n",
              "0              Adilabad  Adilabad (Urban)   4/1/2019            0.0   \n",
              "1              Adilabad  Adilabad (Urban)   4/2/2019            0.0   \n",
              "2              Adilabad  Adilabad (Urban)   4/3/2019            0.0   \n",
              "3              Adilabad  Adilabad (Urban)   4/4/2019            0.0   \n",
              "4              Adilabad  Adilabad (Urban)   4/5/2019            0.0   \n",
              "...                 ...               ...        ...            ...   \n",
              "765541  Yadadri-Bhongir     Yadagirigutta  3/27/2019            0.0   \n",
              "765542  Yadadri-Bhongir     Yadagirigutta  3/28/2019            0.0   \n",
              "765543  Yadadri-Bhongir     Yadagirigutta  3/29/2019            0.0   \n",
              "765544  Yadadri-Bhongir     Yadagirigutta  3/30/2019            0.0   \n",
              "765545  Yadadri-Bhongir     Yadagirigutta  3/31/2019            0.0   \n",
              "\n",
              "        temp_min (â°C)  temp_max (â°C) humidity_min (%)  Humidity_max (%)  \\\n",
              "0                  25.3             42.5             12.2              42.8   \n",
              "1                  23.9             42.2             14.7              19.5   \n",
              "2                  27.0             41.5             16.0              50.5   \n",
              "3                  28.0             41.4             15.8              59.2   \n",
              "4                  25.9             40.6             20.4              49.5   \n",
              "...                 ...              ...              ...               ...   \n",
              "765541             22.3             37.8             31.9              71.1   \n",
              "765542             22.9             40.1             22.0              65.5   \n",
              "765543             22.9             39.6             24.2              60.8   \n",
              "765544             22.6             41.3             21.3              74.2   \n",
              "765545             24.4             40.0             24.2              75.3   \n",
              "\n",
              "        wind_speed_min (Kmph)  wind_speed_max (Kmph)  \n",
              "0                         0.0                    2.8  \n",
              "1                         0.3                    2.6  \n",
              "2                         0.2                    1.8  \n",
              "3                         0.3                    3.0  \n",
              "4                         0.0                    2.9  \n",
              "...                       ...                    ...  \n",
              "765541                    0.0                    5.5  \n",
              "765542                    0.0                    7.9  \n",
              "765543                    0.0                    3.9  \n",
              "765544                    0.0                    5.4  \n",
              "765545                    0.0                    7.5  \n",
              "\n",
              "[765546 rows x 10 columns]>"
            ]
          },
          "metadata": {},
          "execution_count": 6
        }
      ]
    },
    {
      "cell_type": "code",
      "source": [
        "type(newdf)"
      ],
      "metadata": {
        "colab": {
          "base_uri": "https://localhost:8080/"
        },
        "id": "DRhwAe4dZSuT",
        "outputId": "10bc4df7-cbb0-409c-9b38-aea0394c2371"
      },
      "execution_count": null,
      "outputs": [
        {
          "output_type": "execute_result",
          "data": {
            "text/plain": [
              "pandas.core.frame.DataFrame"
            ]
          },
          "metadata": {},
          "execution_count": 12
        }
      ]
    },
    {
      "cell_type": "code",
      "source": [
        "df['Date'] = pd.to_datetime(df['Date'])"
      ],
      "metadata": {
        "id": "ezab2c6La6Jf"
      },
      "execution_count": null,
      "outputs": []
    },
    {
      "cell_type": "code",
      "source": [
        "df.head"
      ],
      "metadata": {
        "colab": {
          "base_uri": "https://localhost:8080/"
        },
        "id": "W-sikrT3bBIh",
        "outputId": "f610c495-b89f-4629-a6cd-ddd7410d5c44"
      },
      "execution_count": null,
      "outputs": [
        {
          "output_type": "execute_result",
          "data": {
            "text/plain": [
              "<bound method NDFrame.head of                District            Mandal       Date  Rainfall (mm)  \\\n",
              "0              Adilabad  Adilabad (Urban) 2019-04-01            0.0   \n",
              "1              Adilabad  Adilabad (Urban) 2019-04-02            0.0   \n",
              "2              Adilabad  Adilabad (Urban) 2019-04-03            0.0   \n",
              "3              Adilabad  Adilabad (Urban) 2019-04-04            0.0   \n",
              "4              Adilabad  Adilabad (Urban) 2019-04-05            0.0   \n",
              "...                 ...               ...        ...            ...   \n",
              "765541  Yadadri-Bhongir     Yadagirigutta 2019-03-27            0.0   \n",
              "765542  Yadadri-Bhongir     Yadagirigutta 2019-03-28            0.0   \n",
              "765543  Yadadri-Bhongir     Yadagirigutta 2019-03-29            0.0   \n",
              "765544  Yadadri-Bhongir     Yadagirigutta 2019-03-30            0.0   \n",
              "765545  Yadadri-Bhongir     Yadagirigutta 2019-03-31            0.0   \n",
              "\n",
              "        temp_min (â°C)  temp_max (â°C) humidity_min (%)  Humidity_max (%)  \\\n",
              "0                  25.3             42.5             12.2              42.8   \n",
              "1                  23.9             42.2             14.7              19.5   \n",
              "2                  27.0             41.5             16.0              50.5   \n",
              "3                  28.0             41.4             15.8              59.2   \n",
              "4                  25.9             40.6             20.4              49.5   \n",
              "...                 ...              ...              ...               ...   \n",
              "765541             22.3             37.8             31.9              71.1   \n",
              "765542             22.9             40.1             22.0              65.5   \n",
              "765543             22.9             39.6             24.2              60.8   \n",
              "765544             22.6             41.3             21.3              74.2   \n",
              "765545             24.4             40.0             24.2              75.3   \n",
              "\n",
              "        wind_speed_min (Kmph)  wind_speed_max (Kmph)  \n",
              "0                         0.0                    2.8  \n",
              "1                         0.3                    2.6  \n",
              "2                         0.2                    1.8  \n",
              "3                         0.3                    3.0  \n",
              "4                         0.0                    2.9  \n",
              "...                       ...                    ...  \n",
              "765541                    0.0                    5.5  \n",
              "765542                    0.0                    7.9  \n",
              "765543                    0.0                    3.9  \n",
              "765544                    0.0                    5.4  \n",
              "765545                    0.0                    7.5  \n",
              "\n",
              "[765546 rows x 10 columns]>"
            ]
          },
          "metadata": {},
          "execution_count": 87
        }
      ]
    },
    {
      "cell_type": "code",
      "source": [
        "newdf=df.groupby(['Date'])"
      ],
      "metadata": {
        "id": "EgK-J8PUYzox"
      },
      "execution_count": null,
      "outputs": []
    },
    {
      "cell_type": "code",
      "source": [
        "def zscore(series):\n",
        "    return (series - series.mean()) / series.std()\n",
        "\n",
        "z_scores = newdf['temp_max (â°C)'].apply(zscore)\n",
        "\n",
        "# Identify and remove outliers\n",
        "threshold = 3\n",
        "outliers = np.abs(z_scores) > threshold\n",
        "newdf_filtered = df[~outliers]"
      ],
      "metadata": {
        "id": "bc8jdtsd2izR"
      },
      "execution_count": null,
      "outputs": []
    },
    {
      "cell_type": "code",
      "source": [
        "newdf_filtered.head"
      ],
      "metadata": {
        "colab": {
          "base_uri": "https://localhost:8080/"
        },
        "id": "b2YTrHXM1bby",
        "outputId": "8ec5d612-34a6-4956-871f-4a7c9a1bd557"
      },
      "execution_count": null,
      "outputs": [
        {
          "output_type": "execute_result",
          "data": {
            "text/plain": [
              "<bound method NDFrame.head of                District            Mandal       Date  Rainfall (mm)  \\\n",
              "0              Adilabad  Adilabad (Urban) 2019-04-01            0.0   \n",
              "1              Adilabad  Adilabad (Urban) 2019-04-02            0.0   \n",
              "2              Adilabad  Adilabad (Urban) 2019-04-03            0.0   \n",
              "3              Adilabad  Adilabad (Urban) 2019-04-04            0.0   \n",
              "4              Adilabad  Adilabad (Urban) 2019-04-05            0.0   \n",
              "...                 ...               ...        ...            ...   \n",
              "765541  Yadadri-Bhongir     Yadagirigutta 2019-03-27            0.0   \n",
              "765542  Yadadri-Bhongir     Yadagirigutta 2019-03-28            0.0   \n",
              "765543  Yadadri-Bhongir     Yadagirigutta 2019-03-29            0.0   \n",
              "765544  Yadadri-Bhongir     Yadagirigutta 2019-03-30            0.0   \n",
              "765545  Yadadri-Bhongir     Yadagirigutta 2019-03-31            0.0   \n",
              "\n",
              "        temp_min (â°C)  temp_max (â°C) humidity_min (%)  Humidity_max (%)  \\\n",
              "0                  25.3             42.5             12.2              42.8   \n",
              "1                  23.9             42.2             14.7              19.5   \n",
              "2                  27.0             41.5             16.0              50.5   \n",
              "3                  28.0             41.4             15.8              59.2   \n",
              "4                  25.9             40.6             20.4              49.5   \n",
              "...                 ...              ...              ...               ...   \n",
              "765541             22.3             37.8             31.9              71.1   \n",
              "765542             22.9             40.1             22.0              65.5   \n",
              "765543             22.9             39.6             24.2              60.8   \n",
              "765544             22.6             41.3             21.3              74.2   \n",
              "765545             24.4             40.0             24.2              75.3   \n",
              "\n",
              "        wind_speed_min (Kmph)  wind_speed_max (Kmph)  \n",
              "0                         0.0                    2.8  \n",
              "1                         0.3                    2.6  \n",
              "2                         0.2                    1.8  \n",
              "3                         0.3                    3.0  \n",
              "4                         0.0                    2.9  \n",
              "...                       ...                    ...  \n",
              "765541                    0.0                    5.5  \n",
              "765542                    0.0                    7.9  \n",
              "765543                    0.0                    3.9  \n",
              "765544                    0.0                    5.4  \n",
              "765545                    0.0                    7.5  \n",
              "\n",
              "[764360 rows x 10 columns]>"
            ]
          },
          "metadata": {},
          "execution_count": 95
        }
      ]
    },
    {
      "cell_type": "code",
      "source": [
        "new_tempdf=newdf_filtered.groupby('Date')"
      ],
      "metadata": {
        "id": "Bm9Xfphc3Xl3"
      },
      "execution_count": null,
      "outputs": []
    },
    {
      "cell_type": "code",
      "source": [
        "new_tempdf.head"
      ],
      "metadata": {
        "colab": {
          "base_uri": "https://localhost:8080/"
        },
        "id": "3itLFkNz3myW",
        "outputId": "226d893e-3d6f-4100-898f-d2398881b1c7"
      },
      "execution_count": null,
      "outputs": [
        {
          "output_type": "execute_result",
          "data": {
            "text/plain": [
              "<bound method NDFrame.head of             Rainfall (mm)  temp_min (â°C)  temp_max (â°C)  Humidity_max (%)  \\\n",
              "Date                                                                            \n",
              "2019-01-01       0.000000        10.314316        28.508882         78.677011   \n",
              "2019-01-02       0.000000        10.882968        30.260920         80.290596   \n",
              "2019-01-03       0.000000        12.679184        31.583159         85.853347   \n",
              "2019-01-04       0.000000        13.410972        31.858725         86.522466   \n",
              "2019-01-05       0.000000        14.463636        31.060606         90.152351   \n",
              "...                   ...              ...              ...               ...   \n",
              "2022-09-26       0.964237        23.094237        33.564068         97.874407   \n",
              "2022-09-27      14.562563        22.846712        33.357336         98.544519   \n",
              "2022-09-28       2.580068        23.627196        32.670777         98.685811   \n",
              "2022-09-29      11.943074        23.179899        32.848818         98.907939   \n",
              "2022-09-30      10.525593        22.977288        31.495593         98.895085   \n",
              "\n",
              "            wind_speed_min (Kmph)  wind_speed_max (Kmph)  \n",
              "Date                                                      \n",
              "2019-01-01               0.034545               5.872513  \n",
              "2019-01-02               0.035332               6.519486  \n",
              "2019-01-03               0.016506               5.312219  \n",
              "2019-01-04               0.010330               5.189244  \n",
              "2019-01-05               0.041836               6.754856  \n",
              "...                           ...                    ...  \n",
              "2022-09-26               0.004895               6.658042  \n",
              "2022-09-27               0.007639               7.743750  \n",
              "2022-09-28               0.001401               7.041331  \n",
              "2022-09-29               0.003671               7.508042  \n",
              "2022-09-30               0.015478               7.504522  \n",
              "\n",
              "[1185 rows x 6 columns]>"
            ]
          },
          "metadata": {},
          "execution_count": 98
        }
      ]
    },
    {
      "cell_type": "code",
      "source": [
        "new_tempdf.to_csv('datewisetemp.csv', encoding='utf-8')"
      ],
      "metadata": {
        "id": "9DC5y373ZYh-"
      },
      "execution_count": null,
      "outputs": []
    },
    {
      "cell_type": "code",
      "source": [
        "type(df['Date'][1184])"
      ],
      "metadata": {
        "colab": {
          "base_uri": "https://localhost:8080/"
        },
        "id": "vmCf4wLYaUsT",
        "outputId": "cfc16b02-77aa-4c46-cb22-9479ab2decef"
      },
      "execution_count": null,
      "outputs": [
        {
          "output_type": "execute_result",
          "data": {
            "text/plain": [
              "str"
            ]
          },
          "metadata": {},
          "execution_count": 19
        }
      ]
    },
    {
      "cell_type": "code",
      "source": [
        "path3 = '/content/units'\n",
        "all_files2 = glob.glob(path3 + \"/*.csv\")"
      ],
      "metadata": {
        "id": "1rR1EM3XZltv"
      },
      "execution_count": null,
      "outputs": []
    },
    {
      "cell_type": "code",
      "source": [
        "all_dfs2 = []\n",
        "for one_filenames1 in all_files2:\n",
        "    print(f'Loading {one_filenames1}')\n",
        "    new_df1 = pd.read_csv(one_filenames1,encoding = 'unicode_escape',index_col=None, header =0)\n",
        "    all_dfs2.append(new_df1)"
      ],
      "metadata": {
        "colab": {
          "base_uri": "https://localhost:8080/"
        },
        "id": "BxO-cg_cTr0l",
        "outputId": "bf3cae12-8ef3-42e2-96f8-d545026b5b48"
      },
      "execution_count": null,
      "outputs": [
        {
          "output_type": "stream",
          "name": "stdout",
          "text": [
            "Loading /content/units/TS-NPDCL_consumption_detail_industrial_APR-2019.csv\n",
            "Loading /content/units/TS-NPDCL_consumption_detail_industrial_DEC-2020.csv\n",
            "Loading /content/units/TS-NPDCL_consumption_detail_industrial_APR-2022.csv\n",
            "Loading /content/units/TS-NPDCL_consumption_detail_industrial_OCT-2019.csv\n",
            "Loading /content/units/TS-NPDCL_consumption_detail_industrial_JUN-2020.csv\n",
            "Loading /content/units/TS-NPDCL_consumption_detail_industrial_JUN-2021.csv\n",
            "Loading /content/units/TS-NPDCL_consumption_detail_industrial_MAR-2021.csv\n",
            "Loading /content/units/TS-NPDCL_consumption_detail_industrial_MAY-2020.csv\n",
            "Loading /content/units/TS-NPDCL_consumption_detail_industrial_MAR-2019.csv\n",
            "Loading /content/units/TS-NPDCL_consumption_detail_industrial_NOV-2021.csv\n",
            "Loading /content/units/TS-NPDCL_consumption_detail_industrial_JUL-2020.csv\n",
            "Loading /content/units/TS-NPDCL_consumption_detail_industrial_MAR-2020.csv\n",
            "Loading /content/units/TS-NPDCL_consumption_detail_industrial_DEC-2019.csv\n",
            "Loading /content/units/TS-NPDCL_consumption_detail_industrial_APR-2021.csv\n",
            "Loading /content/units/TS-NPDCL_consumption_detail_industrial_JAN-2022.csv\n",
            "Loading /content/units/TS-NPDCL_consumption_detail_industrial_MAY-2022.csv\n",
            "Loading /content/units/TS-NPDCL_consumption_detail_industrial_NOVEMBER-2022.csv\n",
            "Loading /content/units/TS-NPDCL_consumption_detail_industrial_JULY-2022.csv\n",
            "Loading /content/units/TS-NPDCL_consumption_detail_industrial_MAR-2022.csv\n",
            "Loading /content/units/TS-NPDCL_consumption_detail_industrial_OCT-2021.csv\n",
            "Loading /content/units/TS-NPDCL_consumption_detail_industrial_JUNE-2022.csv\n",
            "Loading /content/units/TS-NPDCL_consumption_detail_industrial_OCT-2020.csv\n",
            "Loading /content/units/TS-NPDCL_consumption_detail_industrial_MAY-2019.csv\n",
            "Loading /content/units/TS-NPDCL_consumption_detail_industrial_FEB-2019.csv\n",
            "Loading /content/units/TS-NPDCL_consumption_detail_industrial_FEB-2020.csv\n",
            "Loading /content/units/TS-NPDCL_consumption_detail_industrial_AUG-2019.csv\n",
            "Loading /content/units/TS-NPDCL_consumption_detail_industrial_SEPTEMBER-2022.csv\n",
            "Loading /content/units/TS-NPDCL_consumption_detail_industrial_OCTOBER-2022.csv\n",
            "Loading /content/units/TS-NPDCL_consumption_detail_industrial_JUL-2021.csv\n",
            "Loading /content/units/TS-NPDCL_consumption_detail_industrial_JAN-2021.csv\n",
            "Loading /content/units/TS-NPDCL_consumption_detail_industrial_NOV-2020.csv\n",
            "Loading /content/units/TS-NPDCL_consumption_detail_industrial_SEP-2019.csv\n",
            "Loading /content/units/TS-NPDCL_consumption_detail_industrial_DECEMBER-2022.csv\n",
            "Loading /content/units/TS-NPDCL_consumption_detail_industrial_AUG-2021.csv\n",
            "Loading /content/units/TS-NPDCL_consumption_detail_industrial_SEP-2021.csv\n",
            "Loading /content/units/TS-NPDCL_consumption_detail_industrial_NOV-2019.csv\n",
            "Loading /content/units/TS-NPDCL_consumption_detail_industrial_DEC-2021.csv\n",
            "Loading /content/units/TS-NPDCL_consumption_detail_industrial_FEB-2021.csv\n",
            "Loading /content/units/TS-NPDCL_consumption_detail_industrial_FEB-2022.csv\n",
            "Loading /content/units/TS-NPDCL_consumption_detail_industrial_JUN-2019.csv\n",
            "Loading /content/units/jan2019.csv\n",
            "Loading /content/units/TS-NPDCL_consumption_detail_industrial_APR-2020.csv\n",
            "Loading /content/units/TS-NPDCL_consumption_detail_industrial_AUGUST-2022.csv\n",
            "Loading /content/units/TS-NPDCL_consumption_detail_industrial_AUG-2020.csv\n",
            "Loading /content/units/TS-NPDCL_consumption_detail_industrial_JUL-2019.csv\n",
            "Loading /content/units/TS-NPDCL_consumption_detail_industrial_MAY-2021.csv\n",
            "Loading /content/units/TS-NPDCL_consumption_detail_industrial_JAN-2020.csv\n",
            "Loading /content/units/TS-NPDCL_consumption_detail_industrial_SEP-2020.csv\n"
          ]
        }
      ]
    },
    {
      "cell_type": "code",
      "source": [
        "len(all_dfs2)"
      ],
      "metadata": {
        "colab": {
          "base_uri": "https://localhost:8080/"
        },
        "id": "oV1wEklwTyEQ",
        "outputId": "87396fb2-502f-4223-beb9-cf4bb48b22df"
      },
      "execution_count": null,
      "outputs": [
        {
          "output_type": "execute_result",
          "data": {
            "text/plain": [
              "48"
            ]
          },
          "metadata": {},
          "execution_count": 37
        }
      ]
    },
    {
      "cell_type": "code",
      "source": [
        "df_2 = pd.concat(all_dfs2)"
      ],
      "metadata": {
        "id": "nz-cXzKRT4c7"
      },
      "execution_count": null,
      "outputs": []
    },
    {
      "cell_type": "code",
      "source": [
        "df_2.head"
      ],
      "metadata": {
        "colab": {
          "base_uri": "https://localhost:8080/"
        },
        "id": "BjSA9E-RT7LO",
        "outputId": "d96231d2-d818-4684-da42-f6b2f533fe85"
      },
      "execution_count": null,
      "outputs": [
        {
          "output_type": "execute_result",
          "data": {
            "text/plain": [
              "<bound method NDFrame.head of                     Circle      Division     SubDivision        Section  \\\n",
              "0                   NIRMAL        NIRMAL    NIRMAL RURAL     SARANGAPUR   \n",
              "1                KAMAREDDY    YELLAREDDY      YELLAREDDY     YELLAREDDY   \n",
              "2                KAMAREDDY    YELLAREDDY      YELLAREDDY     YELLAREDDY   \n",
              "3                KAMAREDDY    YELLAREDDY      YELLAREDDY   NAGIREDDIPET   \n",
              "4                KAMAREDDY    YELLAREDDY      YELLAREDDY   NAGIREDDIPET   \n",
              "...                    ...           ...             ...            ...   \n",
              "4209             KAMAREDDY      BANSWADA          PITLAM         PITLAM   \n",
              "4210  BHADRADRI KOTHAGUDEM  BHADRACHALAM    BHADRACHALAM     BURGUMPADU   \n",
              "4211  BHADRADRI KOTHAGUDEM  BHADRACHALAM          CHERLA     DUMMUGUDEM   \n",
              "4212              ASIFABAD      ASIFABAD  ASIFABAD RURAL       THIRYANI   \n",
              "4213  BHADRADRI KOTHAGUDEM    KOTHAGUDEM     ASWARAOPETA  VINAYAKAPURAM   \n",
              "\n",
              "                 Area  CatCode     CatDesc  TotServices  BilledServices  \\\n",
              "0              SWARNA        3  INDUSTRIAL            2               1   \n",
              "1       LINGAREDDIPET        3  INDUSTRIAL            9               6   \n",
              "2             MATHMAL        3  INDUSTRIAL            3               3   \n",
              "3        RAMAKKAPALLI        3  INDUSTRIAL            3               2   \n",
              "4         WADALPARTHI        3  INDUSTRIAL            2               1   \n",
              "...               ...      ...         ...          ...             ...   \n",
              "4209  POTHIREDDYPALLY        3  INDUSTRIAL            2               1   \n",
              "4210     LAKSHMIPURAM        3  INDUSTRIAL           49              39   \n",
              "4211         GOWRARAM        3  INDUSTRIAL            1               1   \n",
              "4212         THIRYANI        3  INDUSTRIAL            6               3   \n",
              "4213    VINAYAKAPURAM        3  INDUSTRIAL            7               7   \n",
              "\n",
              "        Units      Load  \n",
              "0       753.0    20.000  \n",
              "1      1549.0    63.000  \n",
              "2        65.0    60.000  \n",
              "3       342.0    42.000  \n",
              "4       145.0    15.000  \n",
              "...       ...       ...  \n",
              "4209    538.0   110.000  \n",
              "4210  88852.0  2827.740  \n",
              "4211    745.0    22.000  \n",
              "4212    549.0   103.000  \n",
              "4213   2052.0    93.005  \n",
              "\n",
              "[204492 rows x 11 columns]>"
            ]
          },
          "metadata": {},
          "execution_count": 39
        }
      ]
    },
    {
      "cell_type": "code",
      "source": [
        "newdf1=df_2.groupby(['Division']).sum()"
      ],
      "metadata": {
        "colab": {
          "base_uri": "https://localhost:8080/",
          "height": 165
        },
        "id": "fSGkDD-NUGSw",
        "outputId": "969b9071-7df0-4a93-c172-e9dae9b7ddf9"
      },
      "execution_count": null,
      "outputs": [
        {
          "output_type": "error",
          "ename": "TypeError",
          "evalue": "ignored",
          "traceback": [
            "\u001b[0;31m---------------------------------------------------------------------------\u001b[0m",
            "\u001b[0;31mTypeError\u001b[0m                                 Traceback (most recent call last)",
            "\u001b[0;32m<ipython-input-44-860fb3050de3>\u001b[0m in \u001b[0;36m<module>\u001b[0;34m\u001b[0m\n\u001b[0;32m----> 1\u001b[0;31m \u001b[0mnewdf1\u001b[0m\u001b[0;34m=\u001b[0m\u001b[0mdf_2\u001b[0m\u001b[0;34m.\u001b[0m\u001b[0mgroupby\u001b[0m\u001b[0;34m(\u001b[0m\u001b[0;34m[\u001b[0m\u001b[0;34m'Division'\u001b[0m\u001b[0;34m]\u001b[0m\u001b[0;34m)\u001b[0m\u001b[0;34m.\u001b[0m\u001b[0msum\u001b[0m\u001b[0;34m(\u001b[0m\u001b[0maxis\u001b[0m\u001b[0;34m=\u001b[0m\u001b[0;34m'Units'\u001b[0m\u001b[0;34m)\u001b[0m\u001b[0;34m\u001b[0m\u001b[0;34m\u001b[0m\u001b[0m\n\u001b[0m",
            "\u001b[0;31mTypeError\u001b[0m: sum() got an unexpected keyword argument 'axis'"
          ]
        }
      ]
    },
    {
      "cell_type": "code",
      "source": [
        "newdf1.head()"
      ],
      "metadata": {
        "colab": {
          "base_uri": "https://localhost:8080/",
          "height": 237
        },
        "id": "DfA8EVPVVZPI",
        "outputId": "a07e224f-38ac-4dfa-f07b-514a93147624"
      },
      "execution_count": null,
      "outputs": [
        {
          "output_type": "execute_result",
          "data": {
            "text/plain": [
              "             CatCode  TotServices  BilledServices        Units         Load\n",
              "Division                                                                   \n",
              "ADILABAD       23205        48822           28461  21093319.00  1243951.756\n",
              "ARMOOR         20283        64952           41587  23978448.79  1164919.714\n",
              "ASIFABAD        7971        10487            6909   4052225.00   226670.976\n",
              "BANSWADA       24153        40477           19549  17350372.00   996128.209\n",
              "BELLAMPALLY     8112        14565            9862   8024846.00   315964.622"
            ],
            "text/html": [
              "\n",
              "  <div id=\"df-8b5d71fe-1843-4d96-ab0a-e5e669ec5a1e\">\n",
              "    <div class=\"colab-df-container\">\n",
              "      <div>\n",
              "<style scoped>\n",
              "    .dataframe tbody tr th:only-of-type {\n",
              "        vertical-align: middle;\n",
              "    }\n",
              "\n",
              "    .dataframe tbody tr th {\n",
              "        vertical-align: top;\n",
              "    }\n",
              "\n",
              "    .dataframe thead th {\n",
              "        text-align: right;\n",
              "    }\n",
              "</style>\n",
              "<table border=\"1\" class=\"dataframe\">\n",
              "  <thead>\n",
              "    <tr style=\"text-align: right;\">\n",
              "      <th></th>\n",
              "      <th>CatCode</th>\n",
              "      <th>TotServices</th>\n",
              "      <th>BilledServices</th>\n",
              "      <th>Units</th>\n",
              "      <th>Load</th>\n",
              "    </tr>\n",
              "    <tr>\n",
              "      <th>Division</th>\n",
              "      <th></th>\n",
              "      <th></th>\n",
              "      <th></th>\n",
              "      <th></th>\n",
              "      <th></th>\n",
              "    </tr>\n",
              "  </thead>\n",
              "  <tbody>\n",
              "    <tr>\n",
              "      <th>ADILABAD</th>\n",
              "      <td>23205</td>\n",
              "      <td>48822</td>\n",
              "      <td>28461</td>\n",
              "      <td>21093319.00</td>\n",
              "      <td>1243951.756</td>\n",
              "    </tr>\n",
              "    <tr>\n",
              "      <th>ARMOOR</th>\n",
              "      <td>20283</td>\n",
              "      <td>64952</td>\n",
              "      <td>41587</td>\n",
              "      <td>23978448.79</td>\n",
              "      <td>1164919.714</td>\n",
              "    </tr>\n",
              "    <tr>\n",
              "      <th>ASIFABAD</th>\n",
              "      <td>7971</td>\n",
              "      <td>10487</td>\n",
              "      <td>6909</td>\n",
              "      <td>4052225.00</td>\n",
              "      <td>226670.976</td>\n",
              "    </tr>\n",
              "    <tr>\n",
              "      <th>BANSWADA</th>\n",
              "      <td>24153</td>\n",
              "      <td>40477</td>\n",
              "      <td>19549</td>\n",
              "      <td>17350372.00</td>\n",
              "      <td>996128.209</td>\n",
              "    </tr>\n",
              "    <tr>\n",
              "      <th>BELLAMPALLY</th>\n",
              "      <td>8112</td>\n",
              "      <td>14565</td>\n",
              "      <td>9862</td>\n",
              "      <td>8024846.00</td>\n",
              "      <td>315964.622</td>\n",
              "    </tr>\n",
              "  </tbody>\n",
              "</table>\n",
              "</div>\n",
              "      <button class=\"colab-df-convert\" onclick=\"convertToInteractive('df-8b5d71fe-1843-4d96-ab0a-e5e669ec5a1e')\"\n",
              "              title=\"Convert this dataframe to an interactive table.\"\n",
              "              style=\"display:none;\">\n",
              "        \n",
              "  <svg xmlns=\"http://www.w3.org/2000/svg\" height=\"24px\"viewBox=\"0 0 24 24\"\n",
              "       width=\"24px\">\n",
              "    <path d=\"M0 0h24v24H0V0z\" fill=\"none\"/>\n",
              "    <path d=\"M18.56 5.44l.94 2.06.94-2.06 2.06-.94-2.06-.94-.94-2.06-.94 2.06-2.06.94zm-11 1L8.5 8.5l.94-2.06 2.06-.94-2.06-.94L8.5 2.5l-.94 2.06-2.06.94zm10 10l.94 2.06.94-2.06 2.06-.94-2.06-.94-.94-2.06-.94 2.06-2.06.94z\"/><path d=\"M17.41 7.96l-1.37-1.37c-.4-.4-.92-.59-1.43-.59-.52 0-1.04.2-1.43.59L10.3 9.45l-7.72 7.72c-.78.78-.78 2.05 0 2.83L4 21.41c.39.39.9.59 1.41.59.51 0 1.02-.2 1.41-.59l7.78-7.78 2.81-2.81c.8-.78.8-2.07 0-2.86zM5.41 20L4 18.59l7.72-7.72 1.47 1.35L5.41 20z\"/>\n",
              "  </svg>\n",
              "      </button>\n",
              "      \n",
              "  <style>\n",
              "    .colab-df-container {\n",
              "      display:flex;\n",
              "      flex-wrap:wrap;\n",
              "      gap: 12px;\n",
              "    }\n",
              "\n",
              "    .colab-df-convert {\n",
              "      background-color: #E8F0FE;\n",
              "      border: none;\n",
              "      border-radius: 50%;\n",
              "      cursor: pointer;\n",
              "      display: none;\n",
              "      fill: #1967D2;\n",
              "      height: 32px;\n",
              "      padding: 0 0 0 0;\n",
              "      width: 32px;\n",
              "    }\n",
              "\n",
              "    .colab-df-convert:hover {\n",
              "      background-color: #E2EBFA;\n",
              "      box-shadow: 0px 1px 2px rgba(60, 64, 67, 0.3), 0px 1px 3px 1px rgba(60, 64, 67, 0.15);\n",
              "      fill: #174EA6;\n",
              "    }\n",
              "\n",
              "    [theme=dark] .colab-df-convert {\n",
              "      background-color: #3B4455;\n",
              "      fill: #D2E3FC;\n",
              "    }\n",
              "\n",
              "    [theme=dark] .colab-df-convert:hover {\n",
              "      background-color: #434B5C;\n",
              "      box-shadow: 0px 1px 3px 1px rgba(0, 0, 0, 0.15);\n",
              "      filter: drop-shadow(0px 1px 2px rgba(0, 0, 0, 0.3));\n",
              "      fill: #FFFFFF;\n",
              "    }\n",
              "  </style>\n",
              "\n",
              "      <script>\n",
              "        const buttonEl =\n",
              "          document.querySelector('#df-8b5d71fe-1843-4d96-ab0a-e5e669ec5a1e button.colab-df-convert');\n",
              "        buttonEl.style.display =\n",
              "          google.colab.kernel.accessAllowed ? 'block' : 'none';\n",
              "\n",
              "        async function convertToInteractive(key) {\n",
              "          const element = document.querySelector('#df-8b5d71fe-1843-4d96-ab0a-e5e669ec5a1e');\n",
              "          const dataTable =\n",
              "            await google.colab.kernel.invokeFunction('convertToInteractive',\n",
              "                                                     [key], {});\n",
              "          if (!dataTable) return;\n",
              "\n",
              "          const docLinkHtml = 'Like what you see? Visit the ' +\n",
              "            '<a target=\"_blank\" href=https://colab.research.google.com/notebooks/data_table.ipynb>data table notebook</a>'\n",
              "            + ' to learn more about interactive tables.';\n",
              "          element.innerHTML = '';\n",
              "          dataTable['output_type'] = 'display_data';\n",
              "          await google.colab.output.renderOutput(dataTable, element);\n",
              "          const docLink = document.createElement('div');\n",
              "          docLink.innerHTML = docLinkHtml;\n",
              "          element.appendChild(docLink);\n",
              "        }\n",
              "      </script>\n",
              "    </div>\n",
              "  </div>\n",
              "  "
            ]
          },
          "metadata": {},
          "execution_count": 48
        }
      ]
    },
    {
      "cell_type": "code",
      "source": [
        "unitsdf=newdf1.iloc[:,3]"
      ],
      "metadata": {
        "id": "mbwFpHwHVbW0"
      },
      "execution_count": null,
      "outputs": []
    },
    {
      "cell_type": "code",
      "source": [
        "unitsdf.to_csv('units.csv', encoding='utf-8')"
      ],
      "metadata": {
        "id": "Do_cRMUYXX7A"
      },
      "execution_count": null,
      "outputs": []
    },
    {
      "cell_type": "code",
      "source": [
        "path4 = '/content/final'\n",
        "all_files4 = glob.glob(path4 + \"/*.csv\")"
      ],
      "metadata": {
        "id": "4ToaZEWpXpUv"
      },
      "execution_count": null,
      "outputs": []
    },
    {
      "cell_type": "code",
      "source": [
        "all_dfs4 = []\n",
        "for one_filenames in all_files4:\n",
        "    print(f'Loading {one_filenames}')\n",
        "    new_df3 = pd.read_csv(one_filenames,encoding = 'unicode_escape',index_col=None, header =0)\n",
        "    all_dfs4.append(new_df3)"
      ],
      "metadata": {
        "colab": {
          "base_uri": "https://localhost:8080/"
        },
        "id": "0RYQjjAYZ7FF",
        "outputId": "1487732e-7925-41f8-8426-68abc74eb38f"
      },
      "execution_count": null,
      "outputs": [
        {
          "output_type": "stream",
          "name": "stdout",
          "text": [
            "Loading /content/final/transport.csv\n",
            "Loading /content/final/fdatewisetemp.csv\n"
          ]
        }
      ]
    },
    {
      "cell_type": "code",
      "source": [
        "df_final = pd.concat(all_dfs4)"
      ],
      "metadata": {
        "id": "p_0TW-2iaEfa"
      },
      "execution_count": null,
      "outputs": []
    },
    {
      "cell_type": "code",
      "source": [
        "df_final.head"
      ],
      "metadata": {
        "colab": {
          "base_uri": "https://localhost:8080/"
        },
        "id": "tdH3YR-oaJKt",
        "outputId": "b281c5b3-1e9c-4a9d-da86-4d7b557da647"
      },
      "execution_count": null,
      "outputs": [
        {
          "output_type": "execute_result",
          "data": {
            "text/plain": [
              "<bound method NDFrame.head of       Unnamed: 0        Date  No. of Diesel cars  Rainfall (mm)  \\\n",
              "0            0.0   1/13/2019               503.0            NaN   \n",
              "1            1.0   1/14/2019               261.0            NaN   \n",
              "2            2.0   1/15/2019               246.0            NaN   \n",
              "3            3.0   1/16/2019               257.0            NaN   \n",
              "4            4.0   1/17/2019               835.0            NaN   \n",
              "...          ...         ...                 ...            ...   \n",
              "1180         NaN  2022-09-26                 NaN          569.4   \n",
              "1181         NaN  2022-09-27                 NaN         8635.7   \n",
              "1182         NaN  2022-09-28                 NaN         1543.9   \n",
              "1183         NaN  2022-09-29                 NaN         7090.8   \n",
              "1184         NaN  2022-09-30                 NaN         6259.2   \n",
              "\n",
              "      temp_min (Ã¢ÂÂ°C)  temp_max (Ã¢ÂÂ°C)  Humidity_max (%)  \\\n",
              "0                    NaN                 NaN               NaN   \n",
              "1                    NaN                 NaN               NaN   \n",
              "2                    NaN                 NaN               NaN   \n",
              "3                    NaN                 NaN               NaN   \n",
              "4                    NaN                 NaN               NaN   \n",
              "...                  ...                 ...               ...   \n",
              "1180             13716.7             19937.1           58136.7   \n",
              "1181             13570.7             19818.7           58533.3   \n",
              "1182             14036.9             19418.2           58622.0   \n",
              "1183             13772.7             19511.9           58748.9   \n",
              "1184             13647.0             18696.4           58734.1   \n",
              "\n",
              "      wind_speed_min (Kmph)  wind_speed_max (Kmph)  \n",
              "0                       NaN                    NaN  \n",
              "1                       NaN                    NaN  \n",
              "2                       NaN                    NaN  \n",
              "3                       NaN                    NaN  \n",
              "4                       NaN                    NaN  \n",
              "...                     ...                    ...  \n",
              "1180                    2.8                 3818.7  \n",
              "1181                    4.4                 4469.6  \n",
              "1182                    0.8                 4030.0  \n",
              "1183                    2.1                 4301.6  \n",
              "1184                    8.9                 4344.2  \n",
              "\n",
              "[2612 rows x 9 columns]>"
            ]
          },
          "metadata": {},
          "execution_count": 64
        }
      ]
    },
    {
      "cell_type": "code",
      "source": [
        "df_final['No. of Diesel cars'].fillna(df_final['temp_max (Ã¢ÂÂ°C)'] / 2, inplace=True)"
      ],
      "metadata": {
        "id": "AqPTHba6ghPx"
      },
      "execution_count": null,
      "outputs": []
    },
    {
      "cell_type": "code",
      "source": [
        "df_final.to_csv('df_h.csv', encoding='utf-8')"
      ],
      "metadata": {
        "id": "HO99JRbHiW0h"
      },
      "execution_count": null,
      "outputs": []
    },
    {
      "cell_type": "code",
      "source": [
        "df_final.dropna(subset=['temp_max (Ã¢ÂÂ°C)'], inplace=True)\n"
      ],
      "metadata": {
        "id": "-F_mnMoNiEDo"
      },
      "execution_count": null,
      "outputs": []
    },
    {
      "cell_type": "code",
      "source": [
        "df_final.head"
      ],
      "metadata": {
        "colab": {
          "base_uri": "https://localhost:8080/"
        },
        "id": "g0liav6YiK3r",
        "outputId": "3ac1398a-93f0-4efa-c59d-7d57250f33f9"
      },
      "execution_count": null,
      "outputs": [
        {
          "output_type": "execute_result",
          "data": {
            "text/plain": [
              "<bound method NDFrame.head of       Unnamed: 0        Date  No. of Diesel cars  Rainfall (mm)  \\\n",
              "0            NaN  2019-01-01                 0.0            0.0   \n",
              "1            NaN  2019-01-02                 0.0            0.0   \n",
              "2            NaN  2019-01-03                 0.0            0.0   \n",
              "3            NaN  2019-01-04                 0.0            0.0   \n",
              "4            NaN  2019-01-05                 0.0            0.0   \n",
              "...          ...         ...                 ...            ...   \n",
              "1180         NaN  2022-09-26                 0.0          569.4   \n",
              "1181         NaN  2022-09-27                 0.0         8635.7   \n",
              "1182         NaN  2022-09-28                 0.0         1543.9   \n",
              "1183         NaN  2022-09-29                 0.0         7090.8   \n",
              "1184         NaN  2022-09-30                 0.0         6259.2   \n",
              "\n",
              "      temp_min (Ã¢ÂÂ°C)  temp_max (Ã¢ÂÂ°C)  Humidity_max (%)  \\\n",
              "0                 9870.8             27283.0           75293.9   \n",
              "1                10415.0             28959.7           76838.1   \n",
              "2                12135.6             30230.5           82172.1   \n",
              "3                12834.3             30488.8           82802.0   \n",
              "4                13841.7             29725.0           86275.8   \n",
              "...                  ...                 ...               ...   \n",
              "1180             13716.7             19937.1           58136.7   \n",
              "1181             13570.7             19818.7           58533.3   \n",
              "1182             14036.9             19418.2           58622.0   \n",
              "1183             13772.7             19511.9           58748.9   \n",
              "1184             13647.0             18696.4           58734.1   \n",
              "\n",
              "      wind_speed_min (Kmph)  wind_speed_max (Kmph)  \n",
              "0                      32.3                 5490.8  \n",
              "1                      33.0                 6089.2  \n",
              "2                      15.4                 4962.5  \n",
              "3                       9.7                 4872.7  \n",
              "4                      39.2                 6329.3  \n",
              "...                     ...                    ...  \n",
              "1180                    2.8                 3818.7  \n",
              "1181                    4.4                 4469.6  \n",
              "1182                    0.8                 4030.0  \n",
              "1183                    2.1                 4301.6  \n",
              "1184                    8.9                 4344.2  \n",
              "\n",
              "[1185 rows x 9 columns]>"
            ]
          },
          "metadata": {},
          "execution_count": 80
        }
      ]
    },
    {
      "cell_type": "code",
      "source": [
        "profile3 =ProfileReport(df_final, title='Panda Profiling Reportf', explorative=True)"
      ],
      "metadata": {
        "id": "j_zxVeHxaOb-"
      },
      "execution_count": null,
      "outputs": []
    },
    {
      "cell_type": "code",
      "source": [
        "profile3.to_file(\"outputf.html\")"
      ],
      "metadata": {
        "colab": {
          "base_uri": "https://localhost:8080/",
          "height": 1000,
          "referenced_widgets": [
            "008fd440cf4242639e8c212b4de39ce7",
            "bdd71b73087c439d96df5282b5eea3c2",
            "26fd5349ca694e4789178218b690410e",
            "014e760608184b22bd43fbd1429e83df",
            "2631d0c732bb4e3cb5e8e67048ceb4d1",
            "c53d7d63238042478d7c0aee67fea163",
            "05eb18aff7574423a629c44b270951e6",
            "79ff4eb73dea4cf48c90dfe8c1d41d32",
            "1e2c981acea14bc28a8e1488533b299c",
            "2af5d14156304b05b1268f0a5c47be8f",
            "e422993e00c74d7b928eeb183b19b626",
            "d6af539ac5b842d89d9f631f1c8c3aef",
            "b116dbb595ef483e98d00a8c79a2ca84",
            "14fc4b2bde7b46d0b378135705115f66",
            "1a9208fd1fb94e94a7f1e35154278769",
            "f52f121292e94d3d8e200f92c66e9b10",
            "98d3db972e4041bca136208c5a5d591a",
            "20be300af2d4476bb01bdd98f5c88843",
            "1f6bc89a7a9047978aec3ccd99a80266",
            "21502b3289164458bc196e54d8ec8c5c",
            "f9a99d4a128a4b5fb64f53327724668a",
            "37b62795df7d4c16adbf99140d545a6d",
            "ec0b2d3dcdee415092e9ddaf7c691b0a",
            "4df1df1b7935402f93120cd38af2e2a8",
            "725ba194dc4b4aa68b8119525c461fe3",
            "9eedb31f934648d289cf55449b84f5a6",
            "6de655ea46b246bab1603216d7448f35",
            "9ae672025f7841d28afdda53e9ca9e2c",
            "7d326e63045649e1a3be0b6d1fc49e3b",
            "5298b346b34545ca80031d440d051a01",
            "eea84944d5154a8a82c0c73973aaeb75",
            "17f0df912f7e41419fe56fd18e7230e0",
            "fa7fcdee718e4dee8a72179f1cd4ffd2",
            "66d39dbce7ce4fc4847733f5cb1516e6",
            "3b86cb071ed043a5818dee7c30535470",
            "0291ef20543c47baa1b32cd65320ea99",
            "5bdd891590514b32ab5e2dc328a513ec",
            "851cc499285c4da597e88a0075d4152f",
            "97dd63ea484749f995b6218c81af6320",
            "f89a6de03d704f4b867ba507ec4676c7",
            "faf0e44ef91242afaa4a4472139dcd67",
            "45ffda865cf543b9a9338c8a74c7ffc1",
            "58c59dcfeb5143e3a4b7a6e8fd5f6157",
            "a037c54aaa2a4c9ab2172771232a10de"
          ]
        },
        "id": "NIaWDlDpa_Wr",
        "outputId": "f7179219-5788-48e3-92f6-9eb9faca9136"
      },
      "execution_count": null,
      "outputs": [
        {
          "output_type": "display_data",
          "data": {
            "text/plain": [
              "Summarize dataset:   0%|          | 0/5 [00:00<?, ?it/s]"
            ],
            "application/vnd.jupyter.widget-view+json": {
              "version_major": 2,
              "version_minor": 0,
              "model_id": "008fd440cf4242639e8c212b4de39ce7"
            }
          },
          "metadata": {}
        },
        {
          "output_type": "stream",
          "name": "stderr",
          "text": [
            "/usr/local/lib/python3.8/dist-packages/scipy/stats/stats.py:4484: SpearmanRConstantInputWarning: An input array is constant; the correlation coefficient is not defined.\n",
            "  warnings.warn(SpearmanRConstantInputWarning())\n",
            "/usr/local/lib/python3.8/dist-packages/ydata_profiling/visualisation/utils.py:73: UserWarning: Glyph 129 (\\x81) missing from current font.\n",
            "  plt.savefig(\n",
            "/usr/local/lib/python3.8/dist-packages/ydata_profiling/visualisation/utils.py:73: UserWarning: Glyph 129 (\\x81) missing from current font.\n",
            "  plt.savefig(\n",
            "/usr/local/lib/python3.8/dist-packages/ydata_profiling/visualisation/utils.py:73: UserWarning: Glyph 129 (\\x81) missing from current font.\n",
            "  plt.savefig(\n",
            "/usr/local/lib/python3.8/dist-packages/ydata_profiling/visualisation/utils.py:73: UserWarning: Glyph 129 (\\x81) missing from current font.\n",
            "  plt.savefig(\n",
            "/usr/local/lib/python3.8/dist-packages/ydata_profiling/visualisation/utils.py:73: UserWarning: Glyph 129 (\\x81) missing from current font.\n",
            "  plt.savefig(\n",
            "/usr/local/lib/python3.8/dist-packages/ydata_profiling/visualisation/utils.py:73: UserWarning: Glyph 129 (\\x81) missing from current font.\n",
            "  plt.savefig(\n",
            "/usr/local/lib/python3.8/dist-packages/ydata_profiling/visualisation/utils.py:73: UserWarning: Glyph 129 (\\x81) missing from current font.\n",
            "  plt.savefig(\n",
            "/usr/local/lib/python3.8/dist-packages/ydata_profiling/visualisation/utils.py:73: UserWarning: Glyph 129 (\\x81) missing from current font.\n",
            "  plt.savefig(\n",
            "/usr/local/lib/python3.8/dist-packages/ydata_profiling/visualisation/utils.py:73: UserWarning: Glyph 129 (\\x81) missing from current font.\n",
            "  plt.savefig(\n",
            "/usr/local/lib/python3.8/dist-packages/ydata_profiling/visualisation/utils.py:73: UserWarning: Glyph 129 (\\x81) missing from current font.\n",
            "  plt.savefig(\n",
            "/usr/local/lib/python3.8/dist-packages/ydata_profiling/visualisation/utils.py:73: UserWarning: Glyph 129 (\\x81) missing from current font.\n",
            "  plt.savefig(\n",
            "/usr/local/lib/python3.8/dist-packages/ydata_profiling/visualisation/utils.py:73: UserWarning: Glyph 129 (\\x81) missing from current font.\n",
            "  plt.savefig(\n",
            "/usr/local/lib/python3.8/dist-packages/ydata_profiling/visualisation/utils.py:73: UserWarning: Glyph 129 (\\x81) missing from current font.\n",
            "  plt.savefig(\n",
            "/usr/local/lib/python3.8/dist-packages/ydata_profiling/visualisation/utils.py:73: UserWarning: Glyph 129 (\\x81) missing from current font.\n",
            "  plt.savefig(\n",
            "/usr/local/lib/python3.8/dist-packages/ydata_profiling/visualisation/utils.py:73: UserWarning: Glyph 129 (\\x81) missing from current font.\n",
            "  plt.savefig(\n",
            "/usr/local/lib/python3.8/dist-packages/ydata_profiling/visualisation/utils.py:73: UserWarning: Glyph 129 (\\x81) missing from current font.\n",
            "  plt.savefig(\n",
            "/usr/local/lib/python3.8/dist-packages/ydata_profiling/visualisation/utils.py:73: UserWarning: Glyph 129 (\\x81) missing from current font.\n",
            "  plt.savefig(\n",
            "/usr/local/lib/python3.8/dist-packages/ydata_profiling/visualisation/utils.py:73: UserWarning: Glyph 129 (\\x81) missing from current font.\n",
            "  plt.savefig(\n",
            "/usr/local/lib/python3.8/dist-packages/ydata_profiling/visualisation/utils.py:73: UserWarning: Glyph 129 (\\x81) missing from current font.\n",
            "  plt.savefig(\n",
            "/usr/local/lib/python3.8/dist-packages/ydata_profiling/visualisation/utils.py:73: UserWarning: Glyph 129 (\\x81) missing from current font.\n",
            "  plt.savefig(\n",
            "/usr/local/lib/python3.8/dist-packages/ydata_profiling/visualisation/utils.py:73: UserWarning: Glyph 129 (\\x81) missing from current font.\n",
            "  plt.savefig(\n",
            "/usr/local/lib/python3.8/dist-packages/ydata_profiling/visualisation/utils.py:73: UserWarning: Glyph 129 (\\x81) missing from current font.\n",
            "  plt.savefig(\n",
            "/usr/local/lib/python3.8/dist-packages/ydata_profiling/visualisation/utils.py:73: UserWarning: Glyph 129 (\\x81) missing from current font.\n",
            "  plt.savefig(\n",
            "/usr/local/lib/python3.8/dist-packages/ydata_profiling/visualisation/utils.py:73: UserWarning: Glyph 129 (\\x81) missing from current font.\n",
            "  plt.savefig(\n",
            "/usr/local/lib/python3.8/dist-packages/ydata_profiling/visualisation/utils.py:73: UserWarning: Glyph 129 (\\x81) missing from current font.\n",
            "  plt.savefig(\n",
            "/usr/local/lib/python3.8/dist-packages/ydata_profiling/visualisation/utils.py:73: UserWarning: Glyph 129 (\\x81) missing from current font.\n",
            "  plt.savefig(\n",
            "/usr/local/lib/python3.8/dist-packages/ydata_profiling/visualisation/utils.py:73: UserWarning: Glyph 129 (\\x81) missing from current font.\n",
            "  plt.savefig(\n",
            "/usr/local/lib/python3.8/dist-packages/ydata_profiling/visualisation/utils.py:73: UserWarning: Glyph 129 (\\x81) missing from current font.\n",
            "  plt.savefig(\n",
            "/usr/local/lib/python3.8/dist-packages/ydata_profiling/visualisation/utils.py:73: UserWarning: Glyph 129 (\\x81) missing from current font.\n",
            "  plt.savefig(\n",
            "/usr/local/lib/python3.8/dist-packages/ydata_profiling/visualisation/utils.py:73: UserWarning: Glyph 129 (\\x81) missing from current font.\n",
            "  plt.savefig(\n",
            "/usr/local/lib/python3.8/dist-packages/seaborn/utils.py:95: UserWarning: Glyph 129 (\\x81) missing from current font.\n",
            "  fig.canvas.draw()\n",
            "/usr/local/lib/python3.8/dist-packages/ydata_profiling/visualisation/utils.py:73: UserWarning: Glyph 129 (\\x81) missing from current font.\n",
            "  plt.savefig(\n"
          ]
        },
        {
          "output_type": "display_data",
          "data": {
            "text/plain": [
              "Generate report structure:   0%|          | 0/1 [00:00<?, ?it/s]"
            ],
            "application/vnd.jupyter.widget-view+json": {
              "version_major": 2,
              "version_minor": 0,
              "model_id": "d6af539ac5b842d89d9f631f1c8c3aef"
            }
          },
          "metadata": {}
        },
        {
          "output_type": "stream",
          "name": "stderr",
          "text": [
            "/usr/local/lib/python3.8/dist-packages/ydata_profiling/visualisation/utils.py:73: UserWarning: Glyph 129 (\\x81) missing from current font.\n",
            "  plt.savefig(\n"
          ]
        },
        {
          "output_type": "display_data",
          "data": {
            "text/plain": [
              "Render HTML:   0%|          | 0/1 [00:00<?, ?it/s]"
            ],
            "application/vnd.jupyter.widget-view+json": {
              "version_major": 2,
              "version_minor": 0,
              "model_id": "ec0b2d3dcdee415092e9ddaf7c691b0a"
            }
          },
          "metadata": {}
        },
        {
          "output_type": "display_data",
          "data": {
            "text/plain": [
              "Export report to file:   0%|          | 0/1 [00:00<?, ?it/s]"
            ],
            "application/vnd.jupyter.widget-view+json": {
              "version_major": 2,
              "version_minor": 0,
              "model_id": "66d39dbce7ce4fc4847733f5cb1516e6"
            }
          },
          "metadata": {}
        }
      ]
    },
    {
      "cell_type": "code",
      "source": [
        "path6 = '/content/fh.csv'\n",
        "df_fh = pd.read_csv(path6,encoding = 'unicode_escape',index_col=None, header =0)"
      ],
      "metadata": {
        "id": "8Fz36LGnd1zk"
      },
      "execution_count": null,
      "outputs": []
    },
    {
      "cell_type": "code",
      "source": [
        "profile_fh =ProfileReport(df_fh, title='Panda Profiling Reportf', explorative=True)"
      ],
      "metadata": {
        "id": "uc1GxAdt6U_V"
      },
      "execution_count": null,
      "outputs": []
    },
    {
      "cell_type": "code",
      "source": [
        "profile_fh.to_file(\"output_fh.html\")"
      ],
      "metadata": {
        "colab": {
          "base_uri": "https://localhost:8080/",
          "height": 1000,
          "referenced_widgets": [
            "65c88e5364cc4b6798be0de588f34ac4",
            "32a0fb94c06f4692a901d30f9f370278",
            "6917f86606b248ce8d0e837848b27290",
            "38954fc3ba9a4f458a9afc28641e674f",
            "f71c675ea26648fe8320c4ce4eaae1c7",
            "db92107b1d3246e0ad4b177763d30af5",
            "b41dc4151aaf41b59415945591bc0ec8",
            "7dd7b68ccac242bd9e8e995a7680caa0",
            "4e470c8c7bd743e5ac723d4ddee16cc3",
            "ee0db08a93da4edcb53f1cf4fff62643",
            "02e91c1adae14a2cb70fbf4f148dc1e8",
            "3e7b3c0ee78347da97d263d507438c35",
            "ab7a81b1f2554ee28d2bc3a6681ec813",
            "0cb1ec82a57e4276914292266d1b8416",
            "066edd001f4341dfae799c3878c06130",
            "65cade14598746ff86f030e684d31a3a",
            "76718457885f4021bd84805bdecbc70f",
            "3b96981c51e943b798c19953be3668ec",
            "f3f3cd38e5ed4b03b5cd3e864e05c5ef",
            "a1c8d6a6d7414741b06484e2e7b81ce5",
            "3d013e7e4e1946dd97550d8ad40a20a7",
            "6c14211574d942dbb9c6b9cda4a4c334",
            "75f11c3a64d64773ac195eb388a957c2",
            "d054b0b32b40475eac6dc6b23da71159",
            "d1554c657e2140468c353267b83cde23",
            "44b00b0bdcfd4620ad2f1d292d83e8e4",
            "966cde29edeb43809af157efdb20d599",
            "e847c57f7bca4713a05159678292fd47",
            "973b3d151094443c8d566f4db2f5b654",
            "2b96b87279484ad599084009e7f486f9",
            "ac67e4f5ea35412e989e26e4ece97a15",
            "372f10b9daaf42679d41137daf104b04",
            "54f4a3d01dc84bae82023579cfd3cf6c",
            "bf45596ed47342c5ae0c8ed7418e0351",
            "58123b19dcec402d9e1270fa8ce9e612",
            "08d64346f01d489888d199963f5f9933",
            "3fe76cc93cb340239f4ac0c9947bf2d1",
            "afb50228481c44e7bca656da00515369",
            "2c1db5ddb8b24a07a5c7a9ecefe1fa4a",
            "2080e4a3524d459498a997513b9b0213",
            "e9c867f55bb54d7db311c75b90cb0d8c",
            "7a15b6a187de4473bf0fc369c97a3bf5",
            "5103d45cd0604e4b8a121ddb9b02a6a7",
            "6771046b136044d89b4c67518b04d109"
          ]
        },
        "id": "nKxuUasr6P3-",
        "outputId": "58d2230a-855c-4d31-eeeb-3405567bbe6f"
      },
      "execution_count": null,
      "outputs": [
        {
          "output_type": "display_data",
          "data": {
            "text/plain": [
              "Summarize dataset:   0%|          | 0/5 [00:00<?, ?it/s]"
            ],
            "application/vnd.jupyter.widget-view+json": {
              "version_major": 2,
              "version_minor": 0,
              "model_id": "65c88e5364cc4b6798be0de588f34ac4"
            }
          },
          "metadata": {}
        },
        {
          "output_type": "stream",
          "name": "stderr",
          "text": [
            "/usr/local/lib/python3.8/dist-packages/ydata_profiling/visualisation/utils.py:73: UserWarning: Glyph 129 (\\x81) missing from current font.\n",
            "  plt.savefig(\n",
            "/usr/local/lib/python3.8/dist-packages/ydata_profiling/visualisation/utils.py:73: UserWarning: Glyph 129 (\\x81) missing from current font.\n",
            "  plt.savefig(\n",
            "/usr/local/lib/python3.8/dist-packages/ydata_profiling/visualisation/utils.py:73: UserWarning: Glyph 129 (\\x81) missing from current font.\n",
            "  plt.savefig(\n",
            "/usr/local/lib/python3.8/dist-packages/ydata_profiling/visualisation/utils.py:73: UserWarning: Glyph 129 (\\x81) missing from current font.\n",
            "  plt.savefig(\n",
            "/usr/local/lib/python3.8/dist-packages/ydata_profiling/visualisation/utils.py:73: UserWarning: Glyph 129 (\\x81) missing from current font.\n",
            "  plt.savefig(\n",
            "/usr/local/lib/python3.8/dist-packages/ydata_profiling/visualisation/utils.py:73: UserWarning: Glyph 129 (\\x81) missing from current font.\n",
            "  plt.savefig(\n",
            "/usr/local/lib/python3.8/dist-packages/ydata_profiling/visualisation/utils.py:73: UserWarning: Glyph 129 (\\x81) missing from current font.\n",
            "  plt.savefig(\n",
            "/usr/local/lib/python3.8/dist-packages/ydata_profiling/visualisation/utils.py:73: UserWarning: Glyph 129 (\\x81) missing from current font.\n",
            "  plt.savefig(\n",
            "/usr/local/lib/python3.8/dist-packages/ydata_profiling/visualisation/utils.py:73: UserWarning: Glyph 129 (\\x81) missing from current font.\n",
            "  plt.savefig(\n",
            "/usr/local/lib/python3.8/dist-packages/ydata_profiling/visualisation/utils.py:73: UserWarning: Glyph 129 (\\x81) missing from current font.\n",
            "  plt.savefig(\n",
            "/usr/local/lib/python3.8/dist-packages/ydata_profiling/visualisation/utils.py:73: UserWarning: Glyph 129 (\\x81) missing from current font.\n",
            "  plt.savefig(\n",
            "/usr/local/lib/python3.8/dist-packages/ydata_profiling/visualisation/utils.py:73: UserWarning: Glyph 129 (\\x81) missing from current font.\n",
            "  plt.savefig(\n",
            "/usr/local/lib/python3.8/dist-packages/ydata_profiling/visualisation/utils.py:73: UserWarning: Glyph 129 (\\x81) missing from current font.\n",
            "  plt.savefig(\n",
            "/usr/local/lib/python3.8/dist-packages/ydata_profiling/visualisation/utils.py:73: UserWarning: Glyph 129 (\\x81) missing from current font.\n",
            "  plt.savefig(\n",
            "/usr/local/lib/python3.8/dist-packages/ydata_profiling/visualisation/utils.py:73: UserWarning: Glyph 129 (\\x81) missing from current font.\n",
            "  plt.savefig(\n",
            "/usr/local/lib/python3.8/dist-packages/ydata_profiling/visualisation/utils.py:73: UserWarning: Glyph 129 (\\x81) missing from current font.\n",
            "  plt.savefig(\n",
            "/usr/local/lib/python3.8/dist-packages/ydata_profiling/visualisation/utils.py:73: UserWarning: Glyph 129 (\\x81) missing from current font.\n",
            "  plt.savefig(\n",
            "/usr/local/lib/python3.8/dist-packages/ydata_profiling/visualisation/utils.py:73: UserWarning: Glyph 129 (\\x81) missing from current font.\n",
            "  plt.savefig(\n",
            "/usr/local/lib/python3.8/dist-packages/ydata_profiling/visualisation/utils.py:73: UserWarning: Glyph 129 (\\x81) missing from current font.\n",
            "  plt.savefig(\n",
            "/usr/local/lib/python3.8/dist-packages/ydata_profiling/visualisation/utils.py:73: UserWarning: Glyph 129 (\\x81) missing from current font.\n",
            "  plt.savefig(\n",
            "/usr/local/lib/python3.8/dist-packages/ydata_profiling/visualisation/utils.py:73: UserWarning: Glyph 129 (\\x81) missing from current font.\n",
            "  plt.savefig(\n",
            "/usr/local/lib/python3.8/dist-packages/ydata_profiling/visualisation/utils.py:73: UserWarning: Glyph 129 (\\x81) missing from current font.\n",
            "  plt.savefig(\n",
            "/usr/local/lib/python3.8/dist-packages/ydata_profiling/visualisation/utils.py:73: UserWarning: Glyph 129 (\\x81) missing from current font.\n",
            "  plt.savefig(\n",
            "/usr/local/lib/python3.8/dist-packages/ydata_profiling/visualisation/utils.py:73: UserWarning: Glyph 129 (\\x81) missing from current font.\n",
            "  plt.savefig(\n",
            "/usr/local/lib/python3.8/dist-packages/ydata_profiling/visualisation/utils.py:73: UserWarning: Glyph 129 (\\x81) missing from current font.\n",
            "  plt.savefig(\n",
            "/usr/local/lib/python3.8/dist-packages/ydata_profiling/visualisation/utils.py:73: UserWarning: Glyph 129 (\\x81) missing from current font.\n",
            "  plt.savefig(\n"
          ]
        },
        {
          "output_type": "display_data",
          "data": {
            "text/plain": [
              "Generate report structure:   0%|          | 0/1 [00:00<?, ?it/s]"
            ],
            "application/vnd.jupyter.widget-view+json": {
              "version_major": 2,
              "version_minor": 0,
              "model_id": "3e7b3c0ee78347da97d263d507438c35"
            }
          },
          "metadata": {}
        },
        {
          "output_type": "stream",
          "name": "stderr",
          "text": [
            "/usr/local/lib/python3.8/dist-packages/ydata_profiling/visualisation/utils.py:73: UserWarning: Glyph 129 (\\x81) missing from current font.\n",
            "  plt.savefig(\n"
          ]
        },
        {
          "output_type": "display_data",
          "data": {
            "text/plain": [
              "Render HTML:   0%|          | 0/1 [00:00<?, ?it/s]"
            ],
            "application/vnd.jupyter.widget-view+json": {
              "version_major": 2,
              "version_minor": 0,
              "model_id": "75f11c3a64d64773ac195eb388a957c2"
            }
          },
          "metadata": {}
        },
        {
          "output_type": "display_data",
          "data": {
            "text/plain": [
              "Export report to file:   0%|          | 0/1 [00:00<?, ?it/s]"
            ],
            "application/vnd.jupyter.widget-view+json": {
              "version_major": 2,
              "version_minor": 0,
              "model_id": "bf45596ed47342c5ae0c8ed7418e0351"
            }
          },
          "metadata": {}
        }
      ]
    },
    {
      "cell_type": "code",
      "source": [
        "from sklearn.decomposition import PCA\n",
        "from sklearn.ensemble import RandomForestClassifier\n",
        "from sklearn.model_selection import TimeSeriesSplit, GridSearchCV\n",
        "from sklearn.metrics import accuracy_score"
      ],
      "metadata": {
        "id": "bpQrJC8d6a7G"
      },
      "execution_count": null,
      "outputs": []
    },
    {
      "cell_type": "code",
      "source": [
        "df_fh.isnull().any()"
      ],
      "metadata": {
        "colab": {
          "base_uri": "https://localhost:8080/"
        },
        "id": "-RZIH8xe_jrn",
        "outputId": "d89d754d-090a-44f1-b69f-09b3cd69a220"
      },
      "execution_count": null,
      "outputs": [
        {
          "output_type": "execute_result",
          "data": {
            "text/plain": [
              "Date                     False\n",
              "Rainfall (mm)            False\n",
              "temp_min (Ã¢ÂÂ°C)       False\n",
              "temp_max (Ã¢ÂÂ°C)       False\n",
              "Humidity_max (%)         False\n",
              "wind_speed_min (Kmph)    False\n",
              "wind_speed_max (Kmph)     True\n",
              "Unnamed: 7                True\n",
              "dtype: bool"
            ]
          },
          "metadata": {},
          "execution_count": 116
        }
      ]
    },
    {
      "cell_type": "code",
      "source": [
        "from sklearn.tree import DecisionTreeRegressor\n",
        "\n",
        "\n",
        "\n",
        "\n",
        "# Replace null values in column 1 with mean of non-null values\n",
        "mean_col1 = np.mean(df_fh['wind_speed_max (Kmph)'][df_fh['wind_speed_max (Kmph)'].notnull()])\n",
        "df_fh['wind_speed_max (Kmph)'].fillna(mean_col1, inplace=True)\n",
        "\n",
        "# Replace null values in column 2 with median of non-null values\n",
        "median_col2 = np.median(df_fh['Unnamed: 7'][df_fh['Unnamed: 7'].notnull()])\n",
        "df_fh['Unnamed: 7'].fillna(median_col2, inplace=True)\n",
        "\n",
        "# Split the dataset into input (X) and target (y) variables\n",
        "X = df_fh.drop('temp_max (Ã¢ÂÂ°C)', axis=1)\n",
        "y = df_fh['temp_max (Ã¢ÂÂ°C)']\n",
        "\n",
        "# Initialize the decision tree regressor\n",
        "dt_regressor = DecisionTreeRegressor()\n",
        "\n",
        "# Train the decision tree regressor on the dataset\n",
        "dt_regressor.fit(X, y)\n",
        "\n",
        "\n",
        "\n",
        "\n",
        "\n"
      ],
      "metadata": {
        "colab": {
          "base_uri": "https://localhost:8080/"
        },
        "id": "04VE3HmS-wYL",
        "outputId": "296f6acf-8eb2-406e-f59b-0b3ca09368d9"
      },
      "execution_count": null,
      "outputs": [
        {
          "output_type": "execute_result",
          "data": {
            "text/plain": [
              "DecisionTreeRegressor()"
            ]
          },
          "metadata": {},
          "execution_count": 121
        }
      ]
    },
    {
      "cell_type": "code",
      "source": [
        "\n",
        "from sklearn.tree import DecisionTreeRegressor\n",
        "from sklearn.model_selection import train_test_split\n",
        "from sklearn.metrics import mean_squared_error\n",
        "from sklearn.model_selection import GridSearchCV\n",
        "\n",
        "\n",
        "\n",
        "X = df_fh.drop('temp_max (Ã¢ÂÂ°C)', axis=1)\n",
        "y = df_fh['temp_max (Ã¢ÂÂ°C)']\n",
        "\n",
        "\n",
        "# Split the dataset into training, development, and testing sets\n",
        "X_train, X_test, y_train, y_test = train_test_split(X, y, test_size=0.3, random_state=42)\n",
        "X_dev, X_test, y_dev, y_test = train_test_split(X_test, y_test, test_size=0.5, random_state=42)\n",
        "\n",
        "# Initialize the decision tree regressor\n",
        "dt_regressor = DecisionTreeRegressor()\n",
        "\n",
        "# Define the hyperparameters to tune and their respective values\n",
        "params = {'max_depth': [5, 10, 15, None],\n",
        "          'min_samples_split': [2, 5, 10],\n",
        "          'min_samples_leaf': [1, 2, 4]}\n",
        "\n",
        "# Use grid search to find the best hyperparameters on the development set\n",
        "grid_search = GridSearchCV(dt_regressor, param_grid=params, cv=5)\n",
        "grid_search.fit(X_dev, y_dev)\n",
        "\n",
        "# Perform correlation analysis to identify highly correlated features\n",
        "corr_matrix = df_fh.corr().abs()\n",
        "highly_correlated_features = np.where(corr_matrix > 0.7)\n",
        "highly_correlated_features = [(corr_matrix.columns[x], corr_matrix.columns[y]) for x, y in zip(*highly_correlated_features) if x != y]\n",
        "\n",
        "# Perform PCA to identify principal components and their explained variance\n",
        "pca = PCA()\n",
        "pca.fit(X)\n",
        "variance_ratio = pca.explained_variance_ratio_\n",
        "principal_components = pca.components_\n",
        "\n",
        "\n",
        "\n",
        "# Perform hyperparameter tuning using grid search with time series split\n",
        "param_grid = {'max_depth': [3, 5, 10],\n",
        "              'n_estimators': [50, 100, 200]}\n",
        "tscv = TimeSeriesSplit(n_splits=5)\n",
        "'''grid_search = GridSearchCV(rf, param_grid, cv=tscv)\n",
        "grid_search.fit(X, y)'''\n",
        "best_params = grid_search.best_params_\n",
        "best_score = grid_search.best_score_\n",
        "best_estimator=grid_search.best_estimator_\n",
        "# Print the best hyperparameters\n",
        "print(\"Best hyperparameters:\", grid_search.best_params_)\n",
        "print('Highly correlated features:', highly_correlated_features)\n",
        "print('Explained variance ratio:', variance_ratio)\n",
        "print('Principal components:', principal_components)\n",
        "print('best estimator:',best_estimator)\n",
        "\n",
        "print('Best cross-validation score:', best_score)\n",
        "\n",
        "# Train the decision tree regressor on the training set with the best hyperparameters\n",
        "dt_regressor = DecisionTreeRegressor(**grid_search.best_params_)\n",
        "dt_regressor.fit(X_train, y_train)\n",
        "\n",
        "# Use the trained decision tree regressor to make predictions on the test set\n",
        "y_pred = dt_regressor.predict(X_test)\n",
        "\n",
        "rmse = np.sqrt(mean_squared_error(y_test, y_pred))\n",
        "print('RMSE:', rmse)\n"
      ],
      "metadata": {
        "colab": {
          "base_uri": "https://localhost:8080/"
        },
        "id": "b2wm1xiwDp4Q",
        "outputId": "43321ca8-3fbe-4435-c5db-a8ed02958021"
      },
      "execution_count": null,
      "outputs": [
        {
          "output_type": "stream",
          "name": "stdout",
          "text": [
            "Best hyperparameters: {'max_depth': 10, 'min_samples_leaf': 1, 'min_samples_split': 10}\n",
            "Highly correlated features: [('temp_max (Ã¢Â\\x81Â°C)', 'Humidity_max (%)'), ('Humidity_max (%)', 'temp_max (Ã¢Â\\x81Â°C)')]\n",
            "Explained variance ratio: [9.98013663e-01 9.66998437e-04 5.62766870e-04 3.22757229e-04\n",
            " 6.81730152e-05 5.43974057e-05 1.11973529e-05 4.71091065e-08]\n",
            "Principal components: [[-1.00218196e-03  9.02171877e-04 -3.03160976e-03  1.25290910e-04\n",
            "  -1.20613973e-04  9.99994474e-01  1.10435064e-04 -7.24677517e-06]\n",
            " [-2.69687820e-01  1.07641706e-01 -9.54377210e-01 -4.02224704e-02\n",
            "  -5.58161258e-02 -3.26351339e-03  1.00962215e-02 -1.14428860e-04]\n",
            " [-1.81460925e-01 -1.56649832e-01 -1.98020780e-02 -7.34082986e-02\n",
            "   9.67815715e-01  2.43535031e-05  9.19012112e-03  3.80003123e-04]\n",
            " [ 9.24481137e-01  1.97360964e-01 -2.51471660e-01  4.38200105e-03\n",
            "   2.00964686e-01  1.55508178e-05 -5.23380688e-02 -2.96569751e-05]\n",
            " [ 1.88850804e-01 -9.55382914e-01 -1.49939101e-01 -9.87681855e-02\n",
            "  -1.29301485e-01  5.99046698e-04 -5.11792598e-02 -1.85050466e-03]\n",
            " [-9.03778301e-03 -1.03639572e-01 -5.41102536e-02  9.91526740e-01\n",
            "   5.55735164e-02 -1.97777244e-04  5.93633954e-03  5.16375793e-04]\n",
            " [-6.26648988e-02  3.77301276e-02  1.07313874e-02  9.67002858e-03\n",
            "   4.78602532e-03  4.50054963e-05 -9.96977436e-01 -2.13063415e-02]\n",
            " [-9.15727486e-04 -8.33018883e-04 -1.30068255e-04 -4.65421377e-04\n",
            "  -5.34320291e-04  9.03613901e-06 -2.13484902e-02  9.99771069e-01]]\n",
            "best estimator: DecisionTreeRegressor(max_depth=10, min_samples_split=10)\n",
            "Best cross-validation score: 0.7333708958048913\n",
            "RMSE: 1.7257091396896966\n"
          ]
        }
      ]
    },
    {
      "cell_type": "code",
      "source": [
        "newdf_fh=df_fh.drop(['Humidity_max (%)'], axis=1)"
      ],
      "metadata": {
        "id": "d9-1P6StJstk"
      },
      "execution_count": null,
      "outputs": []
    },
    {
      "cell_type": "code",
      "source": [
        "corr_matrix = newdf_fh.corr()\n",
        "corr_with_target = corr_matrix['temp_max (Ã¢ÂÂ°C)']\n",
        "\n",
        "# Print the results in descending order\n",
        "print(corr_with_target.sort_values(ascending=False))"
      ],
      "metadata": {
        "colab": {
          "base_uri": "https://localhost:8080/"
        },
        "id": "ofZTb0_cLLvX",
        "outputId": "8bde9780-49df-45ce-849c-6de3d3e6510a"
      },
      "execution_count": null,
      "outputs": [
        {
          "output_type": "stream",
          "name": "stdout",
          "text": [
            "temp_max (Ã¢ÂÂ°C)       1.000000\n",
            "temp_min (Ã¢ÂÂ°C)       0.433399\n",
            "wind_speed_max (Kmph)    0.218358\n",
            "Unnamed: 7               0.130871\n",
            "heatwave                 0.009040\n",
            "wind_speed_min (Kmph)   -0.177936\n",
            "Rainfall (mm)           -0.355507\n",
            "Name: temp_max (Ã¢ÂÂ°C), dtype: float64\n"
          ]
        }
      ]
    },
    {
      "cell_type": "code",
      "source": [
        "# Calculate the temperature difference\n",
        "delta_temp = df_fh['temp_max (Ã¢ÂÂ°C)'].diff()\n",
        "\n",
        "# Set the value of heatwave based on delta_temp\n",
        "df_fh['heatwave'] = (delta_temp >= 4).astype(int)\n",
        "\n",
        "# Replace the NaN value in the first row of heatwave with 0\n",
        "df_fh.loc[df_fh.index[7], 'heatwave'] = 0\n",
        "\n"
      ],
      "metadata": {
        "id": "JyJh0X0MVRs7"
      },
      "execution_count": null,
      "outputs": []
    },
    {
      "cell_type": "code",
      "source": [
        "# Calculate the temperature difference\n",
        "delta_temp = newdf_fh['temp_max (Ã¢ÂÂ°C)'].diff()\n",
        "\n",
        "# Set the value of heatwave based on delta_temp\n",
        "newdf_fh['heatwave'] = (delta_temp >= 4).astype(int)\n",
        "\n",
        "# Replace the NaN value in the first row of heatwave with 0\n",
        "newdf_fh.loc[newdf_fh.index[8], 'heatwave'] = 0\n",
        "newdf_fh.to_csv('data_with_heatwave.csv', index=False)"
      ],
      "metadata": {
        "colab": {
          "base_uri": "https://localhost:8080/"
        },
        "id": "1sneFzlUUkJ1",
        "outputId": "185790d8-6973-48df-fd1c-8b2af12ffa0d"
      },
      "execution_count": null,
      "outputs": [
        {
          "output_type": "stream",
          "name": "stderr",
          "text": [
            "<ipython-input-206-1f38492152e9>:5: SettingWithCopyWarning: \n",
            "A value is trying to be set on a copy of a slice from a DataFrame.\n",
            "Try using .loc[row_indexer,col_indexer] = value instead\n",
            "\n",
            "See the caveats in the documentation: https://pandas.pydata.org/pandas-docs/stable/user_guide/indexing.html#returning-a-view-versus-a-copy\n",
            "  newdf_fh['heatwave'] = (delta_temp >= 4).astype(int)\n",
            "/usr/local/lib/python3.8/dist-packages/pandas/core/indexing.py:1817: SettingWithCopyWarning: \n",
            "A value is trying to be set on a copy of a slice from a DataFrame.\n",
            "Try using .loc[row_indexer,col_indexer] = value instead\n",
            "\n",
            "See the caveats in the documentation: https://pandas.pydata.org/pandas-docs/stable/user_guide/indexing.html#returning-a-view-versus-a-copy\n",
            "  self._setitem_single_column(loc, value, pi)\n"
          ]
        }
      ]
    },
    {
      "cell_type": "code",
      "source": [
        "\n",
        "from sklearn.preprocessing import MinMaxScaler\n",
        "from keras.models import Sequential\n",
        "from keras.layers import LSTM, Dense\n",
        "from keras.optimizers import Adam\n",
        "from sklearn.metrics import accuracy_score\n",
        "\n",
        "# Load the dataframe\n",
        "\n",
        "\n",
        "# Add a new column for change in temperature\n",
        "newdf_fh['delta_temp'] = newdf_fh['temp_max (Ã¢ÂÂ°C)'].diff()\n",
        "\n",
        "\n",
        "# Split the dataframe into features and target variable\n",
        "X = newdf_fh.drop(['heatwave'], axis=1)\n",
        "X['delta_temp'] = X['delta_temp'].shift(-1)  # Shift delta_temp one row up\n",
        "X = X.dropna().values\n",
        "y = newdf_fh['heatwave'].iloc[1:].values  # Drop the first row of y\n",
        "\n",
        "# Normalize the features\n",
        "scaler = MinMaxScaler(feature_range=(0, 1))\n",
        "X = scaler.fit_transform(X)\n",
        "\n",
        "# Split the data into training and testing sets\n",
        "train_size = int(len(X) * 0.7)\n",
        "X_train, X_test = X[:train_size, :], X[train_size:, :]\n",
        "y_train, y_test = y[:train_size], y[train_size:]\n",
        "\n",
        "# Reshape the data into 3D for LSTM input\n",
        "X_train = np.reshape(X_train, (X_train.shape[0], 1, X_train.shape[1]))\n",
        "X_test = np.reshape(X_test, (X_test.shape[0], 1, X_test.shape[1]))\n",
        "\n",
        "# Define the LSTM model\n",
        "model = Sequential()\n",
        "model.add(LSTM(units=50, input_shape=(X_train.shape[1], X_train.shape[2]), activation='tanh', return_sequences=True))\n",
        "model.add(LSTM(units=50, activation='tanh'))\n",
        "model.add(Dense(units=1, activation='sigmoid'))\n",
        "\n",
        "# Compile the model\n",
        "optimizer = Adam(learning_rate=0.001)\n",
        "model.compile(optimizer=optimizer, loss='binary_crossentropy', metrics=['accuracy'])\n",
        "\n",
        "# Train the model\n",
        "history = model.fit(X_train, y_train, epochs=50, batch_size=32, validation_data=(X_test, y_test), verbose=1)\n",
        "\n",
        "# Evaluate the model on the test data\n",
        "scores = model.evaluate(X_test, y_test, verbose=0)\n",
        "print(f'Test accuracy: {scores[1]:.3f}')\n",
        "\n",
        "# Make predictions on the test data\n",
        "predict_x=model.predict(X_test) \n",
        "classes_x=np.argmax(predict_x,axis=1)\n",
        "\n",
        "# Calculate the accuracy of the predictions\n",
        "acc = accuracy_score(y_test, classes_x)\n",
        "print(f'Test accuracy: {acc:.3f}')\n",
        "\n",
        "rmse = np.sqrt(mean_squared_error(y_test, classes_x))\n",
        "print('RMSE:', rmse)"
      ],
      "metadata": {
        "colab": {
          "base_uri": "https://localhost:8080/"
        },
        "id": "L0BFG1YgU630",
        "outputId": "b03e8f96-6524-4330-fc6b-2f45d86863ab"
      },
      "execution_count": null,
      "outputs": [
        {
          "output_type": "stream",
          "name": "stderr",
          "text": [
            "<ipython-input-207-5b9f6aa9e772>:11: SettingWithCopyWarning: \n",
            "A value is trying to be set on a copy of a slice from a DataFrame.\n",
            "Try using .loc[row_indexer,col_indexer] = value instead\n",
            "\n",
            "See the caveats in the documentation: https://pandas.pydata.org/pandas-docs/stable/user_guide/indexing.html#returning-a-view-versus-a-copy\n",
            "  newdf_fh['delta_temp'] = newdf_fh['temp_max (Ã¢ÂÂ°C)'].diff()\n"
          ]
        },
        {
          "output_type": "stream",
          "name": "stdout",
          "text": [
            "Epoch 1/50\n",
            "21/21 [==============================] - 7s 95ms/step - loss: 0.6638 - accuracy: 0.9121 - val_loss: 0.6252 - val_accuracy: 0.9894\n",
            "Epoch 2/50\n",
            "21/21 [==============================] - 0s 11ms/step - loss: 0.5570 - accuracy: 0.9939 - val_loss: 0.4858 - val_accuracy: 0.9894\n",
            "Epoch 3/50\n",
            "21/21 [==============================] - 0s 12ms/step - loss: 0.3536 - accuracy: 0.9939 - val_loss: 0.2536 - val_accuracy: 0.9894\n",
            "Epoch 4/50\n",
            "21/21 [==============================] - 0s 12ms/step - loss: 0.1382 - accuracy: 0.9939 - val_loss: 0.1034 - val_accuracy: 0.9894\n",
            "Epoch 5/50\n",
            "21/21 [==============================] - 0s 13ms/step - loss: 0.0579 - accuracy: 0.9939 - val_loss: 0.0727 - val_accuracy: 0.9894\n",
            "Epoch 6/50\n",
            "21/21 [==============================] - 0s 11ms/step - loss: 0.0458 - accuracy: 0.9939 - val_loss: 0.0675 - val_accuracy: 0.9894\n",
            "Epoch 7/50\n",
            "21/21 [==============================] - 0s 11ms/step - loss: 0.0434 - accuracy: 0.9939 - val_loss: 0.0664 - val_accuracy: 0.9894\n",
            "Epoch 8/50\n",
            "21/21 [==============================] - 0s 12ms/step - loss: 0.0426 - accuracy: 0.9939 - val_loss: 0.0660 - val_accuracy: 0.9894\n",
            "Epoch 9/50\n",
            "21/21 [==============================] - 0s 12ms/step - loss: 0.0422 - accuracy: 0.9939 - val_loss: 0.0658 - val_accuracy: 0.9894\n",
            "Epoch 10/50\n",
            "21/21 [==============================] - 0s 9ms/step - loss: 0.0420 - accuracy: 0.9939 - val_loss: 0.0655 - val_accuracy: 0.9894\n",
            "Epoch 11/50\n",
            "21/21 [==============================] - 0s 7ms/step - loss: 0.0418 - accuracy: 0.9939 - val_loss: 0.0651 - val_accuracy: 0.9894\n",
            "Epoch 12/50\n",
            "21/21 [==============================] - 0s 7ms/step - loss: 0.0415 - accuracy: 0.9939 - val_loss: 0.0648 - val_accuracy: 0.9894\n",
            "Epoch 13/50\n",
            "21/21 [==============================] - 0s 7ms/step - loss: 0.0414 - accuracy: 0.9939 - val_loss: 0.0645 - val_accuracy: 0.9894\n",
            "Epoch 14/50\n",
            "21/21 [==============================] - 0s 7ms/step - loss: 0.0410 - accuracy: 0.9939 - val_loss: 0.0643 - val_accuracy: 0.9894\n",
            "Epoch 15/50\n",
            "21/21 [==============================] - 0s 7ms/step - loss: 0.0408 - accuracy: 0.9939 - val_loss: 0.0642 - val_accuracy: 0.9894\n",
            "Epoch 16/50\n",
            "21/21 [==============================] - 0s 7ms/step - loss: 0.0409 - accuracy: 0.9939 - val_loss: 0.0635 - val_accuracy: 0.9894\n",
            "Epoch 17/50\n",
            "21/21 [==============================] - 0s 8ms/step - loss: 0.0405 - accuracy: 0.9939 - val_loss: 0.0634 - val_accuracy: 0.9894\n",
            "Epoch 18/50\n",
            "21/21 [==============================] - 0s 7ms/step - loss: 0.0402 - accuracy: 0.9939 - val_loss: 0.0630 - val_accuracy: 0.9894\n",
            "Epoch 19/50\n",
            "21/21 [==============================] - 0s 7ms/step - loss: 0.0401 - accuracy: 0.9939 - val_loss: 0.0626 - val_accuracy: 0.9894\n",
            "Epoch 20/50\n",
            "21/21 [==============================] - 0s 7ms/step - loss: 0.0398 - accuracy: 0.9939 - val_loss: 0.0624 - val_accuracy: 0.9894\n",
            "Epoch 21/50\n",
            "21/21 [==============================] - 0s 7ms/step - loss: 0.0397 - accuracy: 0.9939 - val_loss: 0.0623 - val_accuracy: 0.9894\n",
            "Epoch 22/50\n",
            "21/21 [==============================] - 0s 7ms/step - loss: 0.0396 - accuracy: 0.9939 - val_loss: 0.0616 - val_accuracy: 0.9894\n",
            "Epoch 23/50\n",
            "21/21 [==============================] - 0s 7ms/step - loss: 0.0392 - accuracy: 0.9939 - val_loss: 0.0614 - val_accuracy: 0.9894\n",
            "Epoch 24/50\n",
            "21/21 [==============================] - 0s 7ms/step - loss: 0.0389 - accuracy: 0.9939 - val_loss: 0.0612 - val_accuracy: 0.9894\n",
            "Epoch 25/50\n",
            "21/21 [==============================] - 0s 7ms/step - loss: 0.0390 - accuracy: 0.9939 - val_loss: 0.0605 - val_accuracy: 0.9894\n",
            "Epoch 26/50\n",
            "21/21 [==============================] - 0s 7ms/step - loss: 0.0385 - accuracy: 0.9939 - val_loss: 0.0603 - val_accuracy: 0.9894\n",
            "Epoch 27/50\n",
            "21/21 [==============================] - 0s 7ms/step - loss: 0.0382 - accuracy: 0.9939 - val_loss: 0.0602 - val_accuracy: 0.9894\n",
            "Epoch 28/50\n",
            "21/21 [==============================] - 0s 7ms/step - loss: 0.0382 - accuracy: 0.9939 - val_loss: 0.0599 - val_accuracy: 0.9894\n",
            "Epoch 29/50\n",
            "21/21 [==============================] - 0s 10ms/step - loss: 0.0379 - accuracy: 0.9939 - val_loss: 0.0595 - val_accuracy: 0.9894\n",
            "Epoch 30/50\n",
            "21/21 [==============================] - 0s 8ms/step - loss: 0.0376 - accuracy: 0.9939 - val_loss: 0.0589 - val_accuracy: 0.9894\n",
            "Epoch 31/50\n",
            "21/21 [==============================] - 0s 7ms/step - loss: 0.0375 - accuracy: 0.9939 - val_loss: 0.0587 - val_accuracy: 0.9894\n",
            "Epoch 32/50\n",
            "21/21 [==============================] - 0s 7ms/step - loss: 0.0372 - accuracy: 0.9939 - val_loss: 0.0581 - val_accuracy: 0.9894\n",
            "Epoch 33/50\n",
            "21/21 [==============================] - 0s 7ms/step - loss: 0.0369 - accuracy: 0.9939 - val_loss: 0.0578 - val_accuracy: 0.9894\n",
            "Epoch 34/50\n",
            "21/21 [==============================] - 0s 7ms/step - loss: 0.0366 - accuracy: 0.9939 - val_loss: 0.0574 - val_accuracy: 0.9894\n",
            "Epoch 35/50\n",
            "21/21 [==============================] - 0s 7ms/step - loss: 0.0366 - accuracy: 0.9939 - val_loss: 0.0575 - val_accuracy: 0.9894\n",
            "Epoch 36/50\n",
            "21/21 [==============================] - 0s 7ms/step - loss: 0.0362 - accuracy: 0.9939 - val_loss: 0.0565 - val_accuracy: 0.9894\n",
            "Epoch 37/50\n",
            "21/21 [==============================] - 0s 7ms/step - loss: 0.0359 - accuracy: 0.9939 - val_loss: 0.0561 - val_accuracy: 0.9894\n",
            "Epoch 38/50\n",
            "21/21 [==============================] - 0s 7ms/step - loss: 0.0357 - accuracy: 0.9939 - val_loss: 0.0561 - val_accuracy: 0.9894\n",
            "Epoch 39/50\n",
            "21/21 [==============================] - 0s 7ms/step - loss: 0.0355 - accuracy: 0.9939 - val_loss: 0.0551 - val_accuracy: 0.9894\n",
            "Epoch 40/50\n",
            "21/21 [==============================] - 0s 7ms/step - loss: 0.0349 - accuracy: 0.9939 - val_loss: 0.0546 - val_accuracy: 0.9894\n",
            "Epoch 41/50\n",
            "21/21 [==============================] - 0s 7ms/step - loss: 0.0346 - accuracy: 0.9939 - val_loss: 0.0545 - val_accuracy: 0.9894\n",
            "Epoch 42/50\n",
            "21/21 [==============================] - 0s 7ms/step - loss: 0.0345 - accuracy: 0.9939 - val_loss: 0.0542 - val_accuracy: 0.9894\n",
            "Epoch 43/50\n",
            "21/21 [==============================] - 0s 7ms/step - loss: 0.0340 - accuracy: 0.9939 - val_loss: 0.0533 - val_accuracy: 0.9894\n",
            "Epoch 44/50\n",
            "21/21 [==============================] - 0s 7ms/step - loss: 0.0338 - accuracy: 0.9939 - val_loss: 0.0526 - val_accuracy: 0.9894\n",
            "Epoch 45/50\n",
            "21/21 [==============================] - 0s 7ms/step - loss: 0.0335 - accuracy: 0.9939 - val_loss: 0.0521 - val_accuracy: 0.9894\n",
            "Epoch 46/50\n",
            "21/21 [==============================] - 0s 8ms/step - loss: 0.0332 - accuracy: 0.9939 - val_loss: 0.0521 - val_accuracy: 0.9894\n",
            "Epoch 47/50\n",
            "21/21 [==============================] - 0s 7ms/step - loss: 0.0330 - accuracy: 0.9939 - val_loss: 0.0512 - val_accuracy: 0.9894\n",
            "Epoch 48/50\n",
            "21/21 [==============================] - 0s 7ms/step - loss: 0.0325 - accuracy: 0.9939 - val_loss: 0.0509 - val_accuracy: 0.9894\n",
            "Epoch 49/50\n",
            "21/21 [==============================] - 0s 8ms/step - loss: 0.0329 - accuracy: 0.9939 - val_loss: 0.0515 - val_accuracy: 0.9894\n",
            "Epoch 50/50\n",
            "21/21 [==============================] - 0s 7ms/step - loss: 0.0317 - accuracy: 0.9939 - val_loss: 0.0496 - val_accuracy: 0.9894\n",
            "Test accuracy: 0.989\n",
            "9/9 [==============================] - 1s 3ms/step\n",
            "Test accuracy: 0.989\n",
            "RMSE: 0.10277830647412975\n"
          ]
        }
      ]
    },
    {
      "cell_type": "code",
      "source": [],
      "metadata": {
        "id": "OPKi46j1pxrT"
      },
      "execution_count": null,
      "outputs": []
    }
  ]
}